{
 "cells": [
  {
   "cell_type": "markdown",
   "id": "3880208b",
   "metadata": {},
   "source": [
    "# Python Hand Recognize Gesture Volume Control"
   ]
  },
  {
   "cell_type": "code",
   "execution_count": 3,
   "id": "48a54d0a",
   "metadata": {
    "ExecuteTime": {
     "end_time": "2023-12-27T21:37:39.979237Z",
     "start_time": "2023-12-27T21:37:27.883324Z"
    }
   },
   "outputs": [
    {
     "name": "stderr",
     "output_type": "stream",
     "text": [
      "Exception ignored in: <function _compointer_base.__del__ at 0x000001E864F2B1A0>\n",
      "Traceback (most recent call last):\n",
      "  File \"C:\\Users\\dell\\anaconda3\\Lib\\site-packages\\comtypes\\__init__.py\", line 614, in __del__\n",
      "    self.Release()\n",
      "  File \"C:\\Users\\dell\\anaconda3\\Lib\\site-packages\\comtypes\\__init__.py\", line 847, in Release\n",
      "    return self.__com_Release()\n",
      "           ^^^^^^^^^^^^^^^^^^^^\n",
      "OSError: exception: access violation reading 0xFFFFFFFFFFFFFFFF\n"
     ]
    },
    {
     "name": "stdout",
     "output_type": "stream",
     "text": [
      "Distance between the two points = 8\n",
      "Distance between the two points = 11\n",
      "Distance between the two points = 11\n",
      "Distance between the two points = 9\n",
      "Distance between the two points = 7\n",
      "Distance between the two points = 8\n",
      "Distance between the two points = 8\n",
      "Distance between the two points = 8\n"
     ]
    },
    {
     "name": "stderr",
     "output_type": "stream",
     "text": [
      "Exception ignored in: <function _compointer_base.__del__ at 0x000001E864F2B1A0>\n",
      "Traceback (most recent call last):\n",
      "  File \"C:\\Users\\dell\\anaconda3\\Lib\\site-packages\\comtypes\\__init__.py\", line 614, in __del__\n",
      "    self.Release()\n",
      "  File \"C:\\Users\\dell\\anaconda3\\Lib\\site-packages\\comtypes\\__init__.py\", line 847, in Release\n",
      "    return self.__com_Release()\n",
      "           ^^^^^^^^^^^^^^^^^^^^\n",
      "OSError: [WinError -529697949] Windows Error 0xe06d7363\n",
      "Exception ignored in: <function _compointer_base.__del__ at 0x000001E864F2B1A0>\n",
      "Traceback (most recent call last):\n",
      "  File \"C:\\Users\\dell\\anaconda3\\Lib\\site-packages\\comtypes\\__init__.py\", line 614, in __del__\n",
      "    self.Release()\n",
      "  File \"C:\\Users\\dell\\anaconda3\\Lib\\site-packages\\comtypes\\__init__.py\", line 847, in Release\n",
      "    return self.__com_Release()\n",
      "           ^^^^^^^^^^^^^^^^^^^^\n",
      "OSError: exception: access violation reading 0xFFFFFFFFFFFFFFFF\n",
      "Exception ignored in: <function _compointer_base.__del__ at 0x000001E864F2B1A0>\n",
      "Traceback (most recent call last):\n",
      "  File \"C:\\Users\\dell\\anaconda3\\Lib\\site-packages\\comtypes\\__init__.py\", line 614, in __del__\n",
      "    self.Release()\n",
      "  File \"C:\\Users\\dell\\anaconda3\\Lib\\site-packages\\comtypes\\__init__.py\", line 847, in Release\n",
      "    return self.__com_Release()\n",
      "           ^^^^^^^^^^^^^^^^^^^^\n",
      "OSError: exception: access violation reading 0xFFFFFFFFFFFFFFFF\n"
     ]
    },
    {
     "name": "stdout",
     "output_type": "stream",
     "text": [
      "Distance between the two points = 16\n",
      "Distance between the two points = 19\n",
      "Distance between the two points = 19\n",
      "Distance between the two points = 18\n",
      "Distance between the two points = 10\n",
      "Distance between the two points = 11\n"
     ]
    },
    {
     "ename": "error",
     "evalue": "Unknown C++ exception from OpenCV code",
     "output_type": "error",
     "traceback": [
      "\u001b[1;31m---------------------------------------------------------------------------\u001b[0m",
      "\u001b[1;31merror\u001b[0m                                     Traceback (most recent call last)",
      "Cell \u001b[1;32mIn[3], line 23\u001b[0m\n\u001b[0;32m     19\u001b[0m \u001b[38;5;28;01mtry\u001b[39;00m:\n\u001b[0;32m     22\u001b[0m     \u001b[38;5;28;01mwhile\u001b[39;00m \u001b[38;5;28;01mTrue\u001b[39;00m:\n\u001b[1;32m---> 23\u001b[0m         success, img \u001b[38;5;241m=\u001b[39m cap\u001b[38;5;241m.\u001b[39mread()\n\u001b[0;32m     24\u001b[0m         imgRGB \u001b[38;5;241m=\u001b[39m cv2\u001b[38;5;241m.\u001b[39mcvtColor(img, cv2\u001b[38;5;241m.\u001b[39mCOLOR_BGR2RGB)\n\u001b[0;32m     25\u001b[0m         results \u001b[38;5;241m=\u001b[39m hands\u001b[38;5;241m.\u001b[39mprocess(imgRGB)\n",
      "\u001b[1;31merror\u001b[0m: Unknown C++ exception from OpenCV code"
     ]
    }
   ],
   "source": [
    "import cv2\n",
    "import mediapipe as mp\n",
    "import numpy as np\n",
    "import time\n",
    "import math\n",
    "from ctypes import cast, POINTER\n",
    "from comtypes import CLSCTX_ALL\n",
    "from pycaw.pycaw import AudioUtilities, IAudioEndpointVolume\n",
    "\n",
    "\n",
    "cap = cv2.VideoCapture(0)\n",
    "\n",
    "mpHands = mp.solutions.hands\n",
    "hands = mpHands.Hands()\n",
    "mpDraw = mp.solutions.drawing_utils\n",
    "\n",
    "cTime = 0\n",
    "pTime = 0\n",
    "\n",
    "while True:\n",
    "    success, img = cap.read()\n",
    "    imgRGB = cv2.cvtColor(img, cv2.COLOR_BGR2RGB)\n",
    "    results = hands.process(imgRGB)\n",
    "    \n",
    "    if results.multi_hand_landmarks:\n",
    "        for handLms in results.multi_hand_landmarks:\n",
    "            # Extract the landmarks\n",
    "            distance = 1\n",
    "            landmarks = handLms.landmark\n",
    "            \n",
    "            # Get the coordinates of landmarks at indices 8 and 4\n",
    "            x8, y8 = landmarks[8].x, landmarks[8].y\n",
    "            x4, y4 = landmarks[4].x, landmarks[4].y\n",
    "            \n",
    "            # Calculate the Euclidean distance between the two points\n",
    "            distance += int (math.sqrt((x8 - x4)**2 + (y8 - y4)**2) * 100)\n",
    "            \n",
    "            # Print the distance\n",
    "            print (\"Distance between the two points =\", distance)\n",
    "            cv2.putText(img, str(int(distance)), (10, 70), cv2.FONT_HERSHEY_PLAIN, 3, (255, 0, 255), 3)\n",
    "            \n",
    "            \n",
    "            # cv2.line(img,(int(256 - distance),int(256 -distance)),(int(256 + distance),int(256 +distance)), (0, 100, 255), thickness=10)\n",
    "            \n",
    "            devices = AudioUtilities.GetSpeakers()\n",
    "            interface = devices.Activate(IAudioEndpointVolume._iid_, CLSCTX_ALL, None)\n",
    "            volume = cast(interface, POINTER(IAudioEndpointVolume))\n",
    "            # volume.GetMute()\n",
    "            # volume.GetMasterVolumeLevel()\n",
    "            volRange = volume.GetVolumeRange()\n",
    "            minVol = volRange[0]\n",
    "            maxVol = volRange[1]\n",
    "            length = int(distance)\n",
    "            vol = np.interp(length, [0, 100], [minVol, maxVol])\n",
    "            volume.SetMasterVolumeLevel(vol, None)\n",
    "            \n",
    "            # Draw circles at the landmark positions\n",
    "            h, w, c = img.shape\n",
    "            cx8, cy8 = int(x8 * w), int(y8 * h)\n",
    "            cx4, cy4 = int(x4 * w), int(y4 * h)\n",
    "            cv2.circle(img, (cx8, cy8), 10, (255, 0, 0), cv2.FILLED)\n",
    "            cv2.circle(img, (cx4, cy4), 10, (0, 0, 255), cv2.FILLED)\n",
    "\n",
    "            mpDraw.draw_landmarks(img, handLms, mpHands.HAND_CONNECTIONS)\n",
    "\n",
    "    cTime = time.time()\n",
    "    fps = 1 / (cTime - pTime)\n",
    "    pTime = cTime\n",
    "\n",
    "    cv2.imshow(\"Image\", img)\n",
    "    \n",
    "    # Check for the 'Esc' key press\n",
    "    key = cv2.waitKey(1)\n",
    "    if key == 27:  # 27 is the keycode for 'Esc'\n",
    "        break\n",
    "    \n",
    "    \n",
    "cap.release()\n",
    "cv2.destroyAllWindows()\n"
   ]
  },
  {
   "cell_type": "markdown",
   "id": "3acb0a5e",
   "metadata": {},
   "source": [
    "# The Hand Recognize Functions :"
   ]
  },
  {
   "cell_type": "code",
   "execution_count": 1,
   "id": "e475337d",
   "metadata": {
    "ExecuteTime": {
     "end_time": "2024-02-15T20:49:01.636841Z",
     "start_time": "2024-02-15T20:49:00.999607Z"
    }
   },
   "outputs": [
    {
     "ename": "ModuleNotFoundError",
     "evalue": "No module named 'mediapipe'",
     "output_type": "error",
     "traceback": [
      "\u001b[1;31m---------------------------------------------------------------------------\u001b[0m",
      "\u001b[1;31mModuleNotFoundError\u001b[0m                       Traceback (most recent call last)",
      "Cell \u001b[1;32mIn[1], line 2\u001b[0m\n\u001b[0;32m      1\u001b[0m \u001b[38;5;28;01mimport\u001b[39;00m \u001b[38;5;21;01mcv2\u001b[39;00m\n\u001b[1;32m----> 2\u001b[0m \u001b[38;5;28;01mimport\u001b[39;00m \u001b[38;5;21;01mmediapipe\u001b[39;00m \u001b[38;5;28;01mas\u001b[39;00m \u001b[38;5;21;01mmp\u001b[39;00m\n\u001b[0;32m      3\u001b[0m \u001b[38;5;28;01mimport\u001b[39;00m \u001b[38;5;21;01mtime\u001b[39;00m\n\u001b[0;32m      4\u001b[0m \u001b[38;5;28;01mimport\u001b[39;00m \u001b[38;5;21;01mmath\u001b[39;00m\n",
      "\u001b[1;31mModuleNotFoundError\u001b[0m: No module named 'mediapipe'"
     ]
    }
   ],
   "source": [
    "import cv2\n",
    "import mediapipe as mp\n",
    "import time\n",
    "import math\n",
    "\n",
    "cap = cv2.VideoCapture(0)\n",
    "\n",
    "mpHands = mp.solutions.hands\n",
    "hands = mpHands.Hands()\n",
    "mpDraw = mp.solutions.drawing_utils\n",
    "\n",
    "pTime = 0\n",
    "cTime = 0\n",
    "\n",
    "while True:\n",
    "    success, img = cap.read()\n",
    "    imgRGB = cv2.cvtColor(img, cv2.COLOR_BGR2RGB)\n",
    "    results = hands.process(imgRGB)\n",
    "    \n",
    "    if results.multi_hand_landmarks:\n",
    "        for handLms in results.multi_hand_landmarks:\n",
    "            for id, lm in enumerate(handLms.landmark):\n",
    "                h, w, c = img.shape\n",
    "                cx, cy = int(lm.x * w), int(lm.y * h)\n",
    "        landmarks = handLms.landmark\n",
    "            \n",
    "        # Get the coordinates of landmarks at indices 8 and 4\n",
    "        x8, y8 = landmarks[8].x, landmarks[8].y\n",
    "        x4, y4 = landmarks[4].x, landmarks[4].y\n",
    "            \n",
    "        # Calculate the Euclidean distance between the two points\n",
    "        distance = int (math.sqrt((x8 - x4)**2 + (y8 - y4)**2) * 150)\n",
    "        if (distance > 100) :\n",
    "            distance = 100\n",
    "            \n",
    "            \n",
    "        # Draw circles at the landmark positions\n",
    "        h, w, c = img.shape\n",
    "        cx8, cy8 = int(x8 * w), int(y8 * h)\n",
    "        cx4, cy4 = int(x4 * w), int(y4 * h)\n",
    "        \n",
    "        # this part to draw the hand body\n",
    "        mpDraw.draw_landmarks(img, handLms, mpHands.HAND_CONNECTIONS)\n",
    "        cv2.circle(img, (cx8, cy8), 10, (255, 0, 0), cv2.FILLED)\n",
    "        cv2.circle(img, (cx4, cy4), 10, (0, 0, 255), cv2.FILLED)\n",
    "\n",
    "\n",
    "              \n",
    "        # Print the distance\n",
    "        print (\"Distance between the two points =\", distance)\n",
    "        cv2.putText(img, str(int(distance)), (10, 70), cv2.FONT_HERSHEY_PLAIN, 3, (255, 0, 255), 3)\n",
    "        cv2.rectangle(img,(20,100) ,(60,300),(255, 200, 100), 2)\n",
    "        value = 200 - 2 * distance\n",
    "        cv2.rectangle(img,(22,102 + value),(58,298),(255, 0, 0), -1)\n",
    "\n",
    "    cTime = time.time()\n",
    "    fps = 1 / (cTime - pTime)\n",
    "    pTime = cTime\n",
    "\n",
    "    \n",
    "    cv2.imshow(\"Image\", img)\n",
    "    \n",
    "    # Check for the 'Esc' key press\n",
    "    key = cv2.waitKey(1)\n",
    "    if key == 27:  # 27 is the keycode for 'Esc'\n",
    "        break\n",
    "\n",
    "cap.release()\n",
    "cv2.destroyAllWindows()\n"
   ]
  },
  {
   "cell_type": "markdown",
   "id": "c392a267",
   "metadata": {
    "ExecuteTime": {
     "end_time": "2023-12-27T18:26:48.593939Z",
     "start_time": "2023-12-27T18:26:48.589566Z"
    }
   },
   "source": [
    "# The volume functions :"
   ]
  },
  {
   "cell_type": "code",
   "execution_count": 2,
   "id": "19b088ad",
   "metadata": {
    "ExecuteTime": {
     "end_time": "2024-02-15T20:41:06.266112Z",
     "start_time": "2024-02-15T20:41:06.237150Z"
    }
   },
   "outputs": [
    {
     "ename": "ModuleNotFoundError",
     "evalue": "No module named 'comtypes'",
     "output_type": "error",
     "traceback": [
      "\u001b[1;31m---------------------------------------------------------------------------\u001b[0m",
      "\u001b[1;31mModuleNotFoundError\u001b[0m                       Traceback (most recent call last)",
      "Cell \u001b[1;32mIn[2], line 2\u001b[0m\n\u001b[0;32m      1\u001b[0m \u001b[38;5;28;01mfrom\u001b[39;00m \u001b[38;5;21;01mctypes\u001b[39;00m \u001b[38;5;28;01mimport\u001b[39;00m cast, POINTER\n\u001b[1;32m----> 2\u001b[0m \u001b[38;5;28;01mfrom\u001b[39;00m \u001b[38;5;21;01mcomtypes\u001b[39;00m \u001b[38;5;28;01mimport\u001b[39;00m CLSCTX_ALL\n\u001b[0;32m      3\u001b[0m \u001b[38;5;28;01mfrom\u001b[39;00m \u001b[38;5;21;01mpycaw\u001b[39;00m\u001b[38;5;21;01m.\u001b[39;00m\u001b[38;5;21;01mpycaw\u001b[39;00m \u001b[38;5;28;01mimport\u001b[39;00m AudioUtilities, IAudioEndpointVolume\n\u001b[0;32m      5\u001b[0m \u001b[38;5;28;01mfor\u001b[39;00m i \u001b[38;5;129;01min\u001b[39;00m \u001b[38;5;28mrange\u001b[39m(\u001b[38;5;241m101\u001b[39m):\n",
      "\u001b[1;31mModuleNotFoundError\u001b[0m: No module named 'comtypes'"
     ]
    }
   ],
   "source": [
    "from ctypes import cast, POINTER\n",
    "from comtypes import CLSCTX_ALL\n",
    "from pycaw.pycaw import AudioUtilities, IAudioEndpointVolume\n",
    "\n",
    "for i in range(101):\n",
    "    volume_input = i \n",
    "\n",
    "    volume = int(volume_input)\n",
    "    devices = AudioUtilities.GetSpeakers()\n",
    "    interface = devices.Activate(IAudioEndpointVolume._iid_, CLSCTX_ALL, None)\n",
    "    volume_control = cast(interface, POINTER(IAudioEndpointVolume))\n",
    "    \n",
    "    volume_control.SetMasterVolumeLevelScalar(volume / 100.0, None)\n",
    "    for j in range (1000000):\n",
    "        j = j"
   ]
  },
  {
   "cell_type": "code",
   "execution_count": 7,
   "id": "1389d9a2",
   "metadata": {
    "ExecuteTime": {
     "end_time": "2024-02-15T20:43:40.814036Z",
     "start_time": "2024-02-15T20:43:40.382887Z"
    }
   },
   "outputs": [
    {
     "ename": "ModuleNotFoundError",
     "evalue": "No module named 'mediapipe'",
     "output_type": "error",
     "traceback": [
      "\u001b[1;31m---------------------------------------------------------------------------\u001b[0m",
      "\u001b[1;31mModuleNotFoundError\u001b[0m                       Traceback (most recent call last)",
      "Cell \u001b[1;32mIn[7], line 2\u001b[0m\n\u001b[0;32m      1\u001b[0m \u001b[38;5;28;01mimport\u001b[39;00m \u001b[38;5;21;01mcv2\u001b[39;00m\n\u001b[1;32m----> 2\u001b[0m \u001b[38;5;28;01mimport\u001b[39;00m \u001b[38;5;21;01mmediapipe\u001b[39;00m \u001b[38;5;28;01mas\u001b[39;00m \u001b[38;5;21;01mmp\u001b[39;00m\n\u001b[0;32m      3\u001b[0m \u001b[38;5;28;01mimport\u001b[39;00m \u001b[38;5;21;01mtime\u001b[39;00m\n\u001b[0;32m      4\u001b[0m \u001b[38;5;28;01mimport\u001b[39;00m \u001b[38;5;21;01mmath\u001b[39;00m\n",
      "\u001b[1;31mModuleNotFoundError\u001b[0m: No module named 'mediapipe'"
     ]
    }
   ],
   "source": [
    "import cv2\n",
    "import mediapipe as mp\n",
    "import time\n",
    "import math\n",
    "from ctypes import cast, POINTER\n",
    "from comtypes import CLSCTX_ALL\n",
    "from pycaw.pycaw import AudioUtilities, IAudioEndpointVolume\n",
    "\n",
    "\n",
    "cap = cv2.VideoCapture(0)\n",
    "\n",
    "mpHands = mp.solutions.hands\n",
    "hands = mpHands.Hands()\n",
    "mpDraw = mp.solutions.drawing_utils\n",
    "\n",
    "pTime = 0\n",
    "cTime = 0\n",
    "\n",
    "while True:\n",
    "    success, img = cap.read()\n",
    "    imgRGB = cv2.cvtColor(img, cv2.COLOR_BGR2RGB)\n",
    "    results = hands.process(imgRGB)\n",
    "    \n",
    "    if results.multi_hand_landmarks:\n",
    "        for handLms in results.multi_hand_landmarks:\n",
    "            for id, lm in enumerate(handLms.landmark):\n",
    "                h, w, c = img.shape\n",
    "                cx, cy = int(lm.x * w), int(lm.y * h)\n",
    "        landmarks = handLms.landmark\n",
    "            \n",
    "        # Get the coordinates of landmarks at indices 8 and 4\n",
    "        x8, y8 = landmarks[8].x, landmarks[8].y\n",
    "        x4, y4 = landmarks[4].x, landmarks[4].y\n",
    "            \n",
    "        # Calculate the Euclidean distance between the two points\n",
    "        distance = int (math.sqrt((x8 - x4)**2 + (y8 - y4)**2) * 150)\n",
    "        if (distance > 100) :\n",
    "            distance = 100\n",
    "            \n",
    "            \n",
    "        # Draw circles at the landmark positions\n",
    "        h, w, c = img.shape\n",
    "        cx8, cy8 = int(x8 * w), int(y8 * h)\n",
    "        cx4, cy4 = int(x4 * w), int(y4 * h)\n",
    "        \n",
    "        # this part to draw the hand body\n",
    "        mpDraw.draw_landmarks(img, handLms, mpHands.HAND_CONNECTIONS)\n",
    "        cv2.circle(img, (cx8, cy8), 10, (255, 0, 0), cv2.FILLED)\n",
    "        cv2.circle(img, (cx4, cy4), 10, (0, 0, 255), cv2.FILLED)\n",
    "\n",
    "\n",
    "              \n",
    "        # Print the distance\n",
    "        print (\"Distance between the two points =\", distance)\n",
    "        cv2.putText(img, str(int(distance)), (10, 70), cv2.FONT_HERSHEY_PLAIN, 3, (255, 0, 255), 3)\n",
    "        cv2.rectangle(img,(20,100) ,(60,300),(255, 200, 100), 2)\n",
    "        value = 200 - 2 * distance\n",
    "        cv2.rectangle(img,(22,102 + value),(58,298),(255, 0, 0), -1)\n",
    "        \n",
    "        volume = int(distance)\n",
    "        devices = AudioUtilities.GetSpeakers()\n",
    "        interface = devices.Activate(IAudioEndpointVolume._iid_, CLSCTX_ALL, None)\n",
    "        volume_control = cast(interface, POINTER(IAudioEndpointVolume))\n",
    "        volume_control.SetMasterVolumeLevelScalar(volume / 100.0, None)\n",
    "\n",
    "    cTime = time.time()\n",
    "    fps = 1 / (cTime - pTime)\n",
    "    pTime = cTime\n",
    "\n",
    "    \n",
    "    cv2.imshow(\"Image\", img)\n",
    "    \n",
    "    # Check for the 'Esc' key press\n",
    "    key = cv2.waitKey(1)\n",
    "    if key == 27:  # 27 is the keycode for 'Esc'\n",
    "        break\n",
    "\n",
    "cap.release()\n",
    "cv2.destroyAllWindows()\n"
   ]
  }
 ],
 "metadata": {
  "kernelspec": {
   "display_name": "Python 3 (ipykernel)",
   "language": "python",
   "name": "python3"
  },
  "language_info": {
   "codemirror_mode": {
    "name": "ipython",
    "version": 3
   },
   "file_extension": ".py",
   "mimetype": "text/x-python",
   "name": "python",
   "nbconvert_exporter": "python",
   "pygments_lexer": "ipython3",
   "version": "3.11.5"
  },
  "varInspector": {
   "cols": {
    "lenName": 16,
    "lenType": 16,
    "lenVar": 40
   },
   "kernels_config": {
    "python": {
     "delete_cmd_postfix": "",
     "delete_cmd_prefix": "del ",
     "library": "var_list.py",
     "varRefreshCmd": "print(var_dic_list())"
    },
    "r": {
     "delete_cmd_postfix": ") ",
     "delete_cmd_prefix": "rm(",
     "library": "var_list.r",
     "varRefreshCmd": "cat(var_dic_list()) "
    }
   },
   "types_to_exclude": [
    "module",
    "function",
    "builtin_function_or_method",
    "instance",
    "_Feature"
   ],
   "window_display": false
  }
 },
 "nbformat": 4,
 "nbformat_minor": 5
}
