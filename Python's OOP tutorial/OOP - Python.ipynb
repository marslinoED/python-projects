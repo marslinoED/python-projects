{
 "cells": [
  {
   "cell_type": "markdown",
   "id": "fc5b0c90",
   "metadata": {},
   "source": [
    "# Introduction to OOP"
   ]
  },
  {
   "cell_type": "markdown",
   "id": "9a303b95",
   "metadata": {
    "ExecuteTime": {
     "end_time": "2023-11-30T13:01:37.259537Z",
     "start_time": "2023-11-30T13:01:37.253160Z"
    }
   },
   "source": [
    "# <h2>Definition:</h2>\n",
    "<h5 style=\"color:  #8B0000;\">      Explain what Object-Oriented Programming is and why it's important in software development</h5>"
   ]
  },
  {
   "cell_type": "markdown",
   "id": "0c861e17",
   "metadata": {},
   "source": [
    "#### Key Concepts:"
   ]
  },
  {
   "cell_type": "markdown",
   "id": "eec08552",
   "metadata": {},
   "source": [
    "<h4> 1.Classes and Objects : </h4>\n",
    "<h6> a.Class Declaration:</h6>\n",
    "<h8> how to declare a class using the class keyword. </h8>"
   ]
  },
  {
   "cell_type": "code",
   "execution_count": 2,
   "id": "db199b55",
   "metadata": {
    "ExecuteTime": {
     "end_time": "2023-11-30T13:09:55.616281Z",
     "start_time": "2023-11-30T13:09:55.611262Z"
    }
   },
   "outputs": [],
   "source": [
    "class Car:\n",
    "    def __init__(self, make, model):\n",
    "        self.make = make\n",
    "        self.model = model"
   ]
  },
  {
   "cell_type": "markdown",
   "id": "98587d42",
   "metadata": {},
   "source": [
    "<h6> b.Object Instantiation:</h6>\n",
    "<h8> how to create objects from a class.</h8>"
   ]
  },
  {
   "cell_type": "code",
   "execution_count": 17,
   "id": "e57f0a49",
   "metadata": {
    "ExecuteTime": {
     "end_time": "2023-11-30T13:15:28.404620Z",
     "start_time": "2023-11-30T13:15:28.401038Z"
    }
   },
   "outputs": [],
   "source": [
    "my_car = Car(\"Toyota\", \"Camry\")"
   ]
  },
  {
   "cell_type": "markdown",
   "id": "4a6c0460",
   "metadata": {},
   "source": [
    "<h6>c.Attributes and Methods:</h6>\n",
    "<h8> instance variables (attributes) and methods.</h8>"
   ]
  },
  {
   "cell_type": "code",
   "execution_count": 18,
   "id": "3e363939",
   "metadata": {
    "ExecuteTime": {
     "end_time": "2023-11-30T13:15:30.803573Z",
     "start_time": "2023-11-30T13:15:30.797870Z"
    }
   },
   "outputs": [
    {
     "name": "stdout",
     "output_type": "stream",
     "text": [
      "Toyota Camry\n"
     ]
    }
   ],
   "source": [
    "class Car:\n",
    "    def __init__(self, make, model):\n",
    "        self.make = make\n",
    "        self.model = model\n",
    "\n",
    "    def display_info(self):\n",
    "        print(f\"{self.make} {self.model}\")\n",
    "\n",
    "\n",
    "my_car.display_info()"
   ]
  },
  {
   "cell_type": "markdown",
   "id": "2600f6d3",
   "metadata": {
    "ExecuteTime": {
     "end_time": "2023-11-30T13:13:55.098989Z",
     "start_time": "2023-11-30T13:13:55.079577Z"
    }
   },
   "source": [
    "####  2.Encapsulation\n",
    "<h6>a.Private and Public Attributes:</h6>\n",
    "<h8> the use of underscores (_ and __) to indicate attribute visibility.</h8>"
   ]
  },
  {
   "cell_type": "code",
   "execution_count": 20,
   "id": "9c391dfe",
   "metadata": {
    "ExecuteTime": {
     "end_time": "2023-11-30T13:17:59.036330Z",
     "start_time": "2023-11-30T13:17:59.032054Z"
    }
   },
   "outputs": [],
   "source": [
    "class Student:\n",
    "    def __init__(self, name, age):\n",
    "        self._name = name\n",
    "        self.__age = age"
   ]
  },
  {
   "cell_type": "markdown",
   "id": "55dd66f8",
   "metadata": {},
   "source": [
    "###### b.Getter and Setter Methods:\n",
    "<h8> the use of methods to access and modify private attributes.</h8>"
   ]
  },
  {
   "cell_type": "code",
   "execution_count": 21,
   "id": "5f447752",
   "metadata": {
    "ExecuteTime": {
     "end_time": "2023-11-30T13:18:52.175517Z",
     "start_time": "2023-11-30T13:18:52.168242Z"
    }
   },
   "outputs": [],
   "source": [
    "class Student:\n",
    "    def __init__(self, name, age):\n",
    "        self._name = name\n",
    "        self.__age = age\n",
    "\n",
    "    def get_age(self):\n",
    "        return self.__age\n",
    "\n",
    "    def set_age(self, new_age):\n",
    "        if new_age > 0:\n",
    "            self.__age = new_age"
   ]
  },
  {
   "cell_type": "markdown",
   "id": "43af91b8",
   "metadata": {},
   "source": [
    "#### 3. Inheritance\n",
    "<h6>a.Creating Subclasses:</h6>\n",
    "<h8> how to create a subclass that inherits from a base class.</h8>"
   ]
  },
  {
   "cell_type": "code",
   "execution_count": 22,
   "id": "7282b720",
   "metadata": {
    "ExecuteTime": {
     "end_time": "2023-11-30T13:20:33.320199Z",
     "start_time": "2023-11-30T13:20:33.315582Z"
    }
   },
   "outputs": [],
   "source": [
    "class ElectricCar(Car):\n",
    "    def __init__(self, make, model, battery_capacity):\n",
    "        super().__init__(make, model)\n",
    "        self.battery_capacity = battery_capacity"
   ]
  },
  {
   "cell_type": "markdown",
   "id": "b162caff",
   "metadata": {},
   "source": [
    "###### b.Overriding Methods:\n",
    "<h8> how to override methods in the subclass.</h8>"
   ]
  },
  {
   "cell_type": "code",
   "execution_count": 23,
   "id": "0eb0628e",
   "metadata": {
    "ExecuteTime": {
     "end_time": "2023-11-30T13:21:29.988036Z",
     "start_time": "2023-11-30T13:21:29.983235Z"
    }
   },
   "outputs": [],
   "source": [
    "class ElectricCar(Car):\n",
    "    def display_info(self):\n",
    "        print(f\"{self.make} {self.model} (Electric)\")"
   ]
  },
  {
   "cell_type": "markdown",
   "id": "8bc05896",
   "metadata": {},
   "source": [
    "#### 5. Polymorphism ####\n",
    "###### Method Overloading: ######\n",
    "<h8>  how to create multiple methods with the same name but different parameters. </h8> "
   ]
  },
  {
   "cell_type": "code",
   "execution_count": 24,
   "id": "e9deff81",
   "metadata": {
    "ExecuteTime": {
     "end_time": "2023-11-30T13:23:41.903412Z",
     "start_time": "2023-11-30T13:23:41.899160Z"
    }
   },
   "outputs": [],
   "source": [
    "class MathOperations:\n",
    "    def add(self, x, y):\n",
    "        return x + y\n",
    "\n",
    "    def add(self, x, y, z):\n",
    "        return x + y + z"
   ]
  },
  {
   "cell_type": "markdown",
   "id": "75de8698",
   "metadata": {},
   "source": [
    "###### Operator Overloading:\n",
    "<h8>Demonstrate how to define custom behavior for operators.</h8>"
   ]
  },
  {
   "cell_type": "code",
   "execution_count": 25,
   "id": "0e841690",
   "metadata": {
    "ExecuteTime": {
     "end_time": "2023-11-30T13:24:15.172530Z",
     "start_time": "2023-11-30T13:24:15.167264Z"
    }
   },
   "outputs": [],
   "source": [
    "class Point:\n",
    "    def __init__(self, x, y):\n",
    "        self.x = x\n",
    "        self.y = y\n",
    "\n",
    "    def __add__(self, other):\n",
    "        return Point(self.x + other.x, self.y + other.y)"
   ]
  },
  {
   "cell_type": "markdown",
   "id": "4c016dae",
   "metadata": {},
   "source": [
    "<h4> Summary: </h4>\n",
    "<h6 style=\"color:  #8B0000;\">      Recap the key concepts of OOP in Python </h6>\n",
    "<h4> Next Steps:</h4>\n",
    "<h6 style=\"color: #8B0000;\"> practice and explore more advanced OOP concepts. </h6>"
   ]
  },
  {
   "cell_type": "code",
   "execution_count": null,
   "id": "ed4eae89",
   "metadata": {},
   "outputs": [],
   "source": []
  }
 ],
 "metadata": {
  "kernelspec": {
   "display_name": "Python 3 (ipykernel)",
   "language": "python",
   "name": "python3"
  },
  "language_info": {
   "codemirror_mode": {
    "name": "ipython",
    "version": 3
   },
   "file_extension": ".py",
   "mimetype": "text/x-python",
   "name": "python",
   "nbconvert_exporter": "python",
   "pygments_lexer": "ipython3",
   "version": "3.11.5"
  }
 },
 "nbformat": 4,
 "nbformat_minor": 5
}
