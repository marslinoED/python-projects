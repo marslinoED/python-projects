{
 "cells": [
  {
   "cell_type": "markdown",
   "id": "480e8cf0",
   "metadata": {},
   "source": [
    "<h2 style=\"color:DARKRED\" align=\"center\">Implement Neural Network (or Logistic Regression) From Scratch</h2>"
   ]
  },
  {
   "cell_type": "markdown",
   "id": "b18b5dd9",
   "metadata": {},
   "source": [
    "<h4 style=\"color:blue\">Predicting if a person would buy life insurnace based on his age using logistic regression</h4>"
   ]
  },
  {
   "cell_type": "markdown",
   "id": "19c87bc2",
   "metadata": {},
   "source": [
    "Above is a binary logistic regression problem as there are only two possible outcomes (i.e. if person buys insurance or he/she doesn't). "
   ]
  },
  {
   "cell_type": "code",
   "execution_count": 1,
   "id": "2d5dcc30",
   "metadata": {
    "ExecuteTime": {
     "end_time": "2024-02-04T00:31:37.162984Z",
     "start_time": "2024-02-04T00:31:28.757025Z"
    }
   },
   "outputs": [
    {
     "name": "stdout",
     "output_type": "stream",
     "text": [
      "WARNING:tensorflow:From E:\\SETUP\\Anaconda\\Lib\\site-packages\\keras\\src\\losses.py:2976: The name tf.losses.sparse_softmax_cross_entropy is deprecated. Please use tf.compat.v1.losses.sparse_softmax_cross_entropy instead.\n",
      "\n"
     ]
    }
   ],
   "source": [
    "import warnings\n",
    "warnings.filterwarnings(\"ignore\")\n",
    "import numpy as np\n",
    "import tensorflow as tf\n",
    "from tensorflow import keras\n",
    "import pandas as pd\n",
    "from matplotlib import pyplot as plt"
   ]
  },
  {
   "cell_type": "code",
   "execution_count": 2,
   "id": "01cdfb9f",
   "metadata": {
    "ExecuteTime": {
     "end_time": "2024-02-04T00:31:37.185091Z",
     "start_time": "2024-02-04T00:31:37.165979Z"
    }
   },
   "outputs": [
    {
     "data": {
      "text/html": [
       "<div>\n",
       "<style scoped>\n",
       "    .dataframe tbody tr th:only-of-type {\n",
       "        vertical-align: middle;\n",
       "    }\n",
       "\n",
       "    .dataframe tbody tr th {\n",
       "        vertical-align: top;\n",
       "    }\n",
       "\n",
       "    .dataframe thead th {\n",
       "        text-align: right;\n",
       "    }\n",
       "</style>\n",
       "<table border=\"1\" class=\"dataframe\">\n",
       "  <thead>\n",
       "    <tr style=\"text-align: right;\">\n",
       "      <th></th>\n",
       "      <th>age</th>\n",
       "      <th>affordibility</th>\n",
       "      <th>bought_insurance</th>\n",
       "    </tr>\n",
       "  </thead>\n",
       "  <tbody>\n",
       "    <tr>\n",
       "      <th>0</th>\n",
       "      <td>22</td>\n",
       "      <td>1</td>\n",
       "      <td>0</td>\n",
       "    </tr>\n",
       "    <tr>\n",
       "      <th>1</th>\n",
       "      <td>25</td>\n",
       "      <td>0</td>\n",
       "      <td>0</td>\n",
       "    </tr>\n",
       "    <tr>\n",
       "      <th>2</th>\n",
       "      <td>47</td>\n",
       "      <td>1</td>\n",
       "      <td>1</td>\n",
       "    </tr>\n",
       "    <tr>\n",
       "      <th>3</th>\n",
       "      <td>52</td>\n",
       "      <td>0</td>\n",
       "      <td>0</td>\n",
       "    </tr>\n",
       "    <tr>\n",
       "      <th>4</th>\n",
       "      <td>46</td>\n",
       "      <td>1</td>\n",
       "      <td>1</td>\n",
       "    </tr>\n",
       "  </tbody>\n",
       "</table>\n",
       "</div>"
      ],
      "text/plain": [
       "   age  affordibility  bought_insurance\n",
       "0   22              1                 0\n",
       "1   25              0                 0\n",
       "2   47              1                 1\n",
       "3   52              0                 0\n",
       "4   46              1                 1"
      ]
     },
     "execution_count": 2,
     "metadata": {},
     "output_type": "execute_result"
    }
   ],
   "source": [
    "df = pd.read_csv(\"insurance_data.csv\")\n",
    "df.head()"
   ]
  },
  {
   "cell_type": "markdown",
   "id": "4d39f2e0",
   "metadata": {},
   "source": [
    "**Split train and test set**"
   ]
  },
  {
   "cell_type": "code",
   "execution_count": 3,
   "id": "e4aec066",
   "metadata": {
    "ExecuteTime": {
     "end_time": "2024-02-04T00:31:37.897754Z",
     "start_time": "2024-02-04T00:31:37.188086Z"
    }
   },
   "outputs": [],
   "source": [
    "from sklearn.model_selection import train_test_split\n",
    "X_train, X_test, y_train, y_test = train_test_split(df[['age','affordibility']],df.bought_insurance,test_size=0.2, random_state=25)"
   ]
  },
  {
   "cell_type": "markdown",
   "id": "9752a8b5",
   "metadata": {},
   "source": [
    "**Preprocessing: Scale the data so that both age and affordibility are in same scaling range**"
   ]
  },
  {
   "cell_type": "code",
   "execution_count": 4,
   "id": "34ca2c57",
   "metadata": {
    "ExecuteTime": {
     "end_time": "2024-02-04T00:31:37.909724Z",
     "start_time": "2024-02-04T00:31:37.900751Z"
    }
   },
   "outputs": [],
   "source": [
    "X_train_scaled = X_train.copy()\n",
    "X_train_scaled['age'] = X_train_scaled['age'] / 100\n",
    "\n",
    "X_test_scaled = X_test.copy()\n",
    "X_test_scaled['age'] = X_test_scaled['age'] / 100"
   ]
  },
  {
   "cell_type": "markdown",
   "id": "40ea71c9",
   "metadata": {},
   "source": [
    "**Model Building: First build a model in keras/tensorflow and see what weights and bias values it comes up with. We will than try to reproduce same weights and bias in our plain python implementation of gradient descent. Below is the architecture of our simple neural network**"
   ]
  },
  {
   "cell_type": "markdown",
   "id": "63026d64",
   "metadata": {},
   "source": [
    "<img src=\"https://i.ibb.co/JCStSLd/nn.png\" alt=\"Description of the image\">\n"
   ]
  },
  {
   "cell_type": "code",
   "execution_count": null,
   "id": "411fac1f",
   "metadata": {
    "ExecuteTime": {
     "start_time": "2024-02-04T00:31:28.705Z"
    }
   },
   "outputs": [
    {
     "name": "stdout",
     "output_type": "stream",
     "text": [
      "WARNING:tensorflow:From E:\\SETUP\\Anaconda\\Lib\\site-packages\\keras\\src\\backend.py:873: The name tf.get_default_graph is deprecated. Please use tf.compat.v1.get_default_graph instead.\n",
      "\n",
      "WARNING:tensorflow:From E:\\SETUP\\Anaconda\\Lib\\site-packages\\keras\\src\\optimizers\\__init__.py:309: The name tf.train.Optimizer is deprecated. Please use tf.compat.v1.train.Optimizer instead.\n",
      "\n",
      "Epoch 1/5000\n",
      "WARNING:tensorflow:From E:\\SETUP\\Anaconda\\Lib\\site-packages\\keras\\src\\utils\\tf_utils.py:492: The name tf.ragged.RaggedTensorValue is deprecated. Please use tf.compat.v1.ragged.RaggedTensorValue instead.\n",
      "\n",
      "WARNING:tensorflow:From E:\\SETUP\\Anaconda\\Lib\\site-packages\\keras\\src\\engine\\base_layer_utils.py:384: The name tf.executing_eagerly_outside_functions is deprecated. Please use tf.compat.v1.executing_eagerly_outside_functions instead.\n",
      "\n",
      "1/1 [==============================] - 1s 870ms/step - loss: 0.7113 - accuracy: 0.5000\n",
      "Epoch 2/5000\n",
      "1/1 [==============================] - 0s 7ms/step - loss: 0.7110 - accuracy: 0.5000\n",
      "Epoch 3/5000\n",
      "1/1 [==============================] - 0s 8ms/step - loss: 0.7106 - accuracy: 0.5000\n",
      "Epoch 4/5000\n",
      "1/1 [==============================] - 0s 6ms/step - loss: 0.7102 - accuracy: 0.5000\n",
      "Epoch 5/5000\n",
      "1/1 [==============================] - 0s 8ms/step - loss: 0.7098 - accuracy: 0.5000\n",
      "Epoch 6/5000\n",
      "1/1 [==============================] - 0s 6ms/step - loss: 0.7094 - accuracy: 0.5000\n",
      "Epoch 7/5000\n",
      "1/1 [==============================] - 0s 6ms/step - loss: 0.7091 - accuracy: 0.5000\n",
      "Epoch 8/5000\n",
      "1/1 [==============================] - 0s 8ms/step - loss: 0.7087 - accuracy: 0.5000\n",
      "Epoch 9/5000\n",
      "1/1 [==============================] - 0s 5ms/step - loss: 0.7083 - accuracy: 0.5000\n",
      "Epoch 10/5000\n",
      "1/1 [==============================] - 0s 7ms/step - loss: 0.7079 - accuracy: 0.5000\n",
      "Epoch 11/5000\n",
      "1/1 [==============================] - 0s 7ms/step - loss: 0.7076 - accuracy: 0.5000\n",
      "Epoch 12/5000\n",
      "1/1 [==============================] - 0s 8ms/step - loss: 0.7072 - accuracy: 0.5000\n",
      "Epoch 13/5000\n",
      "1/1 [==============================] - 0s 6ms/step - loss: 0.7068 - accuracy: 0.5000\n",
      "Epoch 14/5000\n",
      "1/1 [==============================] - 0s 7ms/step - loss: 0.7065 - accuracy: 0.5000\n",
      "Epoch 15/5000\n",
      "1/1 [==============================] - 0s 14ms/step - loss: 0.7061 - accuracy: 0.5000\n",
      "Epoch 16/5000\n",
      "1/1 [==============================] - 0s 7ms/step - loss: 0.7057 - accuracy: 0.5000\n",
      "Epoch 17/5000\n",
      "1/1 [==============================] - 0s 14ms/step - loss: 0.7054 - accuracy: 0.5000\n",
      "Epoch 18/5000\n",
      "1/1 [==============================] - 0s 9ms/step - loss: 0.7050 - accuracy: 0.5000\n",
      "Epoch 19/5000\n",
      "1/1 [==============================] - 0s 6ms/step - loss: 0.7046 - accuracy: 0.5000\n",
      "Epoch 20/5000\n",
      "1/1 [==============================] - 0s 7ms/step - loss: 0.7043 - accuracy: 0.5000\n",
      "Epoch 21/5000\n",
      "1/1 [==============================] - 0s 8ms/step - loss: 0.7039 - accuracy: 0.5000\n",
      "Epoch 22/5000\n",
      "1/1 [==============================] - 0s 6ms/step - loss: 0.7035 - accuracy: 0.5000\n",
      "Epoch 23/5000\n",
      "1/1 [==============================] - 0s 6ms/step - loss: 0.7032 - accuracy: 0.5000\n",
      "Epoch 24/5000\n",
      "1/1 [==============================] - 0s 7ms/step - loss: 0.7028 - accuracy: 0.5000\n",
      "Epoch 25/5000\n",
      "1/1 [==============================] - 0s 6ms/step - loss: 0.7025 - accuracy: 0.5000\n",
      "Epoch 26/5000\n",
      "1/1 [==============================] - 0s 8ms/step - loss: 0.7021 - accuracy: 0.5000\n",
      "Epoch 27/5000\n",
      "1/1 [==============================] - 0s 6ms/step - loss: 0.7017 - accuracy: 0.5000\n",
      "Epoch 28/5000\n",
      "1/1 [==============================] - 0s 7ms/step - loss: 0.7014 - accuracy: 0.5000\n",
      "Epoch 29/5000\n",
      "1/1 [==============================] - 0s 5ms/step - loss: 0.7010 - accuracy: 0.5000\n",
      "Epoch 30/5000\n",
      "1/1 [==============================] - 0s 1ms/step - loss: 0.7007 - accuracy: 0.5000\n",
      "Epoch 31/5000\n",
      "1/1 [==============================] - 0s 6ms/step - loss: 0.7003 - accuracy: 0.5000\n",
      "Epoch 32/5000\n",
      "1/1 [==============================] - 0s 7ms/step - loss: 0.7000 - accuracy: 0.5000\n",
      "Epoch 33/5000\n",
      "1/1 [==============================] - 0s 6ms/step - loss: 0.6996 - accuracy: 0.5000\n",
      "Epoch 34/5000\n",
      "1/1 [==============================] - 0s 7ms/step - loss: 0.6993 - accuracy: 0.5000\n",
      "Epoch 35/5000\n",
      "1/1 [==============================] - 0s 6ms/step - loss: 0.6989 - accuracy: 0.5000\n",
      "Epoch 36/5000\n",
      "1/1 [==============================] - 0s 7ms/step - loss: 0.6986 - accuracy: 0.5000\n",
      "Epoch 37/5000\n",
      "1/1 [==============================] - 0s 6ms/step - loss: 0.6982 - accuracy: 0.5000\n",
      "Epoch 38/5000\n",
      "1/1 [==============================] - 0s 10ms/step - loss: 0.6979 - accuracy: 0.5000\n",
      "Epoch 39/5000\n",
      "1/1 [==============================] - 0s 7ms/step - loss: 0.6975 - accuracy: 0.5000\n",
      "Epoch 40/5000\n",
      "1/1 [==============================] - 0s 5ms/step - loss: 0.6972 - accuracy: 0.5000\n",
      "Epoch 41/5000\n",
      "1/1 [==============================] - 0s 10ms/step - loss: 0.6969 - accuracy: 0.5000\n",
      "Epoch 42/5000\n",
      "1/1 [==============================] - 0s 7ms/step - loss: 0.6965 - accuracy: 0.5000\n",
      "Epoch 43/5000\n",
      "1/1 [==============================] - 0s 7ms/step - loss: 0.6962 - accuracy: 0.5000\n",
      "Epoch 44/5000\n",
      "1/1 [==============================] - 0s 9ms/step - loss: 0.6958 - accuracy: 0.5000\n",
      "Epoch 45/5000\n",
      "1/1 [==============================] - 0s 8ms/step - loss: 0.6955 - accuracy: 0.5000\n",
      "Epoch 46/5000\n",
      "1/1 [==============================] - 0s 7ms/step - loss: 0.6952 - accuracy: 0.5000\n",
      "Epoch 47/5000\n",
      "1/1 [==============================] - 0s 7ms/step - loss: 0.6948 - accuracy: 0.5000\n",
      "Epoch 48/5000\n",
      "1/1 [==============================] - 0s 5ms/step - loss: 0.6945 - accuracy: 0.5000\n",
      "Epoch 49/5000\n",
      "1/1 [==============================] - 0s 4ms/step - loss: 0.6942 - accuracy: 0.5000\n",
      "Epoch 50/5000\n",
      "1/1 [==============================] - 0s 5ms/step - loss: 0.6938 - accuracy: 0.5000\n",
      "Epoch 51/5000\n",
      "1/1 [==============================] - 0s 5ms/step - loss: 0.6935 - accuracy: 0.5000\n",
      "Epoch 52/5000\n",
      "1/1 [==============================] - 0s 5ms/step - loss: 0.6932 - accuracy: 0.5000\n",
      "Epoch 53/5000\n",
      "1/1 [==============================] - 0s 6ms/step - loss: 0.6928 - accuracy: 0.5000\n",
      "Epoch 54/5000\n",
      "1/1 [==============================] - 0s 7ms/step - loss: 0.6925 - accuracy: 0.5000\n",
      "Epoch 55/5000\n",
      "1/1 [==============================] - 0s 8ms/step - loss: 0.6922 - accuracy: 0.5000\n",
      "Epoch 56/5000\n",
      "1/1 [==============================] - 0s 0s/step - loss: 0.6918 - accuracy: 0.5000\n",
      "Epoch 57/5000\n",
      "1/1 [==============================] - 0s 23ms/step - loss: 0.6915 - accuracy: 0.5000\n",
      "Epoch 58/5000\n",
      "1/1 [==============================] - 0s 12ms/step - loss: 0.6912 - accuracy: 0.5000\n",
      "Epoch 59/5000\n",
      "1/1 [==============================] - 0s 9ms/step - loss: 0.6909 - accuracy: 0.5000\n",
      "Epoch 60/5000\n",
      "1/1 [==============================] - 0s 7ms/step - loss: 0.6906 - accuracy: 0.5000\n",
      "Epoch 61/5000\n",
      "1/1 [==============================] - 0s 6ms/step - loss: 0.6902 - accuracy: 0.5000\n",
      "Epoch 62/5000\n",
      "1/1 [==============================] - 0s 6ms/step - loss: 0.6899 - accuracy: 0.5000\n",
      "Epoch 63/5000\n",
      "1/1 [==============================] - 0s 7ms/step - loss: 0.6896 - accuracy: 0.5000\n",
      "Epoch 64/5000\n",
      "1/1 [==============================] - 0s 6ms/step - loss: 0.6893 - accuracy: 0.5000\n",
      "Epoch 65/5000\n",
      "1/1 [==============================] - 0s 4ms/step - loss: 0.6890 - accuracy: 0.5000\n",
      "Epoch 66/5000\n",
      "1/1 [==============================] - 0s 4ms/step - loss: 0.6886 - accuracy: 0.5000\n",
      "Epoch 67/5000\n",
      "1/1 [==============================] - 0s 5ms/step - loss: 0.6883 - accuracy: 0.5000\n",
      "Epoch 68/5000\n",
      "1/1 [==============================] - 0s 4ms/step - loss: 0.6880 - accuracy: 0.5000\n",
      "Epoch 69/5000\n",
      "1/1 [==============================] - 0s 5ms/step - loss: 0.6877 - accuracy: 0.5000\n",
      "Epoch 70/5000\n",
      "1/1 [==============================] - 0s 5ms/step - loss: 0.6874 - accuracy: 0.5000\n",
      "Epoch 71/5000\n",
      "1/1 [==============================] - 0s 6ms/step - loss: 0.6871 - accuracy: 0.5000\n",
      "Epoch 72/5000\n",
      "1/1 [==============================] - 0s 4ms/step - loss: 0.6868 - accuracy: 0.5000\n",
      "Epoch 73/5000\n",
      "1/1 [==============================] - 0s 7ms/step - loss: 0.6865 - accuracy: 0.5000\n",
      "Epoch 74/5000\n",
      "1/1 [==============================] - 0s 4ms/step - loss: 0.6862 - accuracy: 0.5000\n",
      "Epoch 75/5000\n"
     ]
    },
    {
     "name": "stdout",
     "output_type": "stream",
     "text": [
      "1/1 [==============================] - 0s 11ms/step - loss: 0.6859 - accuracy: 0.5000\n",
      "Epoch 76/5000\n",
      "1/1 [==============================] - 0s 6ms/step - loss: 0.6856 - accuracy: 0.5000\n",
      "Epoch 77/5000\n",
      "1/1 [==============================] - 0s 10ms/step - loss: 0.6853 - accuracy: 0.5000\n",
      "Epoch 78/5000\n",
      "1/1 [==============================] - 0s 8ms/step - loss: 0.6849 - accuracy: 0.5000\n",
      "Epoch 79/5000\n",
      "1/1 [==============================] - 0s 7ms/step - loss: 0.6846 - accuracy: 0.5000\n",
      "Epoch 80/5000\n",
      "1/1 [==============================] - 0s 8ms/step - loss: 0.6843 - accuracy: 0.5000\n",
      "Epoch 81/5000\n",
      "1/1 [==============================] - 0s 5ms/step - loss: 0.6840 - accuracy: 0.5000\n",
      "Epoch 82/5000\n",
      "1/1 [==============================] - 0s 6ms/step - loss: 0.6838 - accuracy: 0.5000\n",
      "Epoch 83/5000\n",
      "1/1 [==============================] - 0s 6ms/step - loss: 0.6835 - accuracy: 0.5000\n",
      "Epoch 84/5000\n",
      "1/1 [==============================] - 0s 8ms/step - loss: 0.6832 - accuracy: 0.5000\n",
      "Epoch 85/5000\n",
      "1/1 [==============================] - 0s 4ms/step - loss: 0.6829 - accuracy: 0.5000\n",
      "Epoch 86/5000\n",
      "1/1 [==============================] - 0s 7ms/step - loss: 0.6826 - accuracy: 0.5000\n",
      "Epoch 87/5000\n",
      "1/1 [==============================] - 0s 5ms/step - loss: 0.6823 - accuracy: 0.5000\n",
      "Epoch 88/5000\n",
      "1/1 [==============================] - 0s 6ms/step - loss: 0.6820 - accuracy: 0.5000\n",
      "Epoch 89/5000\n",
      "1/1 [==============================] - 0s 5ms/step - loss: 0.6817 - accuracy: 0.5000\n",
      "Epoch 90/5000\n",
      "1/1 [==============================] - 0s 7ms/step - loss: 0.6814 - accuracy: 0.5000\n",
      "Epoch 91/5000\n",
      "1/1 [==============================] - 0s 5ms/step - loss: 0.6811 - accuracy: 0.5000\n",
      "Epoch 92/5000\n",
      "1/1 [==============================] - 0s 4ms/step - loss: 0.6808 - accuracy: 0.5000\n",
      "Epoch 93/5000\n",
      "1/1 [==============================] - 0s 5ms/step - loss: 0.6805 - accuracy: 0.5000\n",
      "Epoch 94/5000\n",
      "1/1 [==============================] - 0s 5ms/step - loss: 0.6803 - accuracy: 0.5000\n",
      "Epoch 95/5000\n",
      "1/1 [==============================] - 0s 5ms/step - loss: 0.6800 - accuracy: 0.5000\n",
      "Epoch 96/5000\n",
      "1/1 [==============================] - 0s 0s/step - loss: 0.6797 - accuracy: 0.5000\n",
      "Epoch 97/5000\n",
      "1/1 [==============================] - 0s 5ms/step - loss: 0.6794 - accuracy: 0.5000\n",
      "Epoch 98/5000\n",
      "1/1 [==============================] - 0s 8ms/step - loss: 0.6791 - accuracy: 0.5000\n",
      "Epoch 99/5000\n",
      "1/1 [==============================] - 0s 5ms/step - loss: 0.6788 - accuracy: 0.5000\n",
      "Epoch 100/5000\n",
      "1/1 [==============================] - 0s 7ms/step - loss: 0.6786 - accuracy: 0.5000\n",
      "Epoch 101/5000\n",
      "1/1 [==============================] - 0s 6ms/step - loss: 0.6783 - accuracy: 0.5000\n",
      "Epoch 102/5000\n",
      "1/1 [==============================] - 0s 5ms/step - loss: 0.6780 - accuracy: 0.5000\n",
      "Epoch 103/5000\n",
      "1/1 [==============================] - 0s 6ms/step - loss: 0.6777 - accuracy: 0.5000\n",
      "Epoch 104/5000\n",
      "1/1 [==============================] - 0s 5ms/step - loss: 0.6775 - accuracy: 0.5000\n",
      "Epoch 105/5000\n",
      "1/1 [==============================] - 0s 7ms/step - loss: 0.6772 - accuracy: 0.5000\n",
      "Epoch 106/5000\n",
      "1/1 [==============================] - 0s 5ms/step - loss: 0.6769 - accuracy: 0.5000\n",
      "Epoch 107/5000\n",
      "1/1 [==============================] - 0s 6ms/step - loss: 0.6766 - accuracy: 0.5000\n",
      "Epoch 108/5000\n",
      "1/1 [==============================] - 0s 5ms/step - loss: 0.6764 - accuracy: 0.5000\n",
      "Epoch 109/5000\n",
      "1/1 [==============================] - 0s 6ms/step - loss: 0.6761 - accuracy: 0.5000\n",
      "Epoch 110/5000\n",
      "1/1 [==============================] - 0s 5ms/step - loss: 0.6758 - accuracy: 0.5000\n",
      "Epoch 111/5000\n",
      "1/1 [==============================] - 0s 5ms/step - loss: 0.6756 - accuracy: 0.5000\n",
      "Epoch 112/5000\n",
      "1/1 [==============================] - 0s 5ms/step - loss: 0.6753 - accuracy: 0.5000\n",
      "Epoch 113/5000\n",
      "1/1 [==============================] - 0s 5ms/step - loss: 0.6750 - accuracy: 0.5000\n",
      "Epoch 114/5000\n",
      "1/1 [==============================] - 0s 6ms/step - loss: 0.6748 - accuracy: 0.5000\n",
      "Epoch 115/5000\n",
      "1/1 [==============================] - 0s 4ms/step - loss: 0.6745 - accuracy: 0.5000\n",
      "Epoch 116/5000\n",
      "1/1 [==============================] - 0s 7ms/step - loss: 0.6742 - accuracy: 0.5000\n",
      "Epoch 117/5000\n",
      "1/1 [==============================] - 0s 5ms/step - loss: 0.6740 - accuracy: 0.5000\n",
      "Epoch 118/5000\n",
      "1/1 [==============================] - 0s 13ms/step - loss: 0.6737 - accuracy: 0.5000\n",
      "Epoch 119/5000\n",
      "1/1 [==============================] - 0s 6ms/step - loss: 0.6735 - accuracy: 0.5000\n",
      "Epoch 120/5000\n",
      "1/1 [==============================] - 0s 9ms/step - loss: 0.6732 - accuracy: 0.5000\n",
      "Epoch 121/5000\n",
      "1/1 [==============================] - 0s 5ms/step - loss: 0.6730 - accuracy: 0.5000\n",
      "Epoch 122/5000\n",
      "1/1 [==============================] - 0s 6ms/step - loss: 0.6727 - accuracy: 0.5000\n",
      "Epoch 123/5000\n",
      "1/1 [==============================] - 0s 5ms/step - loss: 0.6724 - accuracy: 0.5000\n",
      "Epoch 124/5000\n",
      "1/1 [==============================] - 0s 6ms/step - loss: 0.6722 - accuracy: 0.5000\n",
      "Epoch 125/5000\n",
      "1/1 [==============================] - 0s 5ms/step - loss: 0.6719 - accuracy: 0.5000\n",
      "Epoch 126/5000\n",
      "1/1 [==============================] - 0s 5ms/step - loss: 0.6717 - accuracy: 0.5000\n",
      "Epoch 127/5000\n",
      "1/1 [==============================] - 0s 7ms/step - loss: 0.6714 - accuracy: 0.5000\n",
      "Epoch 128/5000\n",
      "1/1 [==============================] - 0s 6ms/step - loss: 0.6712 - accuracy: 0.5000\n",
      "Epoch 129/5000\n",
      "1/1 [==============================] - 0s 7ms/step - loss: 0.6709 - accuracy: 0.5000\n",
      "Epoch 130/5000\n",
      "1/1 [==============================] - 0s 6ms/step - loss: 0.6707 - accuracy: 0.5000\n",
      "Epoch 131/5000\n",
      "1/1 [==============================] - 0s 4ms/step - loss: 0.6704 - accuracy: 0.5000\n",
      "Epoch 132/5000\n",
      "1/1 [==============================] - 0s 5ms/step - loss: 0.6702 - accuracy: 0.5000\n",
      "Epoch 133/5000\n",
      "1/1 [==============================] - 0s 5ms/step - loss: 0.6699 - accuracy: 0.5000\n",
      "Epoch 134/5000\n",
      "1/1 [==============================] - 0s 4ms/step - loss: 0.6697 - accuracy: 0.5000\n",
      "Epoch 135/5000\n",
      "1/1 [==============================] - 0s 4ms/step - loss: 0.6695 - accuracy: 0.5000\n",
      "Epoch 136/5000\n",
      "1/1 [==============================] - 0s 6ms/step - loss: 0.6692 - accuracy: 0.5000\n",
      "Epoch 137/5000\n",
      "1/1 [==============================] - 0s 5ms/step - loss: 0.6690 - accuracy: 0.5000\n",
      "Epoch 138/5000\n",
      "1/1 [==============================] - 0s 3ms/step - loss: 0.6687 - accuracy: 0.5000\n",
      "Epoch 139/5000\n",
      "1/1 [==============================] - 0s 5ms/step - loss: 0.6685 - accuracy: 0.5000\n",
      "Epoch 140/5000\n",
      "1/1 [==============================] - 0s 11ms/step - loss: 0.6683 - accuracy: 0.5000\n",
      "Epoch 141/5000\n",
      "1/1 [==============================] - 0s 7ms/step - loss: 0.6680 - accuracy: 0.5000\n",
      "Epoch 142/5000\n",
      "1/1 [==============================] - 0s 9ms/step - loss: 0.6678 - accuracy: 0.5000\n",
      "Epoch 143/5000\n",
      "1/1 [==============================] - 0s 7ms/step - loss: 0.6675 - accuracy: 0.5000\n",
      "Epoch 144/5000\n",
      "1/1 [==============================] - 0s 5ms/step - loss: 0.6673 - accuracy: 0.5000\n",
      "Epoch 145/5000\n",
      "1/1 [==============================] - 0s 5ms/step - loss: 0.6671 - accuracy: 0.5000\n",
      "Epoch 146/5000\n",
      "1/1 [==============================] - 0s 6ms/step - loss: 0.6668 - accuracy: 0.5000\n",
      "Epoch 147/5000\n",
      "1/1 [==============================] - 0s 10ms/step - loss: 0.6666 - accuracy: 0.5000\n",
      "Epoch 148/5000\n",
      "1/1 [==============================] - 0s 8ms/step - loss: 0.6664 - accuracy: 0.5000\n",
      "Epoch 149/5000\n",
      "1/1 [==============================] - 0s 7ms/step - loss: 0.6661 - accuracy: 0.5000\n",
      "Epoch 150/5000\n",
      "1/1 [==============================] - 0s 7ms/step - loss: 0.6659 - accuracy: 0.5000\n",
      "Epoch 151/5000\n",
      "1/1 [==============================] - 0s 6ms/step - loss: 0.6657 - accuracy: 0.5000\n",
      "Epoch 152/5000\n",
      "1/1 [==============================] - 0s 7ms/step - loss: 0.6655 - accuracy: 0.5000\n",
      "Epoch 153/5000\n",
      "1/1 [==============================] - 0s 5ms/step - loss: 0.6652 - accuracy: 0.5000\n",
      "Epoch 154/5000\n",
      "1/1 [==============================] - 0s 6ms/step - loss: 0.6650 - accuracy: 0.5000\n",
      "Epoch 155/5000\n",
      "1/1 [==============================] - 0s 6ms/step - loss: 0.6648 - accuracy: 0.5000\n",
      "Epoch 156/5000\n",
      "1/1 [==============================] - 0s 5ms/step - loss: 0.6646 - accuracy: 0.5000\n",
      "Epoch 157/5000\n"
     ]
    },
    {
     "name": "stdout",
     "output_type": "stream",
     "text": [
      "1/1 [==============================] - 0s 34ms/step - loss: 0.6643 - accuracy: 0.5000\n",
      "Epoch 158/5000\n",
      "1/1 [==============================] - 0s 1ms/step - loss: 0.6641 - accuracy: 0.5000\n",
      "Epoch 159/5000\n",
      "1/1 [==============================] - 0s 7ms/step - loss: 0.6639 - accuracy: 0.5000\n",
      "Epoch 160/5000\n",
      "1/1 [==============================] - 0s 6ms/step - loss: 0.6637 - accuracy: 0.5000\n",
      "Epoch 161/5000\n",
      "1/1 [==============================] - 0s 11ms/step - loss: 0.6635 - accuracy: 0.5000\n",
      "Epoch 162/5000\n",
      "1/1 [==============================] - 0s 6ms/step - loss: 0.6632 - accuracy: 0.5000\n",
      "Epoch 163/5000\n",
      "1/1 [==============================] - 0s 9ms/step - loss: 0.6630 - accuracy: 0.5000\n",
      "Epoch 164/5000\n",
      "1/1 [==============================] - 0s 7ms/step - loss: 0.6628 - accuracy: 0.5000\n",
      "Epoch 165/5000\n",
      "1/1 [==============================] - 0s 6ms/step - loss: 0.6626 - accuracy: 0.5000\n",
      "Epoch 166/5000\n",
      "1/1 [==============================] - 0s 7ms/step - loss: 0.6624 - accuracy: 0.5000\n",
      "Epoch 167/5000\n",
      "1/1 [==============================] - 0s 6ms/step - loss: 0.6622 - accuracy: 0.5000\n",
      "Epoch 168/5000\n",
      "1/1 [==============================] - 0s 7ms/step - loss: 0.6620 - accuracy: 0.5000\n",
      "Epoch 169/5000\n",
      "1/1 [==============================] - 0s 7ms/step - loss: 0.6617 - accuracy: 0.5000\n",
      "Epoch 170/5000\n",
      "1/1 [==============================] - 0s 6ms/step - loss: 0.6615 - accuracy: 0.5000\n",
      "Epoch 171/5000\n",
      "1/1 [==============================] - 0s 5ms/step - loss: 0.6613 - accuracy: 0.5000\n",
      "Epoch 172/5000\n",
      "1/1 [==============================] - 0s 7ms/step - loss: 0.6611 - accuracy: 0.5000\n",
      "Epoch 173/5000\n",
      "1/1 [==============================] - 0s 4ms/step - loss: 0.6609 - accuracy: 0.5455\n",
      "Epoch 174/5000\n",
      "1/1 [==============================] - 0s 6ms/step - loss: 0.6607 - accuracy: 0.5455\n",
      "Epoch 175/5000\n",
      "1/1 [==============================] - 0s 7ms/step - loss: 0.6605 - accuracy: 0.5455\n",
      "Epoch 176/5000\n",
      "1/1 [==============================] - 0s 8ms/step - loss: 0.6603 - accuracy: 0.5455\n",
      "Epoch 177/5000\n",
      "1/1 [==============================] - 0s 8ms/step - loss: 0.6601 - accuracy: 0.5455\n",
      "Epoch 178/5000\n",
      "1/1 [==============================] - 0s 7ms/step - loss: 0.6599 - accuracy: 0.5455\n",
      "Epoch 179/5000\n",
      "1/1 [==============================] - 0s 7ms/step - loss: 0.6597 - accuracy: 0.5455\n",
      "Epoch 180/5000\n",
      "1/1 [==============================] - 0s 2ms/step - loss: 0.6595 - accuracy: 0.5455\n",
      "Epoch 181/5000\n",
      "1/1 [==============================] - 0s 7ms/step - loss: 0.6593 - accuracy: 0.5455\n",
      "Epoch 182/5000\n",
      "1/1 [==============================] - 0s 6ms/step - loss: 0.6591 - accuracy: 0.5455\n",
      "Epoch 183/5000\n",
      "1/1 [==============================] - 0s 8ms/step - loss: 0.6589 - accuracy: 0.5455\n",
      "Epoch 184/5000\n",
      "1/1 [==============================] - 0s 6ms/step - loss: 0.6587 - accuracy: 0.5455\n",
      "Epoch 185/5000\n",
      "1/1 [==============================] - 0s 7ms/step - loss: 0.6585 - accuracy: 0.5455\n",
      "Epoch 186/5000\n",
      "1/1 [==============================] - 0s 6ms/step - loss: 0.6583 - accuracy: 0.5455\n",
      "Epoch 187/5000\n",
      "1/1 [==============================] - 0s 6ms/step - loss: 0.6581 - accuracy: 0.5455\n",
      "Epoch 188/5000\n",
      "1/1 [==============================] - 0s 6ms/step - loss: 0.6579 - accuracy: 0.5455\n",
      "Epoch 189/5000\n",
      "1/1 [==============================] - 0s 7ms/step - loss: 0.6577 - accuracy: 0.5455\n",
      "Epoch 190/5000\n",
      "1/1 [==============================] - 0s 5ms/step - loss: 0.6575 - accuracy: 0.5455\n",
      "Epoch 191/5000\n",
      "1/1 [==============================] - ETA: 0s - loss: 0.6573 - accuracy: 0.5455"
     ]
    }
   ],
   "source": [
    "model = keras.Sequential([\n",
    "    keras.layers.Dense(1, input_shape=(2,), activation='sigmoid', kernel_initializer='ones', bias_initializer='zeros')\n",
    "])\n",
    "\n",
    "model.compile(optimizer='adam',\n",
    "              loss='binary_crossentropy',\n",
    "              metrics=['accuracy'])\n",
    "\n",
    "model.fit(X_train_scaled, y_train, epochs=5000)"
   ]
  },
  {
   "cell_type": "markdown",
   "id": "2230ee19",
   "metadata": {},
   "source": [
    "**Evaluate the model on test set**"
   ]
  },
  {
   "cell_type": "code",
   "execution_count": null,
   "id": "0b059faf",
   "metadata": {
    "ExecuteTime": {
     "start_time": "2024-02-04T00:31:28.708Z"
    },
    "scrolled": false
   },
   "outputs": [],
   "source": [
    "model.evaluate(X_test_scaled,y_test)"
   ]
  },
  {
   "cell_type": "code",
   "execution_count": null,
   "id": "039d53d1",
   "metadata": {
    "ExecuteTime": {
     "start_time": "2024-02-04T00:31:28.712Z"
    }
   },
   "outputs": [],
   "source": [
    "model.predict(X_test_scaled)"
   ]
  },
  {
   "cell_type": "code",
   "execution_count": null,
   "id": "e4fab073",
   "metadata": {
    "ExecuteTime": {
     "start_time": "2024-02-04T00:31:28.716Z"
    },
    "scrolled": true
   },
   "outputs": [],
   "source": [
    "y_test"
   ]
  },
  {
   "cell_type": "markdown",
   "id": "d3d7216e",
   "metadata": {},
   "source": [
    "**Now get the value of weights and bias from the model**"
   ]
  },
  {
   "cell_type": "code",
   "execution_count": null,
   "id": "2deeb380",
   "metadata": {
    "ExecuteTime": {
     "start_time": "2024-02-04T00:31:28.719Z"
    }
   },
   "outputs": [],
   "source": [
    "coef, intercept = model.get_weights()"
   ]
  },
  {
   "cell_type": "code",
   "execution_count": null,
   "id": "e0dc7b2a",
   "metadata": {
    "ExecuteTime": {
     "start_time": "2024-02-04T00:31:28.721Z"
    },
    "scrolled": false
   },
   "outputs": [],
   "source": [
    "coef, intercept"
   ]
  },
  {
   "cell_type": "markdown",
   "id": "cfb5b379",
   "metadata": {},
   "source": [
    "**This means w1=5.060867, w2=1.4086502, bias =-2.9137027**"
   ]
  },
  {
   "cell_type": "code",
   "execution_count": null,
   "id": "beff1280",
   "metadata": {
    "ExecuteTime": {
     "start_time": "2024-02-04T00:31:28.726Z"
    }
   },
   "outputs": [],
   "source": [
    "def sigmoid(x):\n",
    "        import math\n",
    "        return 1 / (1 + math.exp(-x))\n",
    "sigmoid(18)"
   ]
  },
  {
   "cell_type": "code",
   "execution_count": null,
   "id": "7d5bc628",
   "metadata": {
    "ExecuteTime": {
     "start_time": "2024-02-04T00:31:28.728Z"
    }
   },
   "outputs": [],
   "source": [
    "X_test"
   ]
  },
  {
   "cell_type": "markdown",
   "id": "cb73cb96",
   "metadata": {},
   "source": [
    "**Instead of model.predict, write our own prediction function that uses w1,w2 and bias**"
   ]
  },
  {
   "cell_type": "code",
   "execution_count": null,
   "id": "69b4a418",
   "metadata": {
    "ExecuteTime": {
     "start_time": "2024-02-04T00:31:28.731Z"
    }
   },
   "outputs": [],
   "source": [
    "def prediction_function(age, affordibility):\n",
    "    weighted_sum = coef[0]*age + coef[1]*affordibility + intercept\n",
    "    return sigmoid(weighted_sum)\n",
    "\n",
    "prediction_function(.47, 1)"
   ]
  },
  {
   "cell_type": "code",
   "execution_count": null,
   "id": "faa4effa",
   "metadata": {
    "ExecuteTime": {
     "start_time": "2024-02-04T00:31:28.733Z"
    },
    "scrolled": false
   },
   "outputs": [],
   "source": [
    "prediction_function(.18, 1)"
   ]
  },
  {
   "cell_type": "markdown",
   "id": "c9816019",
   "metadata": {},
   "source": [
    "**Now we start implementing gradient descent in plain python. Again the goal is to come up with same w1, w2 and bias that keras model calculated. We want to show how keras/tensorflow would have computed these values internally using gradient descent**"
   ]
  },
  {
   "cell_type": "markdown",
   "id": "9b96f30a",
   "metadata": {},
   "source": [
    "**First write couple of helper routines such as sigmoid and log_loss**"
   ]
  },
  {
   "cell_type": "code",
   "execution_count": null,
   "id": "d21731f7",
   "metadata": {
    "ExecuteTime": {
     "start_time": "2024-02-04T00:31:28.735Z"
    }
   },
   "outputs": [],
   "source": [
    "def sigmoid_numpy(X):\n",
    "   return 1/(1+np.exp(-X))\n",
    "\n",
    "sigmoid_numpy(np.array([12,0,1]))"
   ]
  },
  {
   "cell_type": "code",
   "execution_count": null,
   "id": "c8902c62",
   "metadata": {
    "ExecuteTime": {
     "start_time": "2024-02-04T00:31:28.736Z"
    }
   },
   "outputs": [],
   "source": [
    "def log_loss(y_true, y_predicted):\n",
    "    epsilon = 1e-15\n",
    "    y_predicted_new = [max(i,epsilon) for i in y_predicted]\n",
    "    y_predicted_new = [min(i,1-epsilon) for i in y_predicted_new]\n",
    "    y_predicted_new = np.array(y_predicted_new)\n",
    "    return -np.mean(y_true*np.log(y_predicted_new)+(1-y_true)*np.log(1-y_predicted_new))"
   ]
  },
  {
   "cell_type": "markdown",
   "id": "d1084b55",
   "metadata": {},
   "source": [
    "**All right now comes the time to implement our own custom neural network class !! yay !!!**"
   ]
  },
  {
   "cell_type": "code",
   "execution_count": null,
   "id": "9549c3aa",
   "metadata": {
    "ExecuteTime": {
     "start_time": "2024-02-04T00:31:28.739Z"
    }
   },
   "outputs": [],
   "source": [
    "class myNN:\n",
    "    def __init__(self):\n",
    "        self.w1 = 1 \n",
    "        self.w2 = 1\n",
    "        self.bias = 0\n",
    "        \n",
    "    def fit(self, X, y, epochs, loss_thresold):\n",
    "        self.w1, self.w2, self.bias = self.gradient_descent(X['age'],X['affordibility'],y, epochs, loss_thresold)\n",
    "        print(f\"Final weights and bias: w1: {self.w1}, w2: {self.w2}, bias: {self.bias}\")\n",
    "        \n",
    "    def predict(self, X_test):\n",
    "        weighted_sum = self.w1*X_test['age'] + self.w2*X_test['affordibility'] + self.bias\n",
    "        return sigmoid_numpy(weighted_sum)\n",
    "\n",
    "    def gradient_descent(self, age,affordability, y_true, epochs, loss_thresold):\n",
    "        w1 = w2 = 1\n",
    "        bias = 0\n",
    "        rate = 0.5\n",
    "        n = len(age)\n",
    "        for i in range(epochs):\n",
    "            weighted_sum = w1 * age + w2 * affordability + bias\n",
    "            y_predicted = sigmoid_numpy(weighted_sum)\n",
    "            loss = log_loss(y_true, y_predicted)\n",
    "            \n",
    "            w1d = (1/n)*np.dot(np.transpose(age),(y_predicted-y_true)) \n",
    "            w2d = (1/n)*np.dot(np.transpose(affordability),(y_predicted-y_true)) \n",
    "\n",
    "            bias_d = np.mean(y_predicted-y_true)\n",
    "            w1 = w1 - rate * w1d\n",
    "            w2 = w2 - rate * w2d\n",
    "            bias = bias - rate * bias_d\n",
    "            \n",
    "            if i%50==0:\n",
    "                print (f'Epoch:{i}, w1:{w1}, w2:{w2}, bias:{bias}, loss:{loss}')\n",
    "            \n",
    "            if loss<=loss_thresold:\n",
    "                print (f'Epoch:{i}, w1:{w1}, w2:{w2}, bias:{bias}, loss:{loss}')\n",
    "                break\n",
    "\n",
    "        return w1, w2, bias"
   ]
  },
  {
   "cell_type": "code",
   "execution_count": null,
   "id": "0adf0640",
   "metadata": {
    "ExecuteTime": {
     "start_time": "2024-02-04T00:31:28.742Z"
    },
    "scrolled": true
   },
   "outputs": [],
   "source": [
    "customModel = myNN()\n",
    "customModel.fit(X_train_scaled, y_train, epochs=8000, loss_thresold=0.4631)"
   ]
  },
  {
   "cell_type": "code",
   "execution_count": null,
   "id": "b6a9f11f",
   "metadata": {
    "ExecuteTime": {
     "start_time": "2024-02-04T00:31:28.745Z"
    },
    "scrolled": true
   },
   "outputs": [],
   "source": [
    "coef, intercept"
   ]
  },
  {
   "cell_type": "markdown",
   "id": "38a0cc7d",
   "metadata": {},
   "source": [
    "**This shows that in the end we were able to come up with same value of w1,w2 and bias using a plain python implementation of gradient descent function**"
   ]
  },
  {
   "cell_type": "code",
   "execution_count": null,
   "id": "66637806",
   "metadata": {
    "ExecuteTime": {
     "start_time": "2024-02-04T00:31:28.748Z"
    },
    "scrolled": true
   },
   "outputs": [],
   "source": [
    "X_test_scaled"
   ]
  },
  {
   "cell_type": "markdown",
   "id": "67d1e7b9",
   "metadata": {},
   "source": [
    "**(1) Predict using custom model**"
   ]
  },
  {
   "cell_type": "code",
   "execution_count": null,
   "id": "568a7600",
   "metadata": {
    "ExecuteTime": {
     "start_time": "2024-02-04T00:31:28.749Z"
    },
    "scrolled": false
   },
   "outputs": [],
   "source": [
    "customModel.predict(X_test_scaled)"
   ]
  },
  {
   "cell_type": "markdown",
   "id": "7241200f",
   "metadata": {},
   "source": [
    "**(2) Predict using tensorflow model**"
   ]
  },
  {
   "cell_type": "code",
   "execution_count": null,
   "id": "ba05e3f6",
   "metadata": {
    "ExecuteTime": {
     "start_time": "2024-02-04T00:31:28.751Z"
    }
   },
   "outputs": [],
   "source": [
    "model.predict(X_test_scaled)"
   ]
  },
  {
   "cell_type": "markdown",
   "id": "f67e0f68",
   "metadata": {},
   "source": [
    "**Above you can compare predictions from our own custom model and tensoflow model. You will notice that predictions are almost same**"
   ]
  }
 ],
 "metadata": {
  "kernelspec": {
   "display_name": "Python 3 (ipykernel)",
   "language": "python",
   "name": "python3"
  },
  "language_info": {
   "codemirror_mode": {
    "name": "ipython",
    "version": 3
   },
   "file_extension": ".py",
   "mimetype": "text/x-python",
   "name": "python",
   "nbconvert_exporter": "python",
   "pygments_lexer": "ipython3",
   "version": "3.11.5"
  },
  "varInspector": {
   "cols": {
    "lenName": 16,
    "lenType": 16,
    "lenVar": 40
   },
   "kernels_config": {
    "python": {
     "delete_cmd_postfix": "",
     "delete_cmd_prefix": "del ",
     "library": "var_list.py",
     "varRefreshCmd": "print(var_dic_list())"
    },
    "r": {
     "delete_cmd_postfix": ") ",
     "delete_cmd_prefix": "rm(",
     "library": "var_list.r",
     "varRefreshCmd": "cat(var_dic_list()) "
    }
   },
   "types_to_exclude": [
    "module",
    "function",
    "builtin_function_or_method",
    "instance",
    "_Feature"
   ],
   "window_display": false
  }
 },
 "nbformat": 4,
 "nbformat_minor": 5
}
