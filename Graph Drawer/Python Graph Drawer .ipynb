{
 "cells": [
  {
   "cell_type": "code",
   "execution_count": 1,
   "id": "c63103b5",
   "metadata": {
    "ExecuteTime": {
     "end_time": "2023-12-18T15:30:44.779343Z",
     "start_time": "2023-12-18T15:30:44.269479Z"
    }
   },
   "outputs": [],
   "source": [
    "import matplotlib.pyplot as plt\n",
    "import numpy as np\n",
    "import math"
   ]
  },
  {
   "cell_type": "code",
   "execution_count": 2,
   "id": "0231ea19",
   "metadata": {
    "ExecuteTime": {
     "end_time": "2023-12-18T15:30:45.235364Z",
     "start_time": "2023-12-18T15:30:45.231561Z"
    }
   },
   "outputs": [],
   "source": [
    "counter_of_images = 1"
   ]
  },
  {
   "cell_type": "code",
   "execution_count": 21,
   "id": "71ece23f",
   "metadata": {
    "ExecuteTime": {
     "end_time": "2023-12-18T15:35:14.286908Z",
     "start_time": "2023-12-18T15:35:10.448424Z"
    },
    "scrolled": true
   },
   "outputs": [
    {
     "name": "stdout",
     "output_type": "stream",
     "text": [
      "Enter a mathematical expression in terms of 'i': i\n"
     ]
    }
   ],
   "source": [
    "x = np.arange(-6, 6.001, 0.001).tolist()\n",
    "\n",
    "fun = input(\"Enter a mathematical expression in terms of 'i': \")\n",
    "\n",
    "y = [eval(fun) for i in x]\n",
    "\n",
    "Max_value_in_y_list = int(y[len(y) - 1])\n",
    "if (Max_value_in_y_list == 0):\n",
    "    Max_value_in_y_list = 1\n",
    "\n",
    "Max_value_in_x_list = int(x[len(x) - 1])\n",
    "if (Max_value_in_x_list == 0):\n",
    "    Max_value_in_x_list = 1\n",
    "\n",
    "xaxis = list(range(-Max_value_in_x_list, Max_value_in_x_list + 1))\n",
    "yaxis = list(range(-Max_value_in_y_list, Max_value_in_y_list + 1))\n",
    "xr = [0] * len(yaxis)\n",
    "yr = [0] * len(xaxis)"
   ]
  },
  {
   "cell_type": "code",
   "execution_count": 22,
   "id": "f712e4f1",
   "metadata": {
    "ExecuteTime": {
     "end_time": "2023-12-18T15:35:14.986164Z",
     "start_time": "2023-12-18T15:35:14.713920Z"
    }
   },
   "outputs": [
    {
     "name": "stdout",
     "output_type": "stream",
     "text": [
      "Graph number  10\n"
     ]
    },
    {
     "data": {
      "image/png": "[encoded data removed]",
      "text/plain": [
       "<Figure size 640x480 with 1 Axes>"
      ]
     },
     "metadata": {},
     "output_type": "display_data"
    }
   ],
   "source": [
    "plt.title(\"Function Drawer\",\n",
    "          fontdict={\n",
    "              'fontname': 'Comic Sans MS',\n",
    "              'fontsize': 18\n",
    "          })\n",
    "\n",
    "plt.plot(xr, yaxis, color='black')\n",
    "plt.plot(xaxis, yr, color='black')\n",
    "plt.plot(x, y, 'b-', label=fun)\n",
    "plt.legend()\n",
    "Image_name = \"Graphs/Graph_\"+ str(counter_of_images) + \".jpg\"\n",
    "print(\"Graph number \", counter_of_images)\n",
    "plt.savefig(Image_name)\n",
    "counter_of_images += 1"
   ]
  },
  {
   "cell_type": "code",
   "execution_count": 195,
   "id": "7c3f6e5a",
   "metadata": {
    "ExecuteTime": {
     "end_time": "2023-12-18T15:07:02.921137Z",
     "start_time": "2023-12-18T15:07:02.911286Z"
    },
    "scrolled": true
   },
   "outputs": [
    {
     "name": "stdout",
     "output_type": "stream",
     "text": [
      "{0, 1, 2, 3, 4, 5, 6, -1, -6, -5, -4, -3, -2}\n",
      "\n",
      "{0, 1, 2, 3, 4, 5, 6, -1, -6, -5, -4, -3, -2}\n",
      "\n",
      "-5.989999999999997\n",
      "-5.989999999999997\n"
     ]
    }
   ],
   "source": [
    "# printing integer values in the x axis and y axis\n",
    "integer_elements = [int(i) for i in y]\n",
    "unique_elements = set(integer_elements)\n",
    "print(unique_elements)\n",
    "\n",
    "print()\n",
    "\n",
    "integer_elements = [int(i) for i in x]\n",
    "unique_elements = set(integer_elements)\n",
    "print(unique_elements)\n",
    "\n",
    "print()\n",
    "\n",
    "print(x[10])\n",
    "print(y[10])"
   ]
  }
 ],
 "metadata": {
  "kernelspec": {
   "display_name": "Python 3 (ipykernel)",
   "language": "python",
   "name": "python3"
  },
  "language_info": {
   "codemirror_mode": {
    "name": "ipython",
    "version": 3
   },
   "file_extension": ".py",
   "mimetype": "text/x-python",
   "name": "python",
   "nbconvert_exporter": "python",
   "pygments_lexer": "ipython3",
   "version": "3.11.5"
  },
  "varInspector": {
   "cols": {
    "lenName": 16,
    "lenType": 16,
    "lenVar": 40
   },
   "kernels_config": {
    "python": {
     "delete_cmd_postfix": "",
     "delete_cmd_prefix": "del ",
     "library": "var_list.py",
     "varRefreshCmd": "print(var_dic_list())"
    },
    "r": {
     "delete_cmd_postfix": ") ",
     "delete_cmd_prefix": "rm(",
     "library": "var_list.r",
     "varRefreshCmd": "cat(var_dic_list()) "
    }
   },
   "types_to_exclude": [
    "module",
    "function",
    "builtin_function_or_method",
    "instance",
    "_Feature"
   ],
   "window_display": false
  }
 },
 "nbformat": 4,
 "nbformat_minor": 5
}
