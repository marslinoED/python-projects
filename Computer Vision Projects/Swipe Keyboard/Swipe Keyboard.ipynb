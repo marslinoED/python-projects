{
 "cells": [
  {
   "cell_type": "code",
   "execution_count": 1,
   "id": "6605a1e1",
   "metadata": {
    "ExecuteTime": {
     "end_time": "2024-08-08T19:46:16.890515Z",
     "start_time": "2024-08-08T19:46:10.304381Z"
    }
   },
   "outputs": [],
   "source": [
    "import cv2\n",
    "import mediapipe as mp\n",
    "import math\n",
    "import time"
   ]
  },
  {
   "cell_type": "code",
   "execution_count": 8,
   "id": "5c851a95",
   "metadata": {
    "ExecuteTime": {
     "end_time": "2024-08-08T19:48:14.291495Z",
     "start_time": "2024-08-08T19:48:14.259065Z"
    }
   },
   "outputs": [],
   "source": [
    "def DrawFinger(landmarks, FingerTip):\n",
    "        # Get the coordinates of landmarks\n",
    "        x, y = landmarks[FingerTip].x, landmarks[FingerTip].y\n",
    "        # Draw circles at the landmark positions\n",
    "        h, w, c = img.shape\n",
    "        cx, cy = int(x * w), int(y * h)\n",
    "        # this part to draw the hand body\n",
    "        cv2.circle(img, (cx, cy), 10, (255,255,255), thickness=2)\n",
    "        return int(cx), int(cy)\n",
    "    \n",
    "\n",
    "def background(img,overlay):\n",
    "    \n",
    "    alpha = 0.3\n",
    "    cv2.rectangle(overlay, (25,125), (615,355), (128,128,128), thickness=cv2.FILLED)\n",
    "    # Blend the rectangle from the overlay onto the original image\n",
    "    cv2.addWeighted(overlay, alpha, img, 1- alpha, 0, img)\n",
    "    img = overlay\n",
    "\n",
    "    \n",
    "    \n",
    "\n",
    "    \n",
    "def keyboard(cx8,cy8,img,overlay):\n",
    "    global currentChar\n",
    "    global prevChar\n",
    "    global TheString\n",
    "    global prev_time\n",
    "    global interval\n",
    "    global current_time\n",
    "    \n",
    "    background(img,overlay)\n",
    "    \n",
    "    \n",
    "    \n",
    "    for i in range(len(locations)):\n",
    "        for j in range(len(locations[i])):\n",
    "            cv2.rectangle(img, (locations[i][j][0],locations[i][j][1]), (locations[i][j][0]+40,locations[i][j][1]+40), (140,0,0), thickness=cv2.FILLED)\n",
    "            cv2.putText(img, arrLetters[i][j], (locations[i][j][0]+8,locations[i][j][1]+30), cv2.FONT_HERSHEY_SIMPLEX,1 , (255, 255, 255), 2)\n",
    "            if(locations[i][j][0] <= cx8 <= locations[i][j][0]+40 and locations[i][j][1] <= cy8 <= locations[i][j][1]+40 and (current_time - prev_time > interval)):\n",
    "                prev_time = current_time\n",
    "                prevChar = currentChar\n",
    "                currentChar = arrLetters[i][j]\n",
    "                TheString += currentChar\n",
    "                \n",
    "    cv2.rectangle(img, (210,310), (430,350), (140,0,0), thickness=cv2.FILLED)\n",
    "    cv2.putText(img, \"SPACE\", (270,340), cv2.FONT_HERSHEY_SIMPLEX,1 , (255, 255, 255), 2)\n",
    "    if(210 <= cx8 <= 430 and 310 <= cy8 <= 350 and (current_time - prev_time > interval)):\n",
    "        prev_time = current_time\n",
    "        prevChar = currentChar\n",
    "        currentChar = ' '\n",
    "        TheString += currentChar\n",
    "        \n",
    "    cv2.rectangle(img, (520,310), (610,350), (140,0,0), thickness=cv2.FILLED)\n",
    "    cv2.putText(img, \"DEL\", (540,340), cv2.FONT_HERSHEY_SIMPLEX,1 , (255, 255, 255), 2)\n",
    "    if(520 <= cx8 <= 610 and 310 <= cy8 <= 350 and (current_time - prev_time > interval)):\n",
    "        prev_time = current_time\n",
    "        prevChar = ''\n",
    "        currentChar = ''\n",
    "        TheString = TheString[:-1]\n",
    "    \n",
    "        \n",
    "    \n",
    "#     cv2.putText(img, currentChar, (310,40), cv2.FONT_HERSHEY_SIMPLEX,1 , (255, 255, 255), 5)      \n",
    "        \n",
    "    cv2.putText(img, TheString, (10,40), cv2.FONT_HERSHEY_SIMPLEX,1 , (0, 255, 0), 2)\n",
    "    \n",
    "    \n",
    "    \n",
    "arrLetters = [\n",
    "    ['Q','W','E','R','J','Y','U','I','O','P'],\n",
    "    ['A','S','D','F','G','H','J','K','L',';'],\n",
    "    ['Z','X','C','V','B','N','M',',','.','?'],\n",
    "                    ['SPACE']]\n",
    "\n",
    "locations = []\n",
    "for j in range(3):\n",
    "    \n",
    "    ls = []\n",
    "    for i in range(10):\n",
    "        ls.append((30+i*60,130+j*60))\n",
    "        \n",
    "    locations.append(ls)\n",
    "\n"
   ]
  },
  {
   "cell_type": "code",
   "execution_count": 21,
   "id": "18abd12f",
   "metadata": {
    "ExecuteTime": {
     "end_time": "2024-08-08T19:54:41.917478Z",
     "start_time": "2024-08-08T19:53:58.101187Z"
    }
   },
   "outputs": [],
   "source": [
    "cap = cv2.VideoCapture(0)\n",
    "\n",
    "mpHands = mp.solutions.hands\n",
    "hands = mpHands.Hands()\n",
    "mpDraw = mp.solutions.drawing_utils\n",
    "\n",
    "\n",
    "TheString = \"\"\n",
    "currentChar = ''\n",
    "prevChar = ''\n",
    "\n",
    "prev_time = 0\n",
    "interval = 1.2  # seconds\n",
    "current_time = 0\n",
    "\n",
    "while True:\n",
    "    success, img = cap.read()\n",
    "    img = cv2.flip(img,1)\n",
    "    imgRGB = cv2.cvtColor(img, cv2.COLOR_BGR2RGB)\n",
    "    results = hands.process(imgRGB)\n",
    "#     print(imgRGB.shape)\n",
    "#     # x = 40, y = 40, Width = 40, Height = 40, ButtonNo: 0\n",
    "#     Button(40,40,40,40,0)\n",
    "    overlay = img.copy()\n",
    "    \n",
    "    \n",
    "    # Getting the land mark\n",
    "    if results.multi_hand_landmarks:\n",
    "        for handLms in results.multi_hand_landmarks:\n",
    "            for id, lm in enumerate(handLms.landmark):\n",
    "                h, w, c = img.shape\n",
    "                cx, cy = int(lm.x * w), int(lm.y * h)\n",
    "        landmarks = handLms.landmark\n",
    "        \n",
    "        current_time = time.time()\n",
    "        \n",
    "        # Drawing the index finger\n",
    "        cx8,cy8 = DrawFinger(landmarks,8)\n",
    "        \n",
    "        keyboard(cx8,cy8,img,overlay)\n",
    "        \n",
    "        cx8,cy8 = DrawFinger(landmarks,8)\n",
    "        \n",
    "    \n",
    "    cv2.imshow(\"Image\", img)\n",
    "    \n",
    "    # Check for the 'Esc' key press\n",
    "    key = cv2.waitKey(1)\n",
    "    if key == 27:  # 27 is the keycode for 'Esc'\n",
    "        break\n",
    "\n",
    "cap.release()\n",
    "cv2.destroyAllWindows()"
   ]
  },
  {
   "cell_type": "code",
   "execution_count": 4,
   "id": "23ae7d26",
   "metadata": {
    "ExecuteTime": {
     "end_time": "2024-08-08T19:46:52.093039Z",
     "start_time": "2024-08-08T19:46:52.087027Z"
    }
   },
   "outputs": [],
   "source": [
    "# 640\n",
    "\n",
    "# 30 - 580 - 30\n",
    "\n",
    "\n",
    "\n",
    "\n",
    "# 480\n",
    "\n",
    "# 130\n",
    "#  |\n",
    "# 220\n",
    "#  |\n",
    "# 130"
   ]
  }
 ],
 "metadata": {
  "kernelspec": {
   "display_name": "Python 3 (ipykernel)",
   "language": "python",
   "name": "python3"
  },
  "language_info": {
   "codemirror_mode": {
    "name": "ipython",
    "version": 3
   },
   "file_extension": ".py",
   "mimetype": "text/x-python",
   "name": "python",
   "nbconvert_exporter": "python",
   "pygments_lexer": "ipython3",
   "version": "3.11.5"
  },
  "varInspector": {
   "cols": {
    "lenName": 16,
    "lenType": 16,
    "lenVar": 40
   },
   "kernels_config": {
    "python": {
     "delete_cmd_postfix": "",
     "delete_cmd_prefix": "del ",
     "library": "var_list.py",
     "varRefreshCmd": "print(var_dic_list())"
    },
    "r": {
     "delete_cmd_postfix": ") ",
     "delete_cmd_prefix": "rm(",
     "library": "var_list.r",
     "varRefreshCmd": "cat(var_dic_list()) "
    }
   },
   "types_to_exclude": [
    "module",
    "function",
    "builtin_function_or_method",
    "instance",
    "_Feature"
   ],
   "window_display": false
  }
 },
 "nbformat": 4,
 "nbformat_minor": 5
}
