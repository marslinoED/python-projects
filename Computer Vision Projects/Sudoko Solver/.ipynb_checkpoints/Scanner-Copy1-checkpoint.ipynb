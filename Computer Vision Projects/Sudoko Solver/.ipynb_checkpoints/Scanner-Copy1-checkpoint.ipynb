{
 "cells": [
  {
   "cell_type": "code",
   "execution_count": 1,
   "id": "fbe1e657",
   "metadata": {
    "ExecuteTime": {
     "end_time": "2024-03-28T18:26:43.908186Z",
     "start_time": "2024-03-28T18:26:43.747471Z"
    }
   },
   "outputs": [],
   "source": [
    "import cv2\n",
    "import numpy as np\n",
    "import math"
   ]
  },
  {
   "cell_type": "code",
   "execution_count": 2,
   "id": "0e5f7e31",
   "metadata": {
    "ExecuteTime": {
     "end_time": "2024-03-28T18:26:43.916347Z",
     "start_time": "2024-03-28T18:26:43.908186Z"
    }
   },
   "outputs": [],
   "source": [
    "def detect_squares(frame):\n",
    "    gray = cv2.cvtColor(frame, cv2.COLOR_BGR2GRAY)\n",
    "    blur = cv2.GaussianBlur(gray, (5, 5), 0)\n",
    "    edges = cv2.Canny(blur, 50, 150)\n",
    "    contours, _ = cv2.findContours(edges, cv2.RETR_EXTERNAL, cv2.CHAIN_APPROX_SIMPLE)\n",
    "    \n",
    "    squares = []\n",
    "    for contour in contours:\n",
    "        perimeter = cv2.arcLength(contour, True)\n",
    "        approx = cv2.approxPolyDP(contour, 0.02 * perimeter, True)\n",
    "        \n",
    "        if len(approx) == 4 and cv2.contourArea(contour) > 1000:\n",
    "            squares.append(approx)\n",
    "    \n",
    "    return squares"
   ]
  },
  {
   "cell_type": "code",
   "execution_count": 3,
   "id": "7424d96c",
   "metadata": {
    "ExecuteTime": {
     "end_time": "2024-03-28T18:26:43.928341Z",
     "start_time": "2024-03-28T18:26:43.921544Z"
    }
   },
   "outputs": [],
   "source": [
    "def find_square_corners(squares):\n",
    "    points = [] \n",
    "    points.append((squares[0][0][0][0],squares[0][0][0][1]))\n",
    "    points.append((squares[0][1][0][0],squares[0][1][0][1]))\n",
    "    points.append((squares[0][2][0][0],squares[0][2][0][1]))\n",
    "    points.append((squares[0][3][0][0],squares[0][3][0][1]))\n",
    "\n",
    "    # Calculate center\n",
    "    center_x = sum(point[0] for point in points) / len(points)\n",
    "    center_y = sum(point[1] for point in points) / len(points)\n",
    "    \n",
    "    dl = dr = ul = ur = (0,0)\n",
    "    # Determine corner for each point\n",
    "    for point in points:\n",
    "        if point[0] > center_x:\n",
    "            if point[1] > center_y:\n",
    "                ur = point\n",
    "                #print(\"ur\")\n",
    "            else:\n",
    "                dr = point\n",
    "                #print(\"dr\")\n",
    "        else:\n",
    "            if point[1] > center_y:\n",
    "                ul = point\n",
    "                #print(\"ul\")\n",
    "            else:\n",
    "                dl = point\n",
    "                #print(\"dl\")\n",
    "                \n",
    "    return dl,dr,ul,ur\n",
    "\n",
    "#find_square_corners(squares)"
   ]
  },
  {
   "cell_type": "code",
   "execution_count": 4,
   "id": "ab994d81",
   "metadata": {
    "ExecuteTime": {
     "end_time": "2024-03-28T18:26:43.937341Z",
     "start_time": "2024-03-28T18:26:43.929341Z"
    }
   },
   "outputs": [],
   "source": [
    "def FindGrid(dl,dr,ul,ur):\n",
    "    Urow = []\n",
    "    Drow = []\n",
    "    for i in range(10):\n",
    "        Urow.append( ( int( (1-(i/9)) * ul[0] + (i/9) * ur[0] ) , int( (1-(i/9)) * ul[1] + (i/9) * ur[1] ) )  )\n",
    "        Drow.append( ( int( (1-(i/9)) * dl[0] + (i/9) * dr[0] ) , int( (1-(i/9)) * dl[1] + (i/9) * dr[1] ) )  )\n",
    "        \n",
    "    #print(Urow)\n",
    "    #print(Drow)\n",
    "\n",
    "    GridPoints = []\n",
    "    \n",
    "    \n",
    "    for j in range(10):\n",
    "        col = []\n",
    "        for i in range(10):\n",
    "            col.append( ( int( (1-(i/9)) * Drow[j][0] + (i/9) * Urow[j][0] ) , int( (1-(i/9)) * Drow[j][1] + (i/9) * Urow[j][1] ) )  )\n",
    "        #print(col)\n",
    "        GridPoints.append(col)\n",
    "        \n",
    "    #print(GridPoints)\n",
    "    return GridPoints\n",
    "\n",
    "#FindGrid((400,400),(100,400),(100,100),(400,100))"
   ]
  },
  {
   "cell_type": "code",
   "execution_count": 5,
   "id": "1fda3f0f",
   "metadata": {
    "ExecuteTime": {
     "end_time": "2024-03-28T18:26:43.957284Z",
     "start_time": "2024-03-28T18:26:43.940338Z"
    }
   },
   "outputs": [],
   "source": [
    "def solve_sudoku(board):\n",
    "    # Find empty position, if none, puzzle is solved\n",
    "    empty_pos = find_empty_position(board)\n",
    "    if not empty_pos:\n",
    "        return True  # Puzzle solved\n",
    "\n",
    "    row, col = empty_pos\n",
    "\n",
    "    # Try placing numbers from 1 to 9\n",
    "    for num in range(1, 10):\n",
    "        if is_valid(board, row, col, num):\n",
    "            board[row][col] = num\n",
    "\n",
    "            # Recursively try to solve the puzzle\n",
    "            if solve_sudoku(board):\n",
    "                return True  # If successful, return True\n",
    "\n",
    "            # If not successful, backtrack\n",
    "            board[row][col] = 0\n",
    "\n",
    "    return False  # Puzzle cannot be solved\n",
    "\n",
    "def is_valid(board, row, col, num):\n",
    "    # Check if the number is already in the current row\n",
    "    if num in board[row]:\n",
    "        return False\n",
    "\n",
    "    # Check if the number is already in the current column\n",
    "    for i in range(9):\n",
    "        if board[i][col] == num:\n",
    "            return False\n",
    "\n",
    "    # Check if the number is already in the current 3x3 grid\n",
    "    start_row, start_col = 3 * (row // 3), 3 * (col // 3)\n",
    "    for i in range(3):\n",
    "        for j in range(3):\n",
    "            if board[i + start_row][j + start_col] == num:\n",
    "                return False\n",
    "\n",
    "    return True\n",
    "\n",
    "\n",
    "def find_empty_position(board):\n",
    "    for i in range(9):\n",
    "        for j in range(9):\n",
    "            if board[i][j] == 0:\n",
    "                return (i, j)\n",
    "    return None\n",
    "\n",
    "# for Debugging\n",
    "def print_board(board):\n",
    "    for i in range(9):\n",
    "        if i % 3 == 0 and i != 0:\n",
    "            print(\"-\" * 21)  # Separate the board into 3x3 blocks\n",
    "        for j in range(9):\n",
    "            if j % 3 == 0 and j != 0:\n",
    "                print(\"|\", end=\" \")  # Separate each row into 3x3 blocks\n",
    "            print(board[i][j], end=\" \")\n",
    "        print()  # Move to the next line after printing each row\n",
    "\n",
    "def GetBoard(Imgs):\n",
    "    UnSolved = [\n",
    "        [7,9,0, 0,2,0, 3,8,0],\n",
    "        [0,0,4, 0,0,0, 2,0,0],\n",
    "        [5,0,0, 4,0,0, 0,1,0],\n",
    "    \n",
    "        [0,7,0, 3,0,0, 9,0,0],\n",
    "        [3,5,0, 0,9,0, 7,0,0],\n",
    "        [0,6,0, 0,0,0, 0,4,0],\n",
    " \n",
    "        [0,0,0, 8,7,0, 0,0,0],\n",
    "        [2,0,0, 1,0,0, 0,0,0],\n",
    "        [0,0,1, 0,0,0, 0,9,0]\n",
    "    ]\n",
    "    sudoku_board = [[-1 if element > 0 else element for element in row] for row in UnSolved]\n",
    "    \n",
    "    if (solve_sudoku(UnSolved)):\n",
    "        sudoku_board = [[UnSolved[i][j] if sudoku_board[i][j] != -1 else -1 for j in range(len(UnSolved[i]))] for i in range(len(UnSolved))]\n",
    "\n",
    "    else:\n",
    "        return -1\n",
    "    \n",
    "    return sudoku_board\n",
    "    \n",
    "\n",
    "\n",
    "def DrawNums(GridPoints,Imgs):\n",
    "    sudoku_board = GetBoard(Imgs)\n",
    "    \n",
    "    if (sudoku_board == -1):\n",
    "        print(\"Yessss\")\n",
    "        cv2.putText(frame,\"UnSolved\",GridPoints[1][4],cv2.FONT_HERSHEY_COMPLEX,0.5,(255,255,255),0)\n",
    "        return 0\n",
    "    \n",
    "    Middle = []\n",
    "    for i in range(9):\n",
    "        col = []\n",
    "        for j in range(9):\n",
    "            s = (int(((GridPoints[i][j][0]+GridPoints[i+1][j+1][0])/2)),int(((GridPoints[i][j][1]+GridPoints[i+1][j+1][1])/2)))\n",
    "            col.append(s)\n",
    "            if (sudoku_board[j][i] != -1):\n",
    "                cv2.putText(frame,str(sudoku_board[j][i]),col[j],cv2.FONT_HERSHEY_COMPLEX,0.5,(255,0,0),0)\n",
    "        Middle.append(col)\n",
    "        \n",
    "        \n",
    "        "
   ]
  },
  {
   "cell_type": "code",
   "execution_count": 6,
   "id": "b2af8019",
   "metadata": {
    "ExecuteTime": {
     "end_time": "2024-03-28T18:26:43.967352Z",
     "start_time": "2024-03-28T18:26:43.959109Z"
    }
   },
   "outputs": [],
   "source": [
    "def SavingCells(GridPoints):\n",
    "    imgs = []\n",
    "    dd = 5\n",
    "    for i in range(9):\n",
    "        col =[]\n",
    "        for j in range(9):\n",
    "            cell = frame[GridPoints[i][j][1] + dd :GridPoints[i+1][j+1][1] - dd,GridPoints[i][j][0] + dd:GridPoints[i+1][j+1][0] - dd ]\n",
    "            #print(cell,i,j)\n",
    "            col.append(cell)\n",
    "            cv2.imwrite('Cells/cell['+ str(j) + '][' + str(i) + '].jpg',cell)\n",
    "        imgs.append(col)\n",
    "            \n",
    "    print(\"saved\")\n",
    "    return imgs\n",
    "\n",
    "def BigEnough(dl,dr,ul,ur):\n",
    "    x1, y1 = ul\n",
    "    x2, y2 = dr\n",
    "    x3, y3 = dl\n",
    "    x4, y4 = ur\n",
    "    distance = math.sqrt((x2 - x1)**2 + (y2 - y1)**2)\n",
    "    W = math.sqrt((x2 - x3)**2 + (y2 - y3)**2)\n",
    "    H = math.sqrt((x3 - x1)**2 + (y3 - y1)**2)\n",
    "    return distance>100 and (-100 <= W-H <= 100)"
   ]
  },
  {
   "cell_type": "code",
   "execution_count": null,
   "id": "5243c215",
   "metadata": {
    "ExecuteTime": {
     "start_time": "2024-03-28T18:26:52.575Z"
    }
   },
   "outputs": [],
   "source": [
    "cap = cv2.VideoCapture(0)\n",
    "Color = (255,255,255)\n",
    "while True:\n",
    "    ret, frame = cap.read()\n",
    "    if not ret:\n",
    "        break\n",
    "    \n",
    "    squares = detect_squares(frame)\n",
    "\n",
    "    # Draw the contours\n",
    "    if squares:  # Check if squares list is not empty\n",
    "        \n",
    "        cv2.drawContours(frame, squares, -1, (0, 255, 0), 3)\n",
    "    \n",
    "        \n",
    "        \n",
    "    \n",
    "        dl,dr,ul,ur = find_square_corners(squares)\n",
    "        GridPoints = FindGrid(dl,dr,ul,ur)\n",
    "        \n",
    "        for i in range(10):\n",
    "            for j in range(10):\n",
    "                cv2.circle(frame,GridPoints[i][j],2,(0,0,0))# Display the image\n",
    "                \n",
    "                \n",
    "        cv2.circle(frame,(GridPoints[0][0][0],GridPoints[0][0][1]),10,(255,255,255))\n",
    "        cv2.rectangle(frame,GridPoints[0][0],GridPoints[1][1],(255,0,0),2)\n",
    "        #if(BigEnough(dl,dr,ul,ur)):\n",
    "            #Imgs = SavingCells(GridPoints)\n",
    "        Imgs = 0    \n",
    "        DrawNums(GridPoints,Imgs)\n",
    "    \n",
    "    \n",
    "    cv2.imshow('Squares Detection', frame)\n",
    "    \n",
    "    if cv2.waitKey(1) & 0xFF == ord('q'):\n",
    "        break\n",
    "\n",
    "cap.release()\n",
    "cv2.destroyAllWindows()"
   ]
  },
  {
   "cell_type": "code",
   "execution_count": null,
   "id": "2ed65d0b",
   "metadata": {},
   "outputs": [],
   "source": []
  },
  {
   "cell_type": "code",
   "execution_count": null,
   "id": "93584602",
   "metadata": {},
   "outputs": [],
   "source": []
  },
  {
   "cell_type": "code",
   "execution_count": null,
   "id": "1d532d65",
   "metadata": {},
   "outputs": [],
   "source": []
  },
  {
   "cell_type": "code",
   "execution_count": null,
   "id": "f73e6c10",
   "metadata": {},
   "outputs": [],
   "source": []
  },
  {
   "cell_type": "code",
   "execution_count": null,
   "id": "616d4d54",
   "metadata": {},
   "outputs": [],
   "source": []
  },
  {
   "cell_type": "code",
   "execution_count": null,
   "id": "e4e1e513",
   "metadata": {},
   "outputs": [],
   "source": []
  },
  {
   "cell_type": "code",
   "execution_count": null,
   "id": "0a82cd69",
   "metadata": {},
   "outputs": [],
   "source": []
  },
  {
   "cell_type": "code",
   "execution_count": null,
   "id": "5981c8be",
   "metadata": {},
   "outputs": [],
   "source": []
  },
  {
   "cell_type": "code",
   "execution_count": null,
   "id": "afbc2503",
   "metadata": {},
   "outputs": [],
   "source": []
  },
  {
   "cell_type": "code",
   "execution_count": null,
   "id": "c65c9321",
   "metadata": {},
   "outputs": [],
   "source": []
  },
  {
   "cell_type": "code",
   "execution_count": null,
   "id": "13ac93e7",
   "metadata": {},
   "outputs": [],
   "source": []
  },
  {
   "cell_type": "code",
   "execution_count": null,
   "id": "20a72e89",
   "metadata": {},
   "outputs": [],
   "source": []
  },
  {
   "cell_type": "code",
   "execution_count": null,
   "id": "30da2a21",
   "metadata": {},
   "outputs": [],
   "source": []
  },
  {
   "cell_type": "code",
   "execution_count": null,
   "id": "17851d25",
   "metadata": {},
   "outputs": [],
   "source": []
  },
  {
   "cell_type": "code",
   "execution_count": null,
   "id": "9a8c1907",
   "metadata": {},
   "outputs": [],
   "source": []
  }
 ],
 "metadata": {
  "kernelspec": {
   "display_name": "Python 3 (ipykernel)",
   "language": "python",
   "name": "python3"
  },
  "language_info": {
   "codemirror_mode": {
    "name": "ipython",
    "version": 3
   },
   "file_extension": ".py",
   "mimetype": "text/x-python",
   "name": "python",
   "nbconvert_exporter": "python",
   "pygments_lexer": "ipython3",
   "version": "3.11.5"
  },
  "varInspector": {
   "cols": {
    "lenName": 16,
    "lenType": 16,
    "lenVar": 40
   },
   "kernels_config": {
    "python": {
     "delete_cmd_postfix": "",
     "delete_cmd_prefix": "del ",
     "library": "var_list.py",
     "varRefreshCmd": "print(var_dic_list())"
    },
    "r": {
     "delete_cmd_postfix": ") ",
     "delete_cmd_prefix": "rm(",
     "library": "var_list.r",
     "varRefreshCmd": "cat(var_dic_list()) "
    }
   },
   "types_to_exclude": [
    "module",
    "function",
    "builtin_function_or_method",
    "instance",
    "_Feature"
   ],
   "window_display": false
  }
 },
 "nbformat": 4,
 "nbformat_minor": 5
}
