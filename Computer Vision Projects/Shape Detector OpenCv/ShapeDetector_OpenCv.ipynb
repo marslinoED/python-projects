{
 "cells": [
  {
   "cell_type": "code",
   "execution_count": null,
   "id": "2fd6e280",
   "metadata": {
    "ExecuteTime": {
     "end_time": "2024-03-07T20:58:36.173362Z",
     "start_time": "2024-03-07T20:58:36.162956Z"
    }
   },
   "outputs": [],
   "source": [
    "import cv2\n",
    "import numpy as np"
   ]
  },
  {
   "cell_type": "code",
   "execution_count": null,
   "id": "40e7c807",
   "metadata": {
    "ExecuteTime": {
     "end_time": "2024-03-07T20:58:36.173362Z",
     "start_time": "2024-03-07T20:58:36.162956Z"
    }
   },
   "outputs": [],
   "source": [
    "def detect_shapes(image_path):\n",
    "    image = cv2.imread(image_path)\n",
    "    gray = cv2.cvtColor(image, cv2.COLOR_BGR2GRAY)\n",
    "    blurred = cv2.GaussianBlur(gray, (5, 5), 0)\n",
    "    edges = cv2.Canny(blurred, 50, 150)\n",
    "    contours, _ = cv2.findContours(edges.copy(), cv2.RETR_EXTERNAL, cv2.CHAIN_APPROX_SIMPLE)\n",
    "\n",
    "    shapes = []\n",
    "\n",
    "    for contour in contours:\n",
    "        # Approximate the contour\n",
    "        peri = cv2.arcLength(contour, True)\n",
    "        approx = cv2.approxPolyDP(contour, 0.04 * peri, True)\n",
    "        # Get the number of vertices\n",
    "        num_vertices = len(approx)\n",
    "\n",
    "        shape = \"\"\n",
    "        if num_vertices == 3:\n",
    "            shape = \"Triangle\"\n",
    "        elif num_vertices == 4:\n",
    "            x, y, w, h = cv2.boundingRect(approx)\n",
    "            if (0.95 <= w/h <= 1.05):\n",
    "                    shape = \"Square\"\n",
    "            else:\n",
    "                shape = \"Rectangle\"\n",
    "        elif num_vertices == 5:\n",
    "            shape = \"Pentagon\"\n",
    "        elif num_vertices == 6:\n",
    "            shape = \"Hexagon\"\n",
    "        else:\n",
    "            shape = \"Circle\"\n",
    "\n",
    "        shapes.append(shape)\n",
    "\n",
    "    return shapes"
   ]
  },
  {
   "cell_type": "code",
   "execution_count": null,
   "id": "d31ac965",
   "metadata": {
    "ExecuteTime": {
     "end_time": "2024-03-07T20:58:36.173362Z",
     "start_time": "2024-03-07T20:58:36.162956Z"
    }
   },
   "outputs": [],
   "source": [
    "# Detect and classify shapes\n",
    "# print(\"Detected Shapes:\", detect_shapes(\"image_path\"))"
   ]
  }
 ],
 "metadata": {
  "kernelspec": {
   "display_name": "Python 3 (ipykernel)",
   "language": "python",
   "name": "python3"
  },
  "language_info": {
   "codemirror_mode": {
    "name": "ipython",
    "version": 3
   },
   "file_extension": ".py",
   "mimetype": "text/x-python",
   "name": "python",
   "nbconvert_exporter": "python",
   "pygments_lexer": "ipython3",
   "version": "3.11.5"
  },
  "varInspector": {
   "cols": {
    "lenName": 16,
    "lenType": 16,
    "lenVar": 40
   },
   "kernels_config": {
    "python": {
     "delete_cmd_postfix": "",
     "delete_cmd_prefix": "del ",
     "library": "var_list.py",
     "varRefreshCmd": "print(var_dic_list())"
    },
    "r": {
     "delete_cmd_postfix": ") ",
     "delete_cmd_prefix": "rm(",
     "library": "var_list.r",
     "varRefreshCmd": "cat(var_dic_list()) "
    }
   },
   "types_to_exclude": [
    "module",
    "function",
    "builtin_function_or_method",
    "instance",
    "_Feature"
   ],
   "window_display": false
  }
 },
 "nbformat": 4,
 "nbformat_minor": 5
}
