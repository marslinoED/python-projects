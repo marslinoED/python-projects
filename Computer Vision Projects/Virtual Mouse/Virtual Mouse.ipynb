{
 "cells": [
  {
   "cell_type": "code",
   "execution_count": 1,
   "id": "61913b28",
   "metadata": {
    "ExecuteTime": {
     "end_time": "2024-04-04T20:29:46.851301Z",
     "start_time": "2024-04-04T20:29:39.582936Z"
    }
   },
   "outputs": [
    {
     "name": "stdout",
     "output_type": "stream",
     "text": [
      "WARNING:tensorflow:From E:\\SETUP\\Anaconda\\Lib\\site-packages\\keras\\src\\losses.py:2976: The name tf.losses.sparse_softmax_cross_entropy is deprecated. Please use tf.compat.v1.losses.sparse_softmax_cross_entropy instead.\n",
      "\n"
     ]
    }
   ],
   "source": [
    "import cv2\n",
    "import mediapipe as mp\n",
    "import mouse\n",
    "import tkinter as tk\n",
    "import math"
   ]
  },
  {
   "cell_type": "code",
   "execution_count": 2,
   "id": "88b62c55",
   "metadata": {
    "ExecuteTime": {
     "end_time": "2024-04-04T20:29:47.685098Z",
     "start_time": "2024-04-04T20:29:47.680071Z"
    }
   },
   "outputs": [],
   "source": [
    "# Function to map hand landmarks to screen coordinates\n",
    "def map_landmarks_to_screen_coords(landmark, screen_width, screen_height):\n",
    "    x = int(landmark.x * screen_width)\n",
    "    y = int(landmark.y * screen_height)\n",
    "    return x, y\n",
    "\n",
    "# Function to calculate distance between two points\n",
    "def calculate_distance(point1, point2):\n",
    "    return math.sqrt((point2[0] - point1[0])**2 + (point2[1] - point1[1])**2)"
   ]
  },
  {
   "cell_type": "code",
   "execution_count": 3,
   "id": "8acace49",
   "metadata": {
    "ExecuteTime": {
     "end_time": "2024-04-04T20:29:58.506672Z",
     "start_time": "2024-04-04T20:29:52.209075Z"
    }
   },
   "outputs": [],
   "source": [
    "cap = cv2.VideoCapture(0)\n",
    "\n",
    "mp_hands = mp.solutions.hands\n",
    "hands = mp_hands.Hands()\n",
    "\n",
    "root = tk.Tk()\n",
    "screen_width = root.winfo_screenwidth()\n",
    "screen_height = root.winfo_screenheight()\n",
    "root.destroy()\n",
    "\n",
    "clicking = False\n",
    "\n",
    "while cap.isOpened():\n",
    "    ret, frame = cap.read()  \n",
    "    if not ret:\n",
    "        break\n",
    "\n",
    "    frame = cv2.flip(frame, 1)\n",
    "\n",
    "    rgb_frame = cv2.cvtColor(frame, cv2.COLOR_BGR2RGB)\n",
    "\n",
    "    results = hands.process(rgb_frame)\n",
    "\n",
    "    if results.multi_hand_landmarks:\n",
    "        for hand_landmarks in results.multi_hand_landmarks:\n",
    "            # Get index finger landmark (assuming right hand for simplicity)\n",
    "            index_finger_landmark = hand_landmarks.landmark[mp_hands.HandLandmark.INDEX_FINGER_TIP]\n",
    "            thumb_finger_landmark = hand_landmarks.landmark[mp_hands.HandLandmark.THUMB_TIP]\n",
    "            middle_finger_landmark = hand_landmarks.landmark[mp_hands.HandLandmark.MIDDLE_FINGER_TIP]\n",
    "\n",
    "            # Map hand landmarks to screen coordinates\n",
    "            index_x, index_y = map_landmarks_to_screen_coords(index_finger_landmark, screen_width, screen_height)\n",
    "            thumb_x, thumb_y = map_landmarks_to_screen_coords(thumb_finger_landmark, screen_width, screen_height)\n",
    "            middle_x, middle_y = map_landmarks_to_screen_coords(middle_finger_landmark, screen_width, screen_height)\n",
    "\n",
    "            # Calculate distance between thumb and middle finger tips\n",
    "            distance = calculate_distance((thumb_x, thumb_y), (middle_x, middle_y))\n",
    "\n",
    "            # Check if distance is small enough to simulate click\n",
    "            if distance < 50:  \n",
    "                if not clicking:\n",
    "                    mouse.press()\n",
    "                    clicking = True\n",
    "            else:\n",
    "                if clicking:\n",
    "                    mouse.release()\n",
    "                    clicking = False\n",
    "\n",
    "            mouse.move(index_x, index_y, absolute=True)\n",
    "\n",
    "    cv2.imshow('Virtual Mouse', frame)\n",
    "\n",
    "    if cv2.waitKey(1) & 0xFF == ord('q'):\n",
    "        break\n",
    "\n",
    "cap.release()\n",
    "cv2.destroyAllWindows()"
   ]
  }
 ],
 "metadata": {
  "kernelspec": {
   "display_name": "Python 3 (ipykernel)",
   "language": "python",
   "name": "python3"
  },
  "language_info": {
   "codemirror_mode": {
    "name": "ipython",
    "version": 3
   },
   "file_extension": ".py",
   "mimetype": "text/x-python",
   "name": "python",
   "nbconvert_exporter": "python",
   "pygments_lexer": "ipython3",
   "version": "3.11.5"
  },
  "varInspector": {
   "cols": {
    "lenName": 16,
    "lenType": 16,
    "lenVar": 40
   },
   "kernels_config": {
    "python": {
     "delete_cmd_postfix": "",
     "delete_cmd_prefix": "del ",
     "library": "var_list.py",
     "varRefreshCmd": "print(var_dic_list())"
    },
    "r": {
     "delete_cmd_postfix": ") ",
     "delete_cmd_prefix": "rm(",
     "library": "var_list.r",
     "varRefreshCmd": "cat(var_dic_list()) "
    }
   },
   "types_to_exclude": [
    "module",
    "function",
    "builtin_function_or_method",
    "instance",
    "_Feature"
   ],
   "window_display": false
  }
 },
 "nbformat": 4,
 "nbformat_minor": 5
}
