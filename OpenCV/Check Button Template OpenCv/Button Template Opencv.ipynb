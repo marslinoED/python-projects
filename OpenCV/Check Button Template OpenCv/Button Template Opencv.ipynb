{
 "cells": [
  {
   "cell_type": "code",
   "execution_count": 1,
   "id": "18abd12f",
   "metadata": {
    "ExecuteTime": {
     "end_time": "2024-03-01T10:34:30.901675Z",
     "start_time": "2024-03-01T10:33:58.463275Z"
    }
   },
   "outputs": [
    {
     "name": "stdout",
     "output_type": "stream",
     "text": [
      "WARNING:tensorflow:From E:\\SETUP\\Anaconda\\Lib\\site-packages\\keras\\src\\losses.py:2976: The name tf.losses.sparse_softmax_cross_entropy is deprecated. Please use tf.compat.v1.losses.sparse_softmax_cross_entropy instead.\n",
      "\n"
     ]
    }
   ],
   "source": [
    "import cv2\n",
    "import mediapipe as mp\n",
    "import math\n",
    "\n",
    "cap = cv2.VideoCapture(0)\n",
    "\n",
    "mpHands = mp.solutions.hands\n",
    "hands = mpHands.Hands()\n",
    "mpDraw = mp.solutions.drawing_utils\n",
    "\n",
    "i = 0\n",
    "\n",
    "def CheckIfClosser(x,y,tx,ty,lx,ly):\n",
    "    if ((tx <= x <= lx) and (ty <= y <= ly)):\n",
    "        return (True)\n",
    "    \n",
    "    \n",
    "def DrawrTheRectangle(cx8,cy8,tx,ty,lx,ly):\n",
    "    global i\n",
    "    i+=5\n",
    "    cv2.rectangle(img, (tx,ty), (tx + i, ly), (0,255, 0), thickness=cv2.FILLED)\n",
    "    if (tx + i >= lx):\n",
    "        i = lx - tx - 5\n",
    "        return (True)\n",
    "\n",
    "def get_dimensions(x, y, width, height):\n",
    "    return int(x), int(y), int(width + x), int(height + y)\n",
    "\n",
    "while True:\n",
    "    success, img = cap.read()\n",
    "    img = cv2.flip(img,1)\n",
    "    imgRGB = cv2.cvtColor(img, cv2.COLOR_BGR2RGB)\n",
    "    results = hands.process(imgRGB)\n",
    "    \n",
    "    # Getting the land mark\n",
    "    if results.multi_hand_landmarks:\n",
    "        for handLms in results.multi_hand_landmarks:\n",
    "            for id, lm in enumerate(handLms.landmark):\n",
    "                h, w, c = img.shape\n",
    "                cx, cy = int(lm.x * w), int(lm.y * h)\n",
    "        landmarks = handLms.landmark\n",
    "                \n",
    "        # Drawing the index finger\n",
    "        # Get the coordinates of landmarks at indices 8 and 4\n",
    "        x8, y8 = landmarks[8].x, landmarks[8].y\n",
    "        # Draw circles at the landmark positions\n",
    "        h, w, c = img.shape\n",
    "        cx8, cy8 = int(x8 * w), int(y8 * h)\n",
    "        # this part to draw the hand body\n",
    "        cv2.circle(img, (cx8, cy8), 15, (255,255,255), thickness=2)\n",
    "        \n",
    "        # tx,ty \n",
    "    \n",
    "    \n",
    "        #        lx,ly\n",
    "        \n",
    "        #tx,ly+step\n",
    "        #        lx,ly+2*step\n",
    "        \n",
    "        x,y,width,height = get_dimensions(40,40,40,40)\n",
    "        \n",
    "        if(CheckIfClosser(cx8, cy8, x,y,width,height)):\n",
    "              if(DrawrTheRectangle(cx8,cy8,x,height+5,width,height+10)):\n",
    "                    cv2.putText(img, \"Checked\", (x,height + 20), cv2.FONT_HERSHEY_SIMPLEX, 0.3, (255, 255, 255), 1)\n",
    "\n",
    "        else:\n",
    "            i = 0\n",
    "            \n",
    "        # Drawing The Box\n",
    "        cv2.rectangle(img, (40,40), (80,80), (139,0, 0), thickness=cv2.FILLED)\n",
    "        cv2.rectangle(img, (40, 85), (80, 90), (128,128,128), thickness=1)\n",
    "        \n",
    "        \n",
    "    cv2.imshow(\"Image\", img)\n",
    "    \n",
    "    # Check for the 'Esc' key press\n",
    "    key = cv2.waitKey(1)\n",
    "    if key == 27:  # 27 is the keycode for 'Esc'\n",
    "        break\n",
    "\n",
    "cap.release()\n",
    "cv2.destroyAllWindows()\n"
   ]
  }
 ],
 "metadata": {
  "kernelspec": {
   "display_name": "Python 3 (ipykernel)",
   "language": "python",
   "name": "python3"
  },
  "language_info": {
   "codemirror_mode": {
    "name": "ipython",
    "version": 3
   },
   "file_extension": ".py",
   "mimetype": "text/x-python",
   "name": "python",
   "nbconvert_exporter": "python",
   "pygments_lexer": "ipython3",
   "version": "3.11.5"
  },
  "varInspector": {
   "cols": {
    "lenName": 16,
    "lenType": 16,
    "lenVar": 40
   },
   "kernels_config": {
    "python": {
     "delete_cmd_postfix": "",
     "delete_cmd_prefix": "del ",
     "library": "var_list.py",
     "varRefreshCmd": "print(var_dic_list())"
    },
    "r": {
     "delete_cmd_postfix": ") ",
     "delete_cmd_prefix": "rm(",
     "library": "var_list.r",
     "varRefreshCmd": "cat(var_dic_list()) "
    }
   },
   "types_to_exclude": [
    "module",
    "function",
    "builtin_function_or_method",
    "instance",
    "_Feature"
   ],
   "window_display": false
  }
 },
 "nbformat": 4,
 "nbformat_minor": 5
}
