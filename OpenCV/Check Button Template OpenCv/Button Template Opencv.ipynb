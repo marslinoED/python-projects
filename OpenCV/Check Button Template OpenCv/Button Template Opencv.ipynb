{
 "cells": [
  {
   "cell_type": "code",
   "execution_count": 6,
   "id": "6605a1e1",
   "metadata": {
    "ExecuteTime": {
     "end_time": "2024-03-08T20:33:10.102337Z",
     "start_time": "2024-03-08T20:33:10.071916Z"
    }
   },
   "outputs": [],
   "source": [
    "import cv2\n",
    "import mediapipe as mp\n",
    "import math\n",
    "\n",
    "i = [0] * 100 \n",
    "\n",
    "def CheckIfClosser(x,y,tx,ty,lx,ly):\n",
    "    if ((tx <= x <= lx) and (ty <= y <= ly)):\n",
    "        return (True)\n",
    "    \n",
    "    \n",
    "def DrawTheRectangle(tx,ty,lx,ly,WhichButton):\n",
    "\n",
    "    i[WhichButton] += 5\n",
    "    cv2.rectangle(img, (tx,ty), (tx + i[WhichButton], ly), (0,255, 0), thickness=cv2.FILLED)\n",
    "    if (tx + i[WhichButton] >= lx):\n",
    "        i[WhichButton] = lx - tx - 5\n",
    "        return (True)\n",
    "\n",
    "def GetDimensions(x, y, width, height):\n",
    "    return int(x), int(y), int(width + x), int(height + y)\n",
    "\n",
    "def DrawFinger(landmarks, FingerTip):\n",
    "        # Get the coordinates of landmarks\n",
    "        x, y = landmarks[FingerTip].x, landmarks[FingerTip].y\n",
    "        # Draw circles at the landmark positions\n",
    "        h, w, c = img.shape\n",
    "        cx, cy = int(x * w), int(y * h)\n",
    "        # this part to draw the hand body\n",
    "        cv2.circle(img, (cx, cy), 15, (255,255,255), thickness=2)\n",
    "        return int(cx), int(cy)\n",
    "\n",
    "def Button(p1,p2,p3,p4,WhichButton):\n",
    "     # Getting the dimensins\n",
    "        x,y,width,height = GetDimensions(p1,p2,p3,p4)\n",
    "        \n",
    "        # Drawing The Button\n",
    "        cv2.rectangle(img, (x,y), (width,height), (139,0, 0), thickness=cv2.FILLED)\n",
    "        \n",
    "        \n",
    "        if(CheckIfClosser(cx8, cy8, x,y,width,height)):\n",
    "              if(DrawTheRectangle(x,height+5,width,height+10,WhichButton)):\n",
    "                    cv2.putText(img, \"CHECK\", (x+5,int((y+height)/2)), cv2.FONT_HERSHEY_SIMPLEX,0.3 * ((width - x)/40) , (255, 255, 255), 1)\n",
    "                    cv2.rectangle(img, (x,y), (width,height), (255,255, 255), thickness= int(1 * ((x)/40)) )\n",
    "                    # Function if button checked here:\n",
    "                    \n",
    "        else:\n",
    "            i[WhichButton] = 0\n",
    "        \n",
    "        # Drawing The Box\n",
    "        cv2.rectangle(img, (x, height+5), (width, height+10), (128,128,128), thickness=1)"
   ]
  },
  {
   "cell_type": "code",
   "execution_count": 8,
   "id": "18abd12f",
   "metadata": {
    "ExecuteTime": {
     "end_time": "2024-03-08T20:34:15.622184Z",
     "start_time": "2024-03-08T20:33:56.706238Z"
    }
   },
   "outputs": [],
   "source": [
    "cap = cv2.VideoCapture(0)\n",
    "\n",
    "mpHands = mp.solutions.hands\n",
    "hands = mpHands.Hands()\n",
    "mpDraw = mp.solutions.drawing_utils\n",
    "\n",
    "while True:\n",
    "    success, img = cap.read()\n",
    "    img = cv2.flip(img,1)\n",
    "    imgRGB = cv2.cvtColor(img, cv2.COLOR_BGR2RGB)\n",
    "    results = hands.process(imgRGB)\n",
    "    \n",
    "    # Getting the land mark\n",
    "    if results.multi_hand_landmarks:\n",
    "        for handLms in results.multi_hand_landmarks:\n",
    "            for id, lm in enumerate(handLms.landmark):\n",
    "                h, w, c = img.shape\n",
    "                cx, cy = int(lm.x * w), int(lm.y * h)\n",
    "        landmarks = handLms.landmark\n",
    "                \n",
    "        # Drawing the index finger\n",
    "        cx8,cy8 = DrawFinger(landmarks,8)\n",
    "        \n",
    "        # x = 40, y = 40, Width = 40, Height = 40, ButtonNo: 0\n",
    "        Button(40,40,40,40,0)\n",
    "        \n",
    "        # x = 100, y = 40, Width = 20, Height = 40, ButtonNo: 1\n",
    "        Button(100,40,20,40,1)\n",
    "        \n",
    "        \n",
    "    cv2.imshow(\"Image\", img)\n",
    "    \n",
    "    # Check for the 'Esc' key press\n",
    "    key = cv2.waitKey(1)\n",
    "    if key == 27:  # 27 is the keycode for 'Esc'\n",
    "        break\n",
    "\n",
    "cap.release()\n",
    "cv2.destroyAllWindows()"
   ]
  },
  {
   "cell_type": "code",
   "execution_count": null,
   "id": "813e9815",
   "metadata": {},
   "outputs": [],
   "source": []
  }
 ],
 "metadata": {
  "kernelspec": {
   "display_name": "Python 3 (ipykernel)",
   "language": "python",
   "name": "python3"
  },
  "language_info": {
   "codemirror_mode": {
    "name": "ipython",
    "version": 3
   },
   "file_extension": ".py",
   "mimetype": "text/x-python",
   "name": "python",
   "nbconvert_exporter": "python",
   "pygments_lexer": "ipython3",
   "version": "3.11.5"
  },
  "varInspector": {
   "cols": {
    "lenName": 16,
    "lenType": 16,
    "lenVar": 40
   },
   "kernels_config": {
    "python": {
     "delete_cmd_postfix": "",
     "delete_cmd_prefix": "del ",
     "library": "var_list.py",
     "varRefreshCmd": "print(var_dic_list())"
    },
    "r": {
     "delete_cmd_postfix": ") ",
     "delete_cmd_prefix": "rm(",
     "library": "var_list.r",
     "varRefreshCmd": "cat(var_dic_list()) "
    }
   },
   "types_to_exclude": [
    "module",
    "function",
    "builtin_function_or_method",
    "instance",
    "_Feature"
   ],
   "window_display": false
  }
 },
 "nbformat": 4,
 "nbformat_minor": 5
}
