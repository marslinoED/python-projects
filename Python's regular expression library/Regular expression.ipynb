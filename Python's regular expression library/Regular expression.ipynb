{
 "cells": [
  {
   "cell_type": "markdown",
   "id": "fe86fba3",
   "metadata": {},
   "source": [
    "### Regular Expression :\n",
    "\n",
    "A regular expression (regex or regexp) is a powerful tool used for pattern matching within strings. It provides a concise and flexible syntax for finding, matching, and manipulating text. Regular expressions are supported in many programming languages, text editors, and command-line tools."
   ]
  },
  {
   "cell_type": "code",
   "execution_count": 1,
   "id": "f408fac7",
   "metadata": {
    "ExecuteTime": {
     "end_time": "2023-12-05T11:26:04.232873Z",
     "start_time": "2023-12-05T11:26:04.228650Z"
    }
   },
   "outputs": [],
   "source": [
    "import re"
   ]
  },
  {
   "cell_type": "markdown",
   "id": "a99d65e0",
   "metadata": {},
   "source": [
    "##### Key Functions:\n",
    "<h6> 1. search(pattern, string): </h6>\n",
    "Searches for the first occurrence of the pattern in the string.\n",
    "Returns a match object if a match is found, None otherwise."
   ]
  },
  {
   "cell_type": "code",
   "execution_count": 50,
   "id": "e6744859",
   "metadata": {
    "ExecuteTime": {
     "end_time": "2023-12-05T11:36:52.161426Z",
     "start_time": "2023-12-05T11:36:52.156388Z"
    }
   },
   "outputs": [
    {
     "name": "stdout",
     "output_type": "stream",
     "text": [
      "<re.Match object; span=(6, 11), match='world'>\n",
      "(6, 11)\n",
      "world\n",
      "Hello world\n",
      "world\n"
     ]
    }
   ],
   "source": [
    "pattern = r\"world\"\n",
    "string = \"Hello world\"\n",
    "match = re.search(pattern, string)\n",
    "if match:\n",
    "    #<the type; span(first index of the string, last index of the string), match'the string'>\n",
    "    print(match)\n",
    "    # .span() returns the first and last index\n",
    "    print(match.span())\n",
    "    # .group() is the full text of the match\n",
    "    print(match.group())\n",
    "    # string and the pattern\n",
    "    print(match.string)\n",
    "    print(match.re.pattern)"
   ]
  },
  {
   "cell_type": "markdown",
   "id": "f3fdf488",
   "metadata": {},
   "source": [
    "<h6> 2. match(pattern, string): </h6>\n",
    "Checks if the pattern matches at the beginning of the string.\n",
    "Returns a match object if there is a match, None otherwise."
   ]
  },
  {
   "cell_type": "code",
   "execution_count": 57,
   "id": "3a27a413",
   "metadata": {
    "ExecuteTime": {
     "end_time": "2023-12-05T11:45:20.881719Z",
     "start_time": "2023-12-05T11:45:20.876316Z"
    }
   },
   "outputs": [
    {
     "name": "stdout",
     "output_type": "stream",
     "text": [
      "Matched: apples\n",
      "Matched: app\n"
     ]
    }
   ],
   "source": [
    "pattern1 = r\"apples\"\n",
    "pattern2 = r\"app\"\n",
    "string = \"apples are delicious.\"\n",
    "match1 = re.match(pattern1, string)\n",
    "match2 = re.match(pattern2, string)\n",
    "if match1:\n",
    "    print(\"Matched:\", match1.group())\n",
    "if match2:\n",
    "    print(\"Matched:\", match2.group())"
   ]
  },
  {
   "cell_type": "markdown",
   "id": "bd741e97",
   "metadata": {},
   "source": [
    "<h6> 3. findall(pattern, string): </h6>\n",
    "Finds all occurrences of the pattern in the string.\n",
    "Returns a list of matching substrings."
   ]
  },
  {
   "cell_type": "code",
   "execution_count": 79,
   "id": "5bb745c2",
   "metadata": {
    "ExecuteTime": {
     "end_time": "2023-12-05T12:00:46.560111Z",
     "start_time": "2023-12-05T12:00:46.554408Z"
    }
   },
   "outputs": [
    {
     "name": "stdout",
     "output_type": "stream",
     "text": [
      "Matches: ['apple', 'apple']\n",
      "apple\n",
      "['12345', '44444', '33333']\n",
      "12345\n"
     ]
    }
   ],
   "source": [
    "import re\n",
    "\n",
    "pattern = r\"apple\"\n",
    "string = \"I have an apple, and she has an apple too.\"\n",
    "matches = re.findall(pattern, string)\n",
    "print(\"Matches:\", matches)\n",
    "# Matches is a list and u can accsess every element with index\n",
    "print(matches[0])\n",
    "# I am going to use this Key Concept and explain in the Key Concepts section.\n",
    "text_for_search = '''\n",
    "phonebook:\n",
    "user - phone number\n",
    "a - 12345\n",
    "b - 44444\n",
    "c - 33333\n",
    "'''\n",
    "new_pattern = r\"\\d+\"\n",
    "matches = re.findall(new_pattern, text_for_search)\n",
    "print(matches)\n",
    "print(matches[0])"
   ]
  },
  {
   "cell_type": "markdown",
   "id": "38fff038",
   "metadata": {},
   "source": [
    "<h6> 4. sub(pattern, replacement, string):</h6>\n",
    "Replaces all occurrences of the pattern with the specified replacement in the string. "
   ]
  },
  {
   "cell_type": "code",
   "execution_count": 80,
   "id": "d99f1ded",
   "metadata": {
    "ExecuteTime": {
     "end_time": "2023-12-05T12:02:16.419475Z",
     "start_time": "2023-12-05T12:02:16.414024Z"
    }
   },
   "outputs": [
    {
     "name": "stdout",
     "output_type": "stream",
     "text": [
      "New string: I like oranges and oranges are red.\n"
     ]
    }
   ],
   "source": [
    "pattern = r\"apple\"\n",
    "replacement = \"orange\"\n",
    "string = \"I like apples and apples are red.\"\n",
    "new_string = re.sub(pattern, replacement, string)\n",
    "print(\"New string:\", new_string)"
   ]
  },
  {
   "cell_type": "markdown",
   "id": "11694446",
   "metadata": {},
   "source": [
    "##### Key Concepts:\n",
    "\n",
    "Regular expressions use metacharacters like . (any character), * (zero or more occurrences), + (one or more occurrences), ^ (start of the line), $ (end of the line), etc.\n",
    "\n",
    "<h6>1. Metacharacters:</h6>\n",
    "Metacharacters are characters in a regular expression that have a special meaning.<br>\n",
    "Examples:<br>\n",
    "\n",
    ". (dot): Matches any character except a newline.<br>\n",
    "*: Matches 0 or more occurrences of the preceding character or group.<br>\n",
    "+: Matches 1 or more occurrences of the preceding character or group.<br>\n",
    "?: Matches 0 or 1 occurrence of the preceding character or group.<br>\n",
    "^: Anchors the regex at the start of the string.<br>\n",
    "$: Anchors the regex at the end of the string.<br>\n",
    "[]: Specifies a character class.<br>\n",
    "\n",
    "<h6>2. Character Classes:</h6>\n",
    "Character classes allow you to match one character out of a set of characters.<br>\n",
    "Examples:<br>\n",
    "\n",
    "[aeiou]: Matches any vowel.<br>\n",
    "[0-9]: Matches any digit.<br>\n",
    "[^a-z]: Matches any character that is not a lowercase letter.<br>\n",
    "\n",
    "<h6>3. Quantifiers:</h6>\n",
    "Quantifiers specify the number of occurrences of a character or group.<br>\n",
    "Examples:<br>\n",
    "\n",
    "{n}: Matches exactly n occurrences.<br>\n",
    "{n,}: Matches n or more occurrences.<br>\n",
    "{n, m}: Matches between n and m occurrences.<br>\n",
    "*: Equivalent to {0,} (0 or more occurrences).<br>\n",
    "+: Equivalent to {1,} (1 or more occurrences).<br>\n",
    "?: Equivalent to {0,1} (0 or 1 occurrence).<br>\n",
    "\n",
    "<h6>4. Grouping:</h6>\n",
    "Parentheses () are used for grouping and capturing parts of the pattern.<br>\n",
    "Groups allow you to apply quantifiers to multiple characters as a single unit.<br>\n",
    "Example:<br>\n",
    "\n",
    "(ab)+: Matches one or more occurrences of the sequence \"ab.\"<br>\n",
    "\n",
    "<h6>5. Anchors:</h6>\n",
    "Anchors are used to specify the position of a match in the string.<br>\n",
    "Example:<br>\n",
    "\n",
    "^: Anchors the regex at the start of the string.<br>\n",
    "$: Anchors the regex at the end of the string.<br>\n",
    "\\b: Word boundary, asserts the position at the beginning or end of a word.<br>\n",
    "\n",
    "<h6>6. Wildcards:</h6>\n",
    "The dot . is a wildcard character that matches any character except a newline.<br>\n",
    "Example:<br>\n",
    "\n",
    "a.b matches \"aab,\" \"axb,\" \"a1b,\" etc.\n",
    "\n",
    "<h6>7. Escaping:</h6>\n",
    "Backslash \\ is used to escape metacharacters, allowing you to match them as literals.<br>\n",
    "Example:<br>\n",
    "\n",
    "\\\\. matches a literal dot, not any character.<br>"
   ]
  },
  {
   "cell_type": "markdown",
   "id": "a21bf208",
   "metadata": {},
   "source": [
    "### Some Examples:"
   ]
  },
  {
   "cell_type": "code",
   "execution_count": 9,
   "id": "79759b87",
   "metadata": {
    "ExecuteTime": {
     "end_time": "2023-12-05T11:14:50.493971Z",
     "start_time": "2023-12-05T11:14:50.489326Z"
    }
   },
   "outputs": [
    {
     "name": "stdout",
     "output_type": "stream",
     "text": [
      "Found: 456\n"
     ]
    }
   ],
   "source": [
    "pattern = '\\d+'\n",
    "text = \"There are apples and 456 bananas.\"\n",
    "\n",
    "match = re.search(pattern, text)\n",
    "print(\"Found:\", match.group())"
   ]
  },
  {
   "cell_type": "code",
   "execution_count": 25,
   "id": "f4637b01",
   "metadata": {
    "ExecuteTime": {
     "end_time": "2023-12-05T11:17:23.704211Z",
     "start_time": "2023-12-05T11:17:23.699442Z"
    }
   },
   "outputs": [
    {
     "name": "stdout",
     "output_type": "stream",
     "text": [
      "2023-08-23\n"
     ]
    }
   ],
   "source": [
    "date_pattern = r'\\d+.\\d+.\\d+'\n",
    "text = \"Today's date is 2023-08-23.\"\n",
    "matches = re.findall(date_pattern, text)\n",
    "print(matches)"
   ]
  },
  {
   "cell_type": "code",
   "execution_count": null,
   "id": "21703edc",
   "metadata": {},
   "outputs": [],
   "source": [
    "date_pattern = r'(\\d{4})-(\\d{2})-(\\d{2})'\n",
    "text = \"Event date: 2023-08-23\"\n",
    "matches = re.findall(date_pattern, text)\n",
    "for match in matches:\n",
    "    print(f\"Year: {match[0]}, Month: {match[1]}, Day: {match[2]}\")"
   ]
  },
  {
   "cell_type": "code",
   "execution_count": null,
   "id": "afe4d39c",
   "metadata": {},
   "outputs": [],
   "source": [
    "email_pattern = r'\\b[A-Za-z0-9._%+-]+@[A-Za-z0-9.-]+\\.[A-Z|a-z]{2,7}\\b'\n",
    "text = \"Contact us at email@example.com or support@domain.co.uk\"\n",
    "matches = re.findall(email_pattern, text)\n",
    "print(matches)"
   ]
  },
  {
   "cell_type": "code",
   "execution_count": null,
   "id": "e2c9e24b",
   "metadata": {},
   "outputs": [],
   "source": [
    "phone_pattern = r'\\b\\d{3}-\\d{3}-\\d{4}\\b'\n",
    "text = \"Call us at 555-123-4567 or 987-654-3210\"\n",
    "matches = re.findall(phone_pattern, text)\n",
    "print(matches)"
   ]
  },
  {
   "cell_type": "code",
   "execution_count": null,
   "id": "22e42082",
   "metadata": {},
   "outputs": [],
   "source": [
    "prefix = r'\\bpre\\w+\\b'\n",
    "text = \"I prefer to prepare for the presentation beforehand.\"\n",
    "matches = re.findall(prefix, text, re.IGNORECASE)\n",
    "print(matches)"
   ]
  },
  {
   "cell_type": "code",
   "execution_count": 13,
   "id": "f7fbd6e3",
   "metadata": {
    "ExecuteTime": {
     "end_time": "2023-12-05T11:15:37.377733Z",
     "start_time": "2023-12-05T11:15:37.373510Z"
    }
   },
   "outputs": [
    {
     "name": "stdout",
     "output_type": "stream",
     "text": [
      "['<p>', '<b>', '</b>', '</p>']\n"
     ]
    }
   ],
   "source": [
    "html_pattern = r'<.*?>'\n",
    "text = \"<p>This is a <b>bold</b> statement.</p>\"\n",
    "matches = re.findall(html_pattern, text)\n",
    "print(matches)"
   ]
  },
  {
   "cell_type": "code",
   "execution_count": null,
   "id": "84720154",
   "metadata": {},
   "outputs": [],
   "source": [
    "length_pattern = r'\\b\\w{5,8}\\b'\n",
    "text = \"The quick brown fox jumped over the lazy dogs.\"\n",
    "matches = re.findall(length_pattern, text)\n",
    "print(matches)"
   ]
  },
  {
   "cell_type": "code",
   "execution_count": null,
   "id": "dbbbd8e7",
   "metadata": {},
   "outputs": [],
   "source": [
    "ip_pattern = r'\\b(?:\\d{1,3}\\.){3}\\d{1,3}\\b'\n",
    "text = \"Valid IPs are 192.168.1.1 and 10.0.0.2\"\n",
    "matches = re.findall(ip_pattern, text)\n",
    "print(matches)"
   ]
  },
  {
   "cell_type": "code",
   "execution_count": null,
   "id": "10b9c5a6",
   "metadata": {},
   "outputs": [],
   "source": [
    "url_pattern = r'https?://(?:www\\.)?[A-Za-z0-9.-]+(?:/[\\w./?%&=-]*)?'\n",
    "text = \"Visit https://www.example.com or http://google.com/search\"\n",
    "matches = re.findall(url_pattern, text)\n",
    "print(matches)"
   ]
  },
  {
   "cell_type": "code",
   "execution_count": null,
   "id": "9c2f4095",
   "metadata": {},
   "outputs": [],
   "source": [
    "hex_color_pattern = r'#[A-Fa-f0-9]{6}'\n",
    "text = \"The color is #FFA500 for orange and #003366 for blue.\"\n",
    "matches = re.findall(hex_color_pattern, text)\n",
    "print(matches)"
   ]
  },
  {
   "cell_type": "code",
   "execution_count": null,
   "id": "9a6c958f",
   "metadata": {},
   "outputs": [],
   "source": [
    "date_pattern = r'(\\d{4})-(\\d{2})-(\\d{2})'\n",
    "text = \"Event date: 2023-08-23\"\n",
    "matches = re.findall(date_pattern, text)\n",
    "for match in matches:\n",
    "    print(f\"Year: {match[0]}, Month: {match[1]}, Day: {match[2]}\")"
   ]
  },
  {
   "cell_type": "code",
   "execution_count": null,
   "id": "951685ee",
   "metadata": {},
   "outputs": [],
   "source": [
    "text = \"Hello, my name is John. Call me JohnD.\"\n",
    "new_text = re.sub(r'John', 'Alice', text)\n",
    "print(new_text)"
   ]
  },
  {
   "cell_type": "code",
   "execution_count": null,
   "id": "efd41c38",
   "metadata": {},
   "outputs": [],
   "source": [
    "repeated_pattern = r'(ha)+'\n",
    "text = \"The crowd laughed, hahaha, at the funny joke.\"\n",
    "matches = re.findall(repeated_pattern, text)\n",
    "print(matches)"
   ]
  },
  {
   "cell_type": "code",
   "execution_count": null,
   "id": "6c646c5c",
   "metadata": {},
   "outputs": [],
   "source": [
    "word_boundary_pattern = r'\\bcat\\b'\n",
    "text = \"The cat is on the mat, but not a category.\"\n",
    "matches = re.findall(word_boundary_pattern, text)\n",
    "print(matches)"
   ]
  },
  {
   "cell_type": "code",
   "execution_count": null,
   "id": "8b859cc7",
   "metadata": {},
   "outputs": [],
   "source": []
  }
 ],
 "metadata": {
  "kernelspec": {
   "display_name": "Python 3 (ipykernel)",
   "language": "python",
   "name": "python3"
  },
  "language_info": {
   "codemirror_mode": {
    "name": "ipython",
    "version": 3
   },
   "file_extension": ".py",
   "mimetype": "text/x-python",
   "name": "python",
   "nbconvert_exporter": "python",
   "pygments_lexer": "ipython3",
   "version": "3.11.5"
  },
  "varInspector": {
   "cols": {
    "lenName": 16,
    "lenType": 16,
    "lenVar": 40
   },
   "kernels_config": {
    "python": {
     "delete_cmd_postfix": "",
     "delete_cmd_prefix": "del ",
     "library": "var_list.py",
     "varRefreshCmd": "print(var_dic_list())"
    },
    "r": {
     "delete_cmd_postfix": ") ",
     "delete_cmd_prefix": "rm(",
     "library": "var_list.r",
     "varRefreshCmd": "cat(var_dic_list()) "
    }
   },
   "position": {
    "height": "239.85px",
    "left": "819.4px",
    "right": "20px",
    "top": "120px",
    "width": "350px"
   },
   "types_to_exclude": [
    "module",
    "function",
    "builtin_function_or_method",
    "instance",
    "_Feature"
   ],
   "window_display": false
  }
 },
 "nbformat": 4,
 "nbformat_minor": 5
}
