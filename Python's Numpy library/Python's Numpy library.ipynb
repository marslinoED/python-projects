{
 "cells": [
  {
   "cell_type": "markdown",
   "id": "cd7c72d1",
   "metadata": {
    "ExecuteTime": {
     "end_time": "2023-12-05T17:42:41.802393Z",
     "start_time": "2023-12-05T17:42:41.796351Z"
    }
   },
   "source": [
    "### Numpy ###\n",
    "This library is made for the purpose of reducing storage space in the Python language\n",
    "As we know, the Python library does not have a fixed storage type, so it gives more than what is needed.\n",
    "<br> <h6>Example : </h6><br>\n",
    "x = 5 (x allocate 16 bytes)<br>\n",
    "int x = 5 ( x -> int allocate 4 bytes)"
   ]
  },
  {
   "cell_type": "code",
   "execution_count": 205,
   "id": "a141f863",
   "metadata": {
    "ExecuteTime": {
     "end_time": "2023-12-05T21:07:22.218374Z",
     "start_time": "2023-12-05T21:07:22.214332Z"
    }
   },
   "outputs": [],
   "source": [
    "import numpy as np"
   ]
  },
  {
   "cell_type": "markdown",
   "id": "a57659eb",
   "metadata": {},
   "source": [
    "#### 0. Data Types"
   ]
  },
  {
   "cell_type": "markdown",
   "id": "41141832",
   "metadata": {
    "ExecuteTime": {
     "end_time": "2023-12-05T19:52:04.656371Z",
     "start_time": "2023-12-05T19:52:04.650511Z"
    }
   },
   "source": [
    "### Numpy Data Types\n",
    "Numpy has the following data types: \n",
    "- ```int```\n",
    "- ```float```\n",
    "- ```complex```\n",
    "- ```bool```\n",
    "- ```string```\n",
    "- ```unicode```\n",
    "- ```object```\n",
    "\n",
    "The numeric data types have various precisions like 32-bit or 64-bit. \n",
    "\n",
    "Numpy data types can be represented using either __Type__ or __Type Code__"
   ]
  },
  {
   "cell_type": "code",
   "execution_count": 206,
   "id": "dcb66e32",
   "metadata": {
    "ExecuteTime": {
     "end_time": "2023-12-05T21:07:22.325854Z",
     "start_time": "2023-12-05T21:07:22.313526Z"
    }
   },
   "outputs": [
    {
     "data": {
      "text/html": [
       "<div>\n",
       "<style scoped>\n",
       "    .dataframe tbody tr th:only-of-type {\n",
       "        vertical-align: middle;\n",
       "    }\n",
       "\n",
       "    .dataframe tbody tr th {\n",
       "        vertical-align: top;\n",
       "    }\n",
       "\n",
       "    .dataframe thead th {\n",
       "        text-align: right;\n",
       "    }\n",
       "</style>\n",
       "<table border=\"1\" class=\"dataframe\">\n",
       "  <thead>\n",
       "    <tr style=\"text-align: right;\">\n",
       "      <th></th>\n",
       "      <th>Type</th>\n",
       "      <th>Type Code</th>\n",
       "    </tr>\n",
       "  </thead>\n",
       "  <tbody>\n",
       "    <tr>\n",
       "      <th>0</th>\n",
       "      <td>int8</td>\n",
       "      <td>i1</td>\n",
       "    </tr>\n",
       "    <tr>\n",
       "      <th>1</th>\n",
       "      <td>uint8</td>\n",
       "      <td>u1</td>\n",
       "    </tr>\n",
       "    <tr>\n",
       "      <th>2</th>\n",
       "      <td>int16</td>\n",
       "      <td>i2</td>\n",
       "    </tr>\n",
       "    <tr>\n",
       "      <th>3</th>\n",
       "      <td>uint16</td>\n",
       "      <td>u2</td>\n",
       "    </tr>\n",
       "    <tr>\n",
       "      <th>4</th>\n",
       "      <td>int or int32</td>\n",
       "      <td>i4 or i</td>\n",
       "    </tr>\n",
       "    <tr>\n",
       "      <th>5</th>\n",
       "      <td>uint32</td>\n",
       "      <td>u4</td>\n",
       "    </tr>\n",
       "    <tr>\n",
       "      <th>6</th>\n",
       "      <td>int64</td>\n",
       "      <td>i8</td>\n",
       "    </tr>\n",
       "    <tr>\n",
       "      <th>7</th>\n",
       "      <td>uint64</td>\n",
       "      <td>u8</td>\n",
       "    </tr>\n",
       "    <tr>\n",
       "      <th>8</th>\n",
       "      <td>float16</td>\n",
       "      <td>f2</td>\n",
       "    </tr>\n",
       "    <tr>\n",
       "      <th>9</th>\n",
       "      <td>float32</td>\n",
       "      <td>f4 or f</td>\n",
       "    </tr>\n",
       "    <tr>\n",
       "      <th>10</th>\n",
       "      <td>float or float64</td>\n",
       "      <td>f8 or d</td>\n",
       "    </tr>\n",
       "    <tr>\n",
       "      <th>11</th>\n",
       "      <td>float128</td>\n",
       "      <td>f16 or g</td>\n",
       "    </tr>\n",
       "    <tr>\n",
       "      <th>12</th>\n",
       "      <td>complex64</td>\n",
       "      <td>c8</td>\n",
       "    </tr>\n",
       "    <tr>\n",
       "      <th>13</th>\n",
       "      <td>complex or complex128</td>\n",
       "      <td>c16</td>\n",
       "    </tr>\n",
       "    <tr>\n",
       "      <th>14</th>\n",
       "      <td>bool</td>\n",
       "      <td>None</td>\n",
       "    </tr>\n",
       "    <tr>\n",
       "      <th>15</th>\n",
       "      <td>object</td>\n",
       "      <td>O</td>\n",
       "    </tr>\n",
       "    <tr>\n",
       "      <th>16</th>\n",
       "      <td>string_</td>\n",
       "      <td>S</td>\n",
       "    </tr>\n",
       "    <tr>\n",
       "      <th>17</th>\n",
       "      <td>unicode_</td>\n",
       "      <td>U</td>\n",
       "    </tr>\n",
       "  </tbody>\n",
       "</table>\n",
       "</div>"
      ],
      "text/plain": [
       "                     Type Type Code\n",
       "0                    int8        i1\n",
       "1                   uint8        u1\n",
       "2                   int16        i2\n",
       "3                  uint16        u2\n",
       "4            int or int32   i4 or i\n",
       "5                  uint32        u4\n",
       "6                   int64        i8\n",
       "7                  uint64        u8\n",
       "8                 float16        f2\n",
       "9                 float32   f4 or f\n",
       "10       float or float64   f8 or d\n",
       "11               float128  f16 or g\n",
       "12              complex64        c8\n",
       "13  complex or complex128       c16\n",
       "14                   bool      None\n",
       "15                 object         O\n",
       "16                string_         S\n",
       "17               unicode_         U"
      ]
     },
     "execution_count": 206,
     "metadata": {},
     "output_type": "execute_result"
    }
   ],
   "source": [
    "import numpy as np\n",
    "import pandas as pd\n",
    "\n",
    "dtypes = pd.DataFrame({\n",
    "    'Type': [\n",
    "        'int8',\n",
    "        'uint8',\n",
    "        'int16',\n",
    "        'uint16',\n",
    "        'int or int32',\n",
    "        'uint32',\n",
    "        'int64',\n",
    "        'uint64',\n",
    "        'float16',\n",
    "        'float32',\n",
    "        'float or float64',\n",
    "        'float128',\n",
    "        'complex64',\n",
    "        'complex or complex128',\n",
    "        'bool',\n",
    "        'object',\n",
    "        'string_',\n",
    "        'unicode_',\n",
    "    ],\n",
    "    'Type Code': [\n",
    "        'i1',\n",
    "        'u1',\n",
    "        'i2',\n",
    "        'u2',\n",
    "        'i4 or i',\n",
    "        'u4',\n",
    "        'i8',\n",
    "        'u8',\n",
    "        'f2',\n",
    "        'f4 or f',\n",
    "        'f8 or d',\n",
    "        'f16 or g',\n",
    "        'c8',\n",
    "        'c16',\n",
    "        None,\n",
    "        'O',\n",
    "        'S',\n",
    "        'U',\n",
    "    ]\n",
    "})\n",
    "\n",
    "dtypes"
   ]
  },
  {
   "cell_type": "markdown",
   "id": "5dad000d",
   "metadata": {},
   "source": [
    "###### so now if u need to allocate data u can choose the dtype to stop roaring memory.\n",
    "<h5>array(list, dtype = \"   \")</h5>"
   ]
  },
  {
   "cell_type": "code",
   "execution_count": null,
   "id": "8d51c070",
   "metadata": {
    "ExecuteTime": {
     "end_time": "2023-12-05T21:07:22.400304Z",
     "start_time": "2023-12-05T21:07:22.400304Z"
    }
   },
   "outputs": [],
   "source": [
    "arr = np.array([1, 2, 3], dtype='f4')\n",
    "#printing the array\n",
    "print(arr)\n",
    "#printing the type\n",
    "print(arr.dtype)\n",
    "\n",
    "print()\n",
    "\n",
    "#u can also put data that python can convert it\n",
    "# 3.5f -> 3I , '2's -> 2I\n",
    "arr = np.array([1, '2', 3.5], dtype='i4')\n",
    "print(arr)\n",
    "print(arr.dtype)"
   ]
  },
  {
   "cell_type": "markdown",
   "id": "2c4db1c9",
   "metadata": {},
   "source": [
    "###### Type Conversion"
   ]
  },
  {
   "cell_type": "markdown",
   "id": "ff64cdc4",
   "metadata": {},
   "source": [
    "```astype``` method: convert the data type of an array to other data types. \n",
    "\n",
    "Notice that ```astype``` returns a copy of the array instead of converting the data type in place. You need to assign the copy to the original array or a new array."
   ]
  },
  {
   "cell_type": "code",
   "execution_count": null,
   "id": "68487a30",
   "metadata": {
    "ExecuteTime": {
     "end_time": "2023-12-05T21:07:22.489500Z",
     "start_time": "2023-12-05T21:07:22.489500Z"
    }
   },
   "outputs": [],
   "source": [
    "arr = np.array([1, 2, 3], dtype='int16')  # 16 / 8 = 2 ==> 2 bytes\n",
    "print('Original Data Type: ' + str(arr.dtype))\n",
    "\n",
    "arr = arr.astype(np.float32)\n",
    "# convert arr type from int16 --> float32 ( 8 bytes )\n",
    "print('Data Type After Conversion: ' + str(arr.dtype))\n",
    "arr"
   ]
  },
  {
   "cell_type": "markdown",
   "id": "0b83d650",
   "metadata": {},
   "source": [
    "__WARNING__: be cautious about data overflow when you downcast the data type (from higher precision to lower precision). Some unexpected and undefined values might occur and it is usually difficult to debug such issues. "
   ]
  },
  {
   "cell_type": "code",
   "execution_count": null,
   "id": "c6eff00e",
   "metadata": {
    "ExecuteTime": {
     "end_time": "2023-12-05T21:07:22.588107Z",
     "start_time": "2023-12-05T21:07:22.588107Z"
    }
   },
   "outputs": [],
   "source": [
    "# An example of integer overflow at downcasting\n",
    "arr = np.array([126, 127, 129], dtype='int16')\n",
    "\n",
    "print('np array before type conversion: ' + str(arr))\n",
    "#print(arr.max())\n",
    "# Range of int8 [-128, 127], 256 overflows after conversion\n",
    "arr = arr.astype('int8')\n",
    "print('np array after type conversion: ' + str(arr))"
   ]
  },
  {
   "cell_type": "markdown",
   "id": "3e67a2a0",
   "metadata": {},
   "source": [
    "##### 1. create an array"
   ]
  },
  {
   "cell_type": "code",
   "execution_count": 207,
   "id": "3ddda6da",
   "metadata": {
    "ExecuteTime": {
     "end_time": "2023-12-05T21:07:22.611409Z",
     "start_time": "2023-12-05T21:07:22.605108Z"
    }
   },
   "outputs": [
    {
     "name": "stdout",
     "output_type": "stream",
     "text": [
      "[1 2 3 4 5]\n",
      "[1, 2, 3, 4, 5]\n",
      "<class 'list'>\n",
      "<class 'numpy.ndarray'>\n",
      "int32\n"
     ]
    }
   ],
   "source": [
    "mylist = [1, 2, 3, 4, 5]\n",
    "arr = np.array(mylist)\n",
    "\n",
    "print(arr)\n",
    "print(mylist)\n",
    "\n",
    "print(type(mylist))\n",
    "print(type(arr))\n",
    "\n",
    "print(arr.dtype)"
   ]
  },
  {
   "cell_type": "code",
   "execution_count": 208,
   "id": "4dc7b603",
   "metadata": {
    "ExecuteTime": {
     "end_time": "2023-12-05T21:07:22.630984Z",
     "start_time": "2023-12-05T21:07:22.625418Z"
    }
   },
   "outputs": [
    {
     "name": "stdout",
     "output_type": "stream",
     "text": [
      "[0 1 2 3 4 5 6 7 8 9]\n"
     ]
    }
   ],
   "source": [
    "arr = np.array(range(10))\n",
    "print(arr)"
   ]
  },
  {
   "cell_type": "markdown",
   "id": "b1a38fff",
   "metadata": {},
   "source": [
    "### inspect general information of an array"
   ]
  },
  {
   "cell_type": "code",
   "execution_count": null,
   "id": "d88e9ad2",
   "metadata": {
    "ExecuteTime": {
     "end_time": "2023-12-05T21:07:22.708585Z",
     "start_time": "2023-12-05T21:07:22.708585Z"
    }
   },
   "outputs": [],
   "source": [
    "arr = np.array([[1,2,3], [4,5,6]], dtype=np.int64)\n",
    "print(arr)\n",
    "print()\n",
    "print(np.info(arr))"
   ]
  },
  {
   "cell_type": "markdown",
   "id": "89d5122d",
   "metadata": {},
   "source": [
    "### inspect the data type of an array"
   ]
  },
  {
   "cell_type": "code",
   "execution_count": null,
   "id": "c0ab9c40",
   "metadata": {
    "ExecuteTime": {
     "end_time": "2023-12-05T21:07:22.772232Z",
     "start_time": "2023-12-05T21:07:22.772232Z"
    }
   },
   "outputs": [],
   "source": [
    "print(arr.dtype)"
   ]
  },
  {
   "cell_type": "markdown",
   "id": "74ec0bb7",
   "metadata": {},
   "source": [
    "### inspect the dimension of an array"
   ]
  },
  {
   "cell_type": "code",
   "execution_count": null,
   "id": "00a0ef08",
   "metadata": {
    "ExecuteTime": {
     "end_time": "2023-12-05T21:07:22.836969Z",
     "start_time": "2023-12-05T21:07:22.836969Z"
    }
   },
   "outputs": [],
   "source": [
    "print(arr.shape)"
   ]
  },
  {
   "cell_type": "markdown",
   "id": "e7a2a519",
   "metadata": {},
   "source": [
    "### inspect length of an array"
   ]
  },
  {
   "cell_type": "code",
   "execution_count": null,
   "id": "c1777eda",
   "metadata": {
    "ExecuteTime": {
     "end_time": "2023-12-05T21:07:22.928840Z",
     "start_time": "2023-12-05T21:07:22.928840Z"
    }
   },
   "outputs": [],
   "source": [
    "print(len(arr)) # print number of rows "
   ]
  },
  {
   "cell_type": "markdown",
   "id": "cfc1e5b8",
   "metadata": {},
   "source": [
    "### inspect the number of dimensions of an array"
   ]
  },
  {
   "cell_type": "code",
   "execution_count": 209,
   "id": "66aef23a",
   "metadata": {
    "ExecuteTime": {
     "end_time": "2023-12-05T21:07:22.944780Z",
     "start_time": "2023-12-05T21:07:22.939840Z"
    }
   },
   "outputs": [
    {
     "name": "stdout",
     "output_type": "stream",
     "text": [
      "1\n"
     ]
    }
   ],
   "source": [
    "print(arr.ndim)"
   ]
  },
  {
   "cell_type": "markdown",
   "id": "69a9036d",
   "metadata": {},
   "source": [
    "### inspect the number of elements in an array"
   ]
  },
  {
   "cell_type": "code",
   "execution_count": null,
   "id": "389dd55e",
   "metadata": {
    "ExecuteTime": {
     "end_time": "2023-12-05T21:07:23.027518Z",
     "start_time": "2023-12-05T21:07:23.027518Z"
    }
   },
   "outputs": [],
   "source": [
    "print(arr.size)"
   ]
  },
  {
   "cell_type": "markdown",
   "id": "90b9d444",
   "metadata": {},
   "source": [
    "### inspect the number of bytes of each element in an array"
   ]
  },
  {
   "cell_type": "code",
   "execution_count": 210,
   "id": "0233fa40",
   "metadata": {
    "ExecuteTime": {
     "end_time": "2023-12-05T21:07:23.068800Z",
     "start_time": "2023-12-05T21:07:23.064561Z"
    }
   },
   "outputs": [
    {
     "name": "stdout",
     "output_type": "stream",
     "text": [
      "4\n"
     ]
    }
   ],
   "source": [
    "print(arr.itemsize)  # bytes"
   ]
  },
  {
   "cell_type": "markdown",
   "id": "455d2898",
   "metadata": {},
   "source": [
    "### inspect the memory size of an array (in byte)"
   ]
  },
  {
   "cell_type": "code",
   "execution_count": 211,
   "id": "abcef52e",
   "metadata": {
    "ExecuteTime": {
     "end_time": "2023-12-05T21:07:23.135930Z",
     "start_time": "2023-12-05T21:07:23.129815Z"
    }
   },
   "outputs": [
    {
     "name": "stdout",
     "output_type": "stream",
     "text": [
      "40\n",
      "320\n"
     ]
    }
   ],
   "source": [
    "# arr.nbytes = arr.size * arr.itemsize\n",
    "print(arr.nbytes)\n",
    "print((arr.nbytes)*8) # bits"
   ]
  },
  {
   "cell_type": "markdown",
   "id": "55f98852",
   "metadata": {},
   "source": [
    "### select an element by row and column indices"
   ]
  },
  {
   "cell_type": "code",
   "execution_count": 130,
   "id": "30afb60e",
   "metadata": {
    "ExecuteTime": {
     "end_time": "2023-12-06T11:43:00.367363Z",
     "start_time": "2023-12-06T11:43:00.362416Z"
    }
   },
   "outputs": [
    {
     "name": "stdout",
     "output_type": "stream",
     "text": [
      "55\n",
      "55\n"
     ]
    }
   ],
   "source": [
    "arr = np.array(range(100)).reshape((10,10))\n",
    "print(arr[5][5])\n",
    "# or more conciselyarr\n",
    "print(arr[5,5])"
   ]
  },
  {
   "cell_type": "markdown",
   "id": "68707b04",
   "metadata": {},
   "source": [
    "### indexing with slicing"
   ]
  },
  {
   "cell_type": "code",
   "execution_count": 131,
   "id": "00ba15b2",
   "metadata": {
    "ExecuteTime": {
     "end_time": "2023-12-06T11:43:00.710953Z",
     "start_time": "2023-12-06T11:43:00.705098Z"
    }
   },
   "outputs": [
    {
     "name": "stdout",
     "output_type": "stream",
     "text": [
      "[[10 11 12 13 14 15 16 17 18 19]\n",
      " [20 21 22 23 24 25 26 27 28 29]]\n"
     ]
    }
   ],
   "source": [
    "print(arr[1:3, :])"
   ]
  },
  {
   "cell_type": "code",
   "execution_count": 132,
   "id": "e3e1eb16",
   "metadata": {
    "ExecuteTime": {
     "end_time": "2023-12-06T11:43:00.871735Z",
     "start_time": "2023-12-06T11:43:00.866929Z"
    }
   },
   "outputs": [
    {
     "name": "stdout",
     "output_type": "stream",
     "text": [
      "[[14 15]\n",
      " [24 25]]\n"
     ]
    }
   ],
   "source": [
    "print(arr[1:3, 4:6])"
   ]
  },
  {
   "cell_type": "code",
   "execution_count": null,
   "id": "fd5af659",
   "metadata": {
    "ExecuteTime": {
     "end_time": "2023-12-06T11:43:00.981504Z",
     "start_time": "2023-12-06T11:43:00.981504Z"
    }
   },
   "outputs": [],
   "source": [
    "# ellipsis slicing: auto-complete the dimensions\n",
    "arr = np.array(range(16)).reshape(4,2,2)\n",
    "print(arr)\n",
    "print(\"----------------------\")\n",
    "# equivalent to arr[0,:,:,:]\n",
    "print(arr[0, ...])\n",
    "print(\"----------------------\")\n",
    "print(arr[2:,:,:])"
   ]
  },
  {
   "cell_type": "markdown",
   "id": "6869480e",
   "metadata": {},
   "source": [
    "### assign a scalar to a slice by broadcasting"
   ]
  },
  {
   "cell_type": "code",
   "execution_count": 133,
   "id": "19e17d60",
   "metadata": {
    "ExecuteTime": {
     "end_time": "2023-12-06T11:43:01.215737Z",
     "start_time": "2023-12-06T11:43:01.210859Z"
    }
   },
   "outputs": [
    {
     "name": "stdout",
     "output_type": "stream",
     "text": [
      "[[  0 100 100 100 100 100 100 100 100 100]\n",
      " [ 10 100 100 100 100 100 100 100 100 100]\n",
      " [ 10 100 100 100 100 100 100 100 100 100]\n",
      " [ 30 100 100 100 100 100 100 100 100 100]\n",
      " [ 40 100 100 100 100 100 100 100 100 100]\n",
      " [ 50 100 100 100 100 100 100 100 100 100]\n",
      " [ 60 100 100 100 100 100 100 100 100 100]\n",
      " [ 70 100 100 100 100 100 100 100 100 100]\n",
      " [ 80 100 100 100 100 100 100 100 100 100]\n",
      " [ 90 100 100 100 100 100 100 100 100 100]]\n"
     ]
    }
   ],
   "source": [
    "arr[1:3,:] = 10    # or simply arr[1:3]\n",
    "arr[:,1:] = 100\n",
    "print(arr)"
   ]
  },
  {
   "cell_type": "markdown",
   "id": "10e598ca",
   "metadata": {},
   "source": [
    "### boolean indexing"
   ]
  },
  {
   "cell_type": "code",
   "execution_count": 134,
   "id": "e1e50ff6",
   "metadata": {
    "ExecuteTime": {
     "end_time": "2023-12-06T11:43:02.273623Z",
     "start_time": "2023-12-06T11:43:02.268749Z"
    }
   },
   "outputs": [
    {
     "name": "stdout",
     "output_type": "stream",
     "text": [
      "[[ 0  1  2  3  4]\n",
      " [ 5  6  7  8  9]\n",
      " [10 11 12 13 14]\n",
      " [15 16 17 18 19]\n",
      " [20 21 22 23 24]]\n",
      "----------------------------\n",
      "[[ 0  1  2  3  4]\n",
      " [ 5  6  7  8  9]\n",
      " [15 16 17 18 19]]\n"
     ]
    }
   ],
   "source": [
    "arr1 = np.arange(25).reshape((5,5))\n",
    "print(arr1)\n",
    "print(\"----------------------------\")\n",
    "bools = np.array([True, True, False, True, False])\n",
    "print(arr1[bools])"
   ]
  },
  {
   "cell_type": "code",
   "execution_count": 135,
   "id": "ecf7b28c",
   "metadata": {
    "ExecuteTime": {
     "end_time": "2023-12-06T11:43:04.479526Z",
     "start_time": "2023-12-06T11:43:04.474635Z"
    }
   },
   "outputs": [
    {
     "name": "stdout",
     "output_type": "stream",
     "text": [
      "[[10 11 12 13 14]\n",
      " [20 21 22 23 24]]\n"
     ]
    }
   ],
   "source": [
    "# negate the condition\n",
    "print(arr1[~bools])    "
   ]
  },
  {
   "cell_type": "code",
   "execution_count": 136,
   "id": "5ed2a0ff",
   "metadata": {
    "ExecuteTime": {
     "end_time": "2023-12-06T11:43:04.929574Z",
     "start_time": "2023-12-06T11:43:04.923839Z"
    }
   },
   "outputs": [
    {
     "name": "stdout",
     "output_type": "stream",
     "text": [
      "[[ 0  1  2  3  4]\n",
      " [20 21 22 23 24]]\n"
     ]
    }
   ],
   "source": [
    "arr2 = np.array([1,2,3,4,5])\n",
    "# multiple conditions\n",
    "print(arr1[(arr2<2) | (arr2>4)])    "
   ]
  },
  {
   "cell_type": "markdown",
   "id": "aaeb59fc",
   "metadata": {},
   "source": [
    "### fancy indexing"
   ]
  },
  {
   "cell_type": "code",
   "execution_count": 137,
   "id": "b1c9374a",
   "metadata": {
    "ExecuteTime": {
     "end_time": "2023-12-06T11:43:06.784345Z",
     "start_time": "2023-12-06T11:43:06.779353Z"
    }
   },
   "outputs": [
    {
     "name": "stdout",
     "output_type": "stream",
     "text": [
      "[100 100 100]\n"
     ]
    }
   ],
   "source": [
    "# select arr[3,3], arr[1,2], arr[2,1]\n",
    "print(arr[[3,1,2], [3,2,1]])       "
   ]
  },
  {
   "cell_type": "code",
   "execution_count": 138,
   "id": "2dc21bc5",
   "metadata": {
    "ExecuteTime": {
     "end_time": "2023-12-06T11:43:07.720933Z",
     "start_time": "2023-12-06T11:43:07.716046Z"
    }
   },
   "outputs": [
    {
     "name": "stdout",
     "output_type": "stream",
     "text": [
      "[[100 100 100]\n",
      " [100 100 100]\n",
      " [100 100 100]]\n"
     ]
    }
   ],
   "source": [
    "# select rows 3,1,2 and columns 6,4,8 \n",
    "print(arr[[3,1,2]][:, [6,4,8]])    "
   ]
  },
  {
   "cell_type": "markdown",
   "id": "1735e5db",
   "metadata": {},
   "source": [
    "### dimension inference"
   ]
  },
  {
   "cell_type": "code",
   "execution_count": 139,
   "id": "9a0d29b7",
   "metadata": {
    "ExecuteTime": {
     "end_time": "2023-12-06T11:43:09.127710Z",
     "start_time": "2023-12-06T11:43:09.122944Z"
    }
   },
   "outputs": [
    {
     "name": "stdout",
     "output_type": "stream",
     "text": [
      "(4, 4)\n"
     ]
    }
   ],
   "source": [
    "# dimension inference using any negative number (usually -1)\n",
    "arr = np.array(range(16)).reshape((4,-1))\n",
    "print(arr.shape)"
   ]
  },
  {
   "cell_type": "markdown",
   "id": "626dbf5d",
   "metadata": {},
   "source": [
    "### find elements/indices by conditions"
   ]
  },
  {
   "cell_type": "code",
   "execution_count": 140,
   "id": "dc9d11e6",
   "metadata": {
    "ExecuteTime": {
     "end_time": "2023-12-06T11:43:11.625799Z",
     "start_time": "2023-12-06T11:43:11.620318Z"
    }
   },
   "outputs": [
    {
     "data": {
      "text/plain": [
       "array([[ 0,  1,  2,  3],\n",
       "       [ 4,  5,  6,  7],\n",
       "       [ 8,  9, 10, 11],\n",
       "       [12, 13, 14, 15]])"
      ]
     },
     "execution_count": 140,
     "metadata": {},
     "output_type": "execute_result"
    }
   ],
   "source": [
    "arr = np.arange(16).reshape(4,4)\n",
    "arr"
   ]
  },
  {
   "cell_type": "code",
   "execution_count": 142,
   "id": "f7042c6a",
   "metadata": {
    "ExecuteTime": {
     "end_time": "2023-12-06T11:43:13.624693Z",
     "start_time": "2023-12-06T11:43:13.618832Z"
    }
   },
   "outputs": [
    {
     "data": {
      "text/plain": [
       "array([[ 0,  1,  2,  3],\n",
       "       [ 4,  5,  6,  7],\n",
       "       [ 8,  9, 10, 11],\n",
       "       [12, 13, 14, 15]])"
      ]
     },
     "execution_count": 142,
     "metadata": {},
     "output_type": "execute_result"
    }
   ],
   "source": [
    "arr"
   ]
  },
  {
   "cell_type": "code",
   "execution_count": 143,
   "id": "efd295d3",
   "metadata": {
    "ExecuteTime": {
     "end_time": "2023-12-06T11:43:14.133305Z",
     "start_time": "2023-12-06T11:43:14.128353Z"
    }
   },
   "outputs": [
    {
     "name": "stdout",
     "output_type": "stream",
     "text": [
      "(array([1, 1, 2, 2, 2, 2, 3, 3, 3, 3], dtype=int64), array([2, 3, 0, 1, 2, 3, 0, 1, 2, 3], dtype=int64))\n"
     ]
    }
   ],
   "source": [
    "print(np.where(arr>5))"
   ]
  },
  {
   "cell_type": "code",
   "execution_count": 144,
   "id": "ed82ccfc",
   "metadata": {
    "ExecuteTime": {
     "end_time": "2023-12-06T11:43:24.056122Z",
     "start_time": "2023-12-06T11:43:24.051377Z"
    }
   },
   "outputs": [
    {
     "name": "stdout",
     "output_type": "stream",
     "text": [
      "[[10 10 10 10]\n",
      " [10 10 -1 -1]\n",
      " [-1 -1 -1 -1]\n",
      " [-1 -1 -1 -1]]\n"
     ]
    }
   ],
   "source": [
    "# return values based on conditions \n",
    "# np.where(condition, true_return, false_return)\n",
    "print(np.where(arr>5, -1, 10))"
   ]
  },
  {
   "cell_type": "code",
   "execution_count": 145,
   "id": "03e83c96",
   "metadata": {
    "ExecuteTime": {
     "end_time": "2023-12-06T11:43:24.639707Z",
     "start_time": "2023-12-06T11:43:24.634795Z"
    }
   },
   "outputs": [
    {
     "name": "stdout",
     "output_type": "stream",
     "text": [
      "[[1 2]\n",
      " [1 3]\n",
      " [2 0]\n",
      " [2 1]\n",
      " [2 2]\n",
      " [2 3]\n",
      " [3 0]\n",
      " [3 1]\n",
      " [3 2]\n",
      " [3 3]]\n"
     ]
    }
   ],
   "source": [
    "# find the indices of the elements on conditions\n",
    "print(np.argwhere(arr>5))"
   ]
  },
  {
   "cell_type": "markdown",
   "id": "72133e8f",
   "metadata": {},
   "source": [
    "### Create an aray within specified range\n",
    "```np.arange()``` method can be used to replace ```np.array(range())``` method"
   ]
  },
  {
   "cell_type": "code",
   "execution_count": null,
   "id": "bde2d03d",
   "metadata": {
    "ExecuteTime": {
     "end_time": "2023-12-05T21:07:23.240187Z",
     "start_time": "2023-12-05T21:07:23.240187Z"
    }
   },
   "outputs": [],
   "source": [
    "# np.arange(start, stop, step)\n",
    "arr = np.arange(0, 10)\n",
    "print(arr)"
   ]
  },
  {
   "cell_type": "markdown",
   "id": "e050dd96",
   "metadata": {},
   "source": [
    "### Create an array of evenly spaced numbers within specified range\n",
    "```np.linspace(start, stop, num_of_elements, endpoint=True, retstep=False)``` has 5 parameters:\n",
    "- ```start```: start number (inclusive)\n",
    "- ```stop```: end number (inclusive unless ```endpoint``` set to ```False```)\n",
    "- ```num_of_elements```: number of elements contained in the array\n",
    "- ```endpoint```: boolean value representing whether the ```stop``` number is inclusive or not\n",
    "- ```retstep```: boolean value representing whether to return the step size"
   ]
  },
  {
   "cell_type": "code",
   "execution_count": 212,
   "id": "9e2affa8",
   "metadata": {
    "ExecuteTime": {
     "end_time": "2023-12-05T21:07:23.262947Z",
     "start_time": "2023-12-05T21:07:23.256192Z"
    }
   },
   "outputs": [
    {
     "name": "stdout",
     "output_type": "stream",
     "text": [
      "[0.    0.625 1.25  1.875 2.5   3.125 3.75  4.375]\n",
      "8\n",
      "The step size is 0.625\n",
      "\n",
      "[0. 1. 2. 3. 4. 5. 6. 7.]\n",
      "8\n",
      "The step size is 1.0\n"
     ]
    }
   ],
   "source": [
    "arr, arr2 = np.linspace(0,5, 8, endpoint=False, retstep=True)\n",
    "print(arr)\n",
    "print(arr.size)\n",
    "print('The step size is ' + str(arr2))\n",
    "print ()\n",
    "arr, arr2 = np.linspace(0,8, 8, endpoint=False, retstep=True)\n",
    "print(arr)\n",
    "print(arr.size)\n",
    "print('The step size is ' + str(arr2))"
   ]
  },
  {
   "cell_type": "markdown",
   "id": "4657030d",
   "metadata": {},
   "source": [
    "### Create an array of random values of given shape\n",
    "```np.random.rand(raw, coloums)``` method returns values in the range [0,1)<br>\n",
    "```np.random.seed(seed)``` setting seed to make the same random numbers generate always\n"
   ]
  },
  {
   "cell_type": "code",
   "execution_count": 213,
   "id": "f788deba",
   "metadata": {
    "ExecuteTime": {
     "end_time": "2023-12-05T21:07:23.320158Z",
     "start_time": "2023-12-05T21:07:23.313963Z"
    }
   },
   "outputs": [
    {
     "name": "stdout",
     "output_type": "stream",
     "text": [
      "[[0.15428758 0.13369956 0.36268547 0.67910888 0.19445006]]\n",
      "[[2.51210383 7.58416392 5.5761859  5.14802918 4.67799862]]\n",
      "[[2 7 5 5 4]]\n"
     ]
    }
   ],
   "source": [
    "arr = np.random.seed(66)\n",
    "arr = np.random.rand(1,5)\n",
    "print(arr)\n",
    "\n",
    "# if u want to make it from 1 to 10 just multply by 10\n",
    "arr = np.random.rand(1,5) * 10\n",
    "print(arr)\n",
    "\n",
    "#if u want it as an integer value change the type\n",
    "arr = arr.astype(np.int32)\n",
    "print(arr)\n",
    "\n"
   ]
  },
  {
   "cell_type": "markdown",
   "id": "2063159d",
   "metadata": {},
   "source": [
    "### generate a random sample from a given 1-D array"
   ]
  },
  {
   "cell_type": "code",
   "execution_count": null,
   "id": "c42409d4",
   "metadata": {
    "ExecuteTime": {
     "end_time": "2023-12-05T21:07:23.401262Z",
     "start_time": "2023-12-05T21:07:23.401262Z"
    }
   },
   "outputs": [],
   "source": [
    "# np.random.choice(iterable_or_int, size, replace=True, p=weights)\n",
    "print(np.random.choice(range(3), 10, replace=True, p=[0.1, 0.3, 0.6]))"
   ]
  },
  {
   "cell_type": "markdown",
   "id": "5f7eb65c",
   "metadata": {},
   "source": [
    "##### Create an array of specific value of given shape \n",
    "- ```np.zeros()```: create array of all zeros in given shape\n",
    "- ```np.zeros_like()```: create array of all zeros with the same shape and data type as the given input array\n",
    "- ```np.ones()```: create array of all ones in given shape\n",
    "- ```np.ones_like()```: create array of all ones with the same shape and data type as the given input array\n",
    "- ```np.empty()```: create array of empty values in given shape\n",
    "- ```np.empty_like()```: create array of empty values with the same shape and data type as the given input array\n",
    "- ```np.full()```: create array of constant values in given shape\n",
    "- ```np.full_like()```: create array of constant values with the same shape and data type as the given input array\n",
    "\n",
    "Notice that the initial values are not necessarily set to zeroes.\n",
    "\n",
    "They are just some garbage values in random memory addresses."
   ]
  },
  {
   "cell_type": "code",
   "execution_count": null,
   "id": "2b304a18",
   "metadata": {
    "ExecuteTime": {
     "end_time": "2023-12-05T21:07:23.471247Z",
     "start_time": "2023-12-05T21:07:23.471247Z"
    }
   },
   "outputs": [],
   "source": [
    "arr = np.zeros((2,3))\n",
    "print(arr)\n",
    "\n",
    "arr = np.ones((2,5))\n",
    "print(arr)\n",
    "\n",
    "arr = np.empty((2,7))\n",
    "print(arr)\n",
    "\n",
    "arr = np.full((2,9) , 3)\n",
    "print(arr)"
   ]
  },
  {
   "cell_type": "markdown",
   "id": "67078e77",
   "metadata": {},
   "source": [
    "##### repeating array"
   ]
  },
  {
   "cell_type": "code",
   "execution_count": 214,
   "id": "ef62ab23",
   "metadata": {
    "ExecuteTime": {
     "end_time": "2023-12-05T21:07:23.500824Z",
     "start_time": "2023-12-05T21:07:23.496289Z"
    }
   },
   "outputs": [
    {
     "name": "stdout",
     "output_type": "stream",
     "text": [
      "[0 0 0 0 1 1 1 1 2 2 2 2 3 3 3 3 4 4 4 4 5 5 5 5]\n"
     ]
    }
   ],
   "source": [
    "# No axis specified, then flatten the input array first and repeat\n",
    "# Data Augemnation \n",
    "arr = [[0, 1, 2], [3, 4, 5]]\n",
    "print(np.repeat(arr, 4)) "
   ]
  },
  {
   "cell_type": "code",
   "execution_count": null,
   "id": "4c05e200",
   "metadata": {
    "ExecuteTime": {
     "end_time": "2023-12-05T21:07:23.597990Z",
     "start_time": "2023-12-05T21:07:23.597990Z"
    }
   },
   "outputs": [],
   "source": [
    "# An example of repeating along x-axis\n",
    "print(np.repeat(arr, 4, axis=0)) # row  "
   ]
  },
  {
   "cell_type": "code",
   "execution_count": null,
   "id": "60e620c6",
   "metadata": {
    "ExecuteTime": {
     "end_time": "2023-12-05T21:07:23.598991Z",
     "start_time": "2023-12-05T21:07:23.598991Z"
    }
   },
   "outputs": [],
   "source": [
    "# An example of repeating along y-axis\n",
    "print(np.repeat(arr, 4, axis=1)) # column  "
   ]
  },
  {
   "cell_type": "code",
   "execution_count": 215,
   "id": "2fb75ade",
   "metadata": {
    "ExecuteTime": {
     "end_time": "2023-12-05T21:07:53.379389Z",
     "start_time": "2023-12-05T21:07:53.374082Z"
    }
   },
   "outputs": [
    {
     "name": "stdout",
     "output_type": "stream",
     "text": [
      "[0 1 2 0 1 2 0 1 2]\n"
     ]
    }
   ],
   "source": [
    "# Repeat the whole array by a specified number of times\n",
    "arr = [0, 1, 2]\n",
    "print(np.tile(arr, 3))"
   ]
  },
  {
   "cell_type": "markdown",
   "id": "a76b6bbd",
   "metadata": {},
   "source": [
    "##### diagonal array "
   ]
  },
  {
   "cell_type": "code",
   "execution_count": 216,
   "id": "529d76ae",
   "metadata": {
    "ExecuteTime": {
     "end_time": "2023-12-05T21:08:19.026039Z",
     "start_time": "2023-12-05T21:08:19.020983Z"
    }
   },
   "outputs": [
    {
     "name": "stdout",
     "output_type": "stream",
     "text": [
      "[[0 8 2 0]\n",
      " [6 9 5 5]\n",
      " [6 6 3 0]\n",
      " [1 8 0 3]]\n",
      "\n",
      "[0 9 3 3]\n"
     ]
    }
   ],
   "source": [
    "arr = np.random.rand(4,4) * 10\n",
    "arr = arr.astype(np.int16)\n",
    "print(arr)\n",
    "print()\n",
    "print(np.diag(arr))"
   ]
  },
  {
   "cell_type": "markdown",
   "id": "3b6f8c6f",
   "metadata": {},
   "source": [
    "### numerical calculations:\n",
    "U can make full calculations in ur array"
   ]
  },
  {
   "cell_type": "code",
   "execution_count": 32,
   "id": "1f3ec314",
   "metadata": {
    "ExecuteTime": {
     "end_time": "2023-12-06T09:10:35.769473Z",
     "start_time": "2023-12-06T09:10:35.762020Z"
    }
   },
   "outputs": [
    {
     "name": "stdout",
     "output_type": "stream",
     "text": [
      "[[0 0 0 0 0]\n",
      " [0 0 0 0 0]\n",
      " [0 0 0 0 0]\n",
      " [0 0 0 0 0]\n",
      " [0 0 0 0 0]] \n",
      "\n",
      "[[10 10 10 10 10]\n",
      " [10 10 10 10 10]\n",
      " [10 10 10 10 10]\n",
      " [10 10 10 10 10]\n",
      " [10 10 10 10 10]] \n",
      "\n",
      "[[5 5 5 5 5]\n",
      " [5 5 5 5 5]\n",
      " [5 5 5 5 5]\n",
      " [5 5 5 5 5]\n",
      " [5 5 5 5 5]] \n",
      "\n",
      "[[40 40 40 40 40]\n",
      " [40 40 40 40 40]\n",
      " [40 40 40 40 40]\n",
      " [40 40 40 40 40]\n",
      " [40 40 40 40 40]] \n",
      "\n",
      "[[10. 10. 10. 10. 10.]\n",
      " [10. 10. 10. 10. 10.]\n",
      " [10. 10. 10. 10. 10.]\n",
      " [10. 10. 10. 10. 10.]\n",
      " [10. 10. 10. 10. 10.]] \n",
      "\n"
     ]
    }
   ],
   "source": [
    "arr = np.zeros((5,5) , dtype ='i2')\n",
    "print (arr , '\\n')\n",
    "\n",
    "arr = arr + 10\n",
    "print (arr, '\\n')\n",
    "\n",
    "arr = arr - 5 \n",
    "print (arr, '\\n')\n",
    "\n",
    "arr = arr * 8\n",
    "print (arr, '\\n')\n",
    "\n",
    "arr = arr / 4\n",
    "print (arr, '\\n')"
   ]
  },
  {
   "cell_type": "markdown",
   "id": "fbdacca2",
   "metadata": {},
   "source": [
    "#####  U can add, substract, multbly two arrays\n",
    "\n",
    "np.add(arr1, arr2, out=new_arr)"
   ]
  },
  {
   "cell_type": "code",
   "execution_count": 30,
   "id": "e489d918",
   "metadata": {
    "ExecuteTime": {
     "end_time": "2023-12-06T09:09:21.122714Z",
     "start_time": "2023-12-06T09:09:21.114784Z"
    }
   },
   "outputs": [
    {
     "name": "stdout",
     "output_type": "stream",
     "text": [
      "[3. 6. 9.]\n",
      "[-1. -2. -3.]\n",
      "[ 2.  8. 18.]\n",
      "[0.5 0.5 0.5]\n"
     ]
    }
   ],
   "source": [
    "arr1 = np.array([1,2,3])\n",
    "arr2 = np.array([2,4,6])\n",
    "new_arr = np.array([0,0,0], dtype = 'float64')\n",
    "\n",
    "np.add(arr1, arr2, out=new_arr)\n",
    "print(new_arr)\n",
    "\n",
    "np.subtract(arr1, arr2, out=new_arr)\n",
    "print(new_arr)\n",
    "\n",
    "np.multiply(arr1, arr2, out=new_arr)\n",
    "print(new_arr)\n",
    "\n",
    "np.divide(arr1, arr2, out=new_arr)\n",
    "print(new_arr)\n"
   ]
  },
  {
   "cell_type": "markdown",
   "id": "8cb7d14d",
   "metadata": {},
   "source": [
    "### element-wise logorithm"
   ]
  },
  {
   "cell_type": "code",
   "execution_count": 33,
   "id": "b6eca695",
   "metadata": {
    "ExecuteTime": {
     "end_time": "2023-12-06T09:10:43.260598Z",
     "start_time": "2023-12-06T09:10:43.255863Z"
    }
   },
   "outputs": [
    {
     "name": "stdout",
     "output_type": "stream",
     "text": [
      "[[22026.46579481 22026.46579481 22026.46579481 22026.46579481\n",
      "  22026.46579481]\n",
      " [22026.46579481 22026.46579481 22026.46579481 22026.46579481\n",
      "  22026.46579481]\n",
      " [22026.46579481 22026.46579481 22026.46579481 22026.46579481\n",
      "  22026.46579481]\n",
      " [22026.46579481 22026.46579481 22026.46579481 22026.46579481\n",
      "  22026.46579481]\n",
      " [22026.46579481 22026.46579481 22026.46579481 22026.46579481\n",
      "  22026.46579481]]\n"
     ]
    }
   ],
   "source": [
    "print(np.exp(arr))"
   ]
  },
  {
   "cell_type": "code",
   "execution_count": 34,
   "id": "6d136e4d",
   "metadata": {
    "ExecuteTime": {
     "end_time": "2023-12-06T09:10:45.109732Z",
     "start_time": "2023-12-06T09:10:45.104566Z"
    }
   },
   "outputs": [
    {
     "name": "stdout",
     "output_type": "stream",
     "text": [
      "[[2.30258509 2.30258509 2.30258509 2.30258509 2.30258509]\n",
      " [2.30258509 2.30258509 2.30258509 2.30258509 2.30258509]\n",
      " [2.30258509 2.30258509 2.30258509 2.30258509 2.30258509]\n",
      " [2.30258509 2.30258509 2.30258509 2.30258509 2.30258509]\n",
      " [2.30258509 2.30258509 2.30258509 2.30258509 2.30258509]]\n"
     ]
    }
   ],
   "source": [
    "# natural log ( base e )\n",
    "print(np.log(arr)) "
   ]
  },
  {
   "cell_type": "code",
   "execution_count": 35,
   "id": "7465df2a",
   "metadata": {
    "ExecuteTime": {
     "end_time": "2023-12-06T09:10:48.015471Z",
     "start_time": "2023-12-06T09:10:48.010674Z"
    }
   },
   "outputs": [
    {
     "name": "stdout",
     "output_type": "stream",
     "text": [
      "[[3.32192809 3.32192809 3.32192809 3.32192809 3.32192809]\n",
      " [3.32192809 3.32192809 3.32192809 3.32192809 3.32192809]\n",
      " [3.32192809 3.32192809 3.32192809 3.32192809 3.32192809]\n",
      " [3.32192809 3.32192809 3.32192809 3.32192809 3.32192809]\n",
      " [3.32192809 3.32192809 3.32192809 3.32192809 3.32192809]]\n"
     ]
    }
   ],
   "source": [
    "# base 2\n",
    "print(np.log2(arr))     "
   ]
  },
  {
   "cell_type": "code",
   "execution_count": 36,
   "id": "ccb5e681",
   "metadata": {
    "ExecuteTime": {
     "end_time": "2023-12-06T09:10:48.791440Z",
     "start_time": "2023-12-06T09:10:48.786572Z"
    }
   },
   "outputs": [
    {
     "name": "stdout",
     "output_type": "stream",
     "text": [
      "[[1. 1. 1. 1. 1.]\n",
      " [1. 1. 1. 1. 1.]\n",
      " [1. 1. 1. 1. 1.]\n",
      " [1. 1. 1. 1. 1.]\n",
      " [1. 1. 1. 1. 1.]]\n"
     ]
    }
   ],
   "source": [
    "# base 10\n",
    "print(np.log10(arr))    "
   ]
  },
  {
   "cell_type": "markdown",
   "id": "cbed2353",
   "metadata": {},
   "source": [
    "##### also ur traingle equations"
   ]
  },
  {
   "cell_type": "code",
   "execution_count": 42,
   "id": "d7bd69ab",
   "metadata": {
    "ExecuteTime": {
     "end_time": "2023-12-06T09:13:51.864856Z",
     "start_time": "2023-12-06T09:13:51.859511Z"
    }
   },
   "outputs": [
    {
     "name": "stdout",
     "output_type": "stream",
     "text": [
      "[[-0.54402111 -0.54402111 -0.54402111 -0.54402111 -0.54402111]\n",
      " [-0.54402111 -0.54402111 -0.54402111 -0.54402111 -0.54402111]\n",
      " [-0.54402111 -0.54402111 -0.54402111 -0.54402111 -0.54402111]\n",
      " [-0.54402111 -0.54402111 -0.54402111 -0.54402111 -0.54402111]\n",
      " [-0.54402111 -0.54402111 -0.54402111 -0.54402111 -0.54402111]]\n",
      "[[-0.83907153 -0.83907153 -0.83907153 -0.83907153 -0.83907153]\n",
      " [-0.83907153 -0.83907153 -0.83907153 -0.83907153 -0.83907153]\n",
      " [-0.83907153 -0.83907153 -0.83907153 -0.83907153 -0.83907153]\n",
      " [-0.83907153 -0.83907153 -0.83907153 -0.83907153 -0.83907153]\n",
      " [-0.83907153 -0.83907153 -0.83907153 -0.83907153 -0.83907153]]\n"
     ]
    }
   ],
   "source": [
    "print(np.sin(arr))\n",
    "\n",
    "print(np.cos(arr))\n",
    "\n",
    "#also tan, tansh, sinh, cosh and every traingle equation"
   ]
  },
  {
   "cell_type": "markdown",
   "id": "671455c5",
   "metadata": {},
   "source": [
    "### sum along a specified axis"
   ]
  },
  {
   "cell_type": "code",
   "execution_count": 47,
   "id": "e5b1655e",
   "metadata": {
    "ExecuteTime": {
     "end_time": "2023-12-06T09:15:18.406172Z",
     "start_time": "2023-12-06T09:15:18.402238Z"
    }
   },
   "outputs": [
    {
     "name": "stdout",
     "output_type": "stream",
     "text": [
      "250.0\n"
     ]
    }
   ],
   "source": [
    "# if axis not specified, calculate the sum of all elements\n",
    "print(np.sum(arr))"
   ]
  },
  {
   "cell_type": "code",
   "execution_count": 48,
   "id": "e8bcc9cd",
   "metadata": {
    "ExecuteTime": {
     "end_time": "2023-12-06T09:15:20.680223Z",
     "start_time": "2023-12-06T09:15:20.675521Z"
    }
   },
   "outputs": [
    {
     "name": "stdout",
     "output_type": "stream",
     "text": [
      "[50. 50. 50. 50. 50.]\n"
     ]
    }
   ],
   "source": [
    "# sum along the row\n",
    "print(np.sum(arr, axis=0))    "
   ]
  },
  {
   "cell_type": "code",
   "execution_count": 49,
   "id": "249c75b7",
   "metadata": {
    "ExecuteTime": {
     "end_time": "2023-12-06T09:15:21.404398Z",
     "start_time": "2023-12-06T09:15:21.399217Z"
    }
   },
   "outputs": [
    {
     "name": "stdout",
     "output_type": "stream",
     "text": [
      "[50. 50. 50. 50. 50.]\n"
     ]
    }
   ],
   "source": [
    "# sum along the column\n",
    "print(np.sum(arr, axis=1))    "
   ]
  },
  {
   "cell_type": "code",
   "execution_count": 17,
   "id": "1e0e9fb3",
   "metadata": {
    "ExecuteTime": {
     "end_time": "2022-06-13T17:42:51.386653Z",
     "start_time": "2022-06-13T17:42:51.383651Z"
    }
   },
   "outputs": [
    {
     "name": "stdout",
     "output_type": "stream",
     "text": [
      "11.523109618079697\n"
     ]
    }
   ],
   "source": [
    "print(np.sum(arr))"
   ]
  },
  {
   "cell_type": "markdown",
   "id": "fb8ab4bf",
   "metadata": {},
   "source": [
    "### compute the min and max along a specified axis"
   ]
  },
  {
   "cell_type": "code",
   "execution_count": 52,
   "id": "2a43ff33",
   "metadata": {
    "ExecuteTime": {
     "end_time": "2023-12-06T09:50:09.560443Z",
     "start_time": "2023-12-06T09:50:09.555622Z"
    }
   },
   "outputs": [
    {
     "name": "stdout",
     "output_type": "stream",
     "text": [
      "10.0\n",
      "10.0\n"
     ]
    }
   ],
   "source": [
    "# if axis not specified, calculate the max/min value of all elements\n",
    "print(np.max(arr))\n",
    "print(np.min(arr))"
   ]
  },
  {
   "cell_type": "code",
   "execution_count": 50,
   "id": "ad180b90",
   "metadata": {
    "ExecuteTime": {
     "end_time": "2023-12-06T09:50:08.953235Z",
     "start_time": "2023-12-06T09:50:08.948856Z"
    }
   },
   "outputs": [
    {
     "name": "stdout",
     "output_type": "stream",
     "text": [
      "[10. 10. 10. 10. 10.]\n"
     ]
    }
   ],
   "source": [
    "# calculate min along the row\n",
    "print(np.min(arr, axis=0))"
   ]
  },
  {
   "cell_type": "code",
   "execution_count": 51,
   "id": "9b1f1216",
   "metadata": {
    "ExecuteTime": {
     "end_time": "2023-12-06T09:50:09.323050Z",
     "start_time": "2023-12-06T09:50:09.318400Z"
    }
   },
   "outputs": [
    {
     "name": "stdout",
     "output_type": "stream",
     "text": [
      "[10. 10. 10. 10. 10.]\n"
     ]
    }
   ],
   "source": [
    "# calculate max along the column\n",
    "print(np.max(arr, axis=1))    "
   ]
  },
  {
   "cell_type": "markdown",
   "id": "81880df5",
   "metadata": {},
   "source": [
    "## compute element-wise min and max of two arrays:\n",
    "###### find the max/min element between the arrays and make new array with it "
   ]
  },
  {
   "cell_type": "code",
   "execution_count": 24,
   "id": "1907a731",
   "metadata": {
    "ExecuteTime": {
     "end_time": "2022-06-13T17:43:56.165095Z",
     "start_time": "2022-06-13T17:43:56.161090Z"
    }
   },
   "outputs": [
    {
     "name": "stdout",
     "output_type": "stream",
     "text": [
      "[1 4 5 8 9]\n",
      "\n",
      "[0 3 3 7 7]\n"
     ]
    }
   ],
   "source": [
    "arr1 = np.array([1, 3, 5, 7, 9])\n",
    "arr2 = np.array([0, 4, 3, 8, 7])\n",
    "print(np.maximum(arr1, arr2))\n",
    "print()\n",
    "print(np.minimum(arr1, arr2))"
   ]
  },
  {
   "cell_type": "markdown",
   "id": "e3ba10d9",
   "metadata": {},
   "source": [
    "##### spearate the feactional from the integer"
   ]
  },
  {
   "cell_type": "code",
   "execution_count": 94,
   "id": "2679161c",
   "metadata": {
    "ExecuteTime": {
     "end_time": "2023-12-06T10:52:52.583795Z",
     "start_time": "2023-12-06T10:52:52.578561Z"
    }
   },
   "outputs": [
    {
     "name": "stdout",
     "output_type": "stream",
     "text": [
      "0.23\n",
      "1\n"
     ]
    }
   ],
   "source": [
    "newarr = np.array([1.23,])\n",
    "re , intg  = np.modf(newarr)\n",
    "\n",
    "# rounding the number to get the accurate reuslt\n",
    "fraction = round(float(re), 2)\n",
    "integer = int(intg)\n",
    "print(fraction)\n",
    "print(integer)"
   ]
  },
  {
   "cell_type": "markdown",
   "id": "291c0da5",
   "metadata": {},
   "source": [
    "#####  compute the overall Avreage"
   ]
  },
  {
   "cell_type": "code",
   "execution_count": 107,
   "id": "7cacdec6",
   "metadata": {
    "ExecuteTime": {
     "end_time": "2023-12-06T10:57:19.568752Z",
     "start_time": "2023-12-06T10:57:19.562565Z"
    }
   },
   "outputs": [
    {
     "data": {
      "text/plain": [
       "array([[0, 1],\n",
       "       [2, 3]], dtype=int16)"
      ]
     },
     "execution_count": 107,
     "metadata": {},
     "output_type": "execute_result"
    }
   ],
   "source": [
    "arr = np.arange(4, dtype='int16').reshape((2, 2))\n",
    "arr"
   ]
  },
  {
   "cell_type": "code",
   "execution_count": 108,
   "id": "5e988313",
   "metadata": {
    "ExecuteTime": {
     "end_time": "2023-12-06T10:57:24.970905Z",
     "start_time": "2023-12-06T10:57:24.967152Z"
    }
   },
   "outputs": [
    {
     "name": "stdout",
     "output_type": "stream",
     "text": [
      "1.5\n"
     ]
    }
   ],
   "source": [
    "# compute the overall mean\n",
    "print(np.mean(arr))"
   ]
  },
  {
   "cell_type": "code",
   "execution_count": 109,
   "id": "273e3834",
   "metadata": {
    "ExecuteTime": {
     "end_time": "2023-12-06T10:57:25.603326Z",
     "start_time": "2023-12-06T10:57:25.598186Z"
    }
   },
   "outputs": [
    {
     "name": "stdout",
     "output_type": "stream",
     "text": [
      "[1. 2.]\n"
     ]
    }
   ],
   "source": [
    "# compute the mean along the row\n",
    "print(np.mean(arr, axis=0))   "
   ]
  },
  {
   "cell_type": "code",
   "execution_count": 112,
   "id": "40f8f867",
   "metadata": {
    "ExecuteTime": {
     "end_time": "2023-12-06T10:58:57.251211Z",
     "start_time": "2023-12-06T10:58:57.247383Z"
    }
   },
   "outputs": [
    {
     "name": "stdout",
     "output_type": "stream",
     "text": [
      "[0.5 2.5]\n"
     ]
    }
   ],
   "source": [
    "# compute the mean along the column\n",
    "print(np.mean(arr, axis=1)) "
   ]
  },
  {
   "cell_type": "markdown",
   "id": "9ebb7b7b",
   "metadata": {},
   "source": [
    "### element-wise comparison"
   ]
  },
  {
   "cell_type": "code",
   "execution_count": 113,
   "id": "91e37a02",
   "metadata": {
    "ExecuteTime": {
     "end_time": "2023-12-06T10:59:12.238282Z",
     "start_time": "2023-12-06T10:59:12.234619Z"
    }
   },
   "outputs": [],
   "source": [
    "arr1 = np.array([1,2,3,4,5])\n",
    "arr2 = np.array([5,4,3,2,1])"
   ]
  },
  {
   "cell_type": "code",
   "execution_count": 119,
   "id": "2a986640",
   "metadata": {
    "ExecuteTime": {
     "end_time": "2023-12-06T10:59:47.275009Z",
     "start_time": "2023-12-06T10:59:47.271016Z"
    }
   },
   "outputs": [
    {
     "name": "stdout",
     "output_type": "stream",
     "text": [
      "[False False  True False False]\n",
      "[ True  True False False False]\n"
     ]
    }
   ],
   "source": [
    "# return an array of bools\n",
    "print(arr1 == arr2)    \n",
    "print(arr1 < 3)"
   ]
  },
  {
   "cell_type": "markdown",
   "id": "db0aab3c",
   "metadata": {},
   "source": [
    "####  Sorting an Array"
   ]
  },
  {
   "cell_type": "code",
   "execution_count": 150,
   "id": "94ca689b",
   "metadata": {
    "ExecuteTime": {
     "end_time": "2023-12-06T12:15:13.061113Z",
     "start_time": "2023-12-06T12:15:13.054269Z"
    }
   },
   "outputs": [
    {
     "data": {
      "text/plain": [
       "array([[ 5,  6,  7,  8,  9],\n",
       "       [ 0,  1,  2,  3,  4],\n",
       "       [20, 21, 22, 23, 24],\n",
       "       [10, 11, 12, 13, 14],\n",
       "       [15, 16, 17, 18, 19]])"
      ]
     },
     "execution_count": 150,
     "metadata": {},
     "output_type": "execute_result"
    }
   ],
   "source": [
    "arr = (np.arange(25).reshape(5,5))\n",
    "np.random.shuffle(arr)\n",
    "arr"
   ]
  },
  {
   "cell_type": "markdown",
   "id": "5624e011",
   "metadata": {},
   "source": [
    "### sort an array along a specified axis"
   ]
  },
  {
   "cell_type": "code",
   "execution_count": 153,
   "id": "223b60a7",
   "metadata": {
    "ExecuteTime": {
     "end_time": "2023-12-06T12:16:34.777534Z",
     "start_time": "2023-12-06T12:16:34.772103Z"
    },
    "scrolled": true
   },
   "outputs": [
    {
     "name": "stdout",
     "output_type": "stream",
     "text": [
      "[[ 0  1  2  3  4]\n",
      " [ 5  6  7  8  9]\n",
      " [10 11 12 13 14]\n",
      " [15 16 17 18 19]\n",
      " [20 21 22 23 24]]\n",
      "[[ 0  1  2  3  4]\n",
      " [ 5  6  7  8  9]\n",
      " [10 11 12 13 14]\n",
      " [15 16 17 18 19]\n",
      " [20 21 22 23 24]]\n"
     ]
    }
   ],
   "source": [
    "# sort along the row and return a copy\n",
    "print(np.sort(arr, axis=0))   \n",
    "\n",
    "# sort along the row in place\n",
    "arr.sort(axis=0)\n",
    "print(arr)"
   ]
  },
  {
   "cell_type": "markdown",
   "id": "32ba3a80",
   "metadata": {},
   "source": [
    "###### flate the array"
   ]
  },
  {
   "cell_type": "code",
   "execution_count": 155,
   "id": "a61baf34",
   "metadata": {
    "ExecuteTime": {
     "end_time": "2023-12-06T12:19:06.049010Z",
     "start_time": "2023-12-06T12:19:06.041882Z"
    }
   },
   "outputs": [
    {
     "data": {
      "text/plain": [
       "array([ 0,  1,  2,  3,  4,  5,  6,  7,  8,  9, 10, 11, 12, 13, 14, 15, 16,\n",
       "       17, 18, 19, 20, 21, 22, 23, 24])"
      ]
     },
     "execution_count": 155,
     "metadata": {},
     "output_type": "execute_result"
    }
   ],
   "source": [
    "arr = arr.flatten()\n",
    "arr"
   ]
  },
  {
   "cell_type": "markdown",
   "id": "2a29973b",
   "metadata": {},
   "source": [
    "### swap axes"
   ]
  },
  {
   "cell_type": "code",
   "execution_count": 156,
   "id": "7c685926",
   "metadata": {
    "ExecuteTime": {
     "end_time": "2023-12-06T12:28:32.602199Z",
     "start_time": "2023-12-06T12:28:32.596064Z"
    }
   },
   "outputs": [
    {
     "data": {
      "text/plain": [
       "array([[[ 0,  1,  2,  3],\n",
       "        [ 4,  5,  6,  7]],\n",
       "\n",
       "       [[ 8,  9, 10, 11],\n",
       "        [12, 13, 14, 15]]])"
      ]
     },
     "execution_count": 156,
     "metadata": {},
     "output_type": "execute_result"
    }
   ],
   "source": [
    "arr1 = np.arange(16).reshape((2,2,4))\n",
    "arr1"
   ]
  },
  {
   "cell_type": "code",
   "execution_count": 157,
   "id": "1da9184a",
   "metadata": {
    "ExecuteTime": {
     "end_time": "2023-12-06T12:28:36.581859Z",
     "start_time": "2023-12-06T12:28:36.577897Z"
    }
   },
   "outputs": [
    {
     "name": "stdout",
     "output_type": "stream",
     "text": [
      "[[[ 0  4]\n",
      "  [ 1  5]\n",
      "  [ 2  6]\n",
      "  [ 3  7]]\n",
      "\n",
      " [[ 8 12]\n",
      "  [ 9 13]\n",
      "  [10 14]\n",
      "  [11 15]]]\n"
     ]
    }
   ],
   "source": [
    "print(arr1.swapaxes(1,2))"
   ]
  },
  {
   "cell_type": "markdown",
   "id": "82235790",
   "metadata": {},
   "source": [
    "### append elements to an array\n",
    "array is not dinamic so the size cant be change so u need to make another array to append"
   ]
  },
  {
   "cell_type": "code",
   "execution_count": 158,
   "id": "fad98f37",
   "metadata": {
    "ExecuteTime": {
     "end_time": "2023-12-06T12:29:29.431155Z",
     "start_time": "2023-12-06T12:29:29.424819Z"
    }
   },
   "outputs": [
    {
     "data": {
      "text/plain": [
       "array([1, 2, 3])"
      ]
     },
     "execution_count": 158,
     "metadata": {},
     "output_type": "execute_result"
    }
   ],
   "source": [
    "arr = np.array([1,2,3])\n",
    "arr"
   ]
  },
  {
   "cell_type": "code",
   "execution_count": 8,
   "id": "21013bdc",
   "metadata": {
    "ExecuteTime": {
     "end_time": "2022-06-18T09:02:11.953598Z",
     "start_time": "2022-06-18T09:02:11.950587Z"
    }
   },
   "outputs": [
    {
     "name": "stdout",
     "output_type": "stream",
     "text": [
      "[1 2 3 4]\n"
     ]
    }
   ],
   "source": [
    "# append a scalar and return a copy\n",
    "arr1 = np.append(arr, 4)    \n",
    "print(arr1)"
   ]
  },
  {
   "cell_type": "code",
   "execution_count": 10,
   "id": "f31c7acf",
   "metadata": {
    "ExecuteTime": {
     "end_time": "2022-06-18T09:03:37.959016Z",
     "start_time": "2022-06-18T09:03:37.955013Z"
    }
   },
   "outputs": [
    {
     "name": "stdout",
     "output_type": "stream",
     "text": [
      "[1 2 3 4 5 6]\n"
     ]
    }
   ],
   "source": [
    "# append an array and return a copy\n",
    "arr2 = np.append(arr, [4,5,6])    \n",
    "print(arr2)"
   ]
  },
  {
   "cell_type": "markdown",
   "id": "f52f68a7",
   "metadata": {},
   "source": [
    "### insert elements into an array"
   ]
  },
  {
   "cell_type": "code",
   "execution_count": 12,
   "id": "32bcee78",
   "metadata": {
    "ExecuteTime": {
     "end_time": "2022-06-18T09:04:34.609296Z",
     "start_time": "2022-06-18T09:04:34.606292Z"
    }
   },
   "outputs": [
    {
     "name": "stdout",
     "output_type": "stream",
     "text": [
      "[100   1   2   3]\n"
     ]
    }
   ],
   "source": [
    "# np.insert(array, position, element)\n",
    "\n",
    "# insert a scalar at a certain position\n",
    "arr3 = np.insert(arr, 0, 100)    \n",
    "print(arr3)"
   ]
  },
  {
   "cell_type": "code",
   "execution_count": 13,
   "id": "28b6ff04",
   "metadata": {
    "ExecuteTime": {
     "end_time": "2022-06-18T09:04:44.845295Z",
     "start_time": "2022-06-18T09:04:44.841295Z"
    }
   },
   "outputs": [
    {
     "name": "stdout",
     "output_type": "stream",
     "text": [
      "[8 2 6 1 2 3]\n"
     ]
    }
   ],
   "source": [
    "# insert multiple values at a certain position\n",
    "arr3 = np.insert(arr, 0, [8,2,6])    \n",
    "print(arr3)"
   ]
  },
  {
   "cell_type": "markdown",
   "id": "20532211",
   "metadata": {},
   "source": [
    "### delete elements from an array"
   ]
  },
  {
   "cell_type": "code",
   "execution_count": 159,
   "id": "d1dec83e",
   "metadata": {
    "ExecuteTime": {
     "end_time": "2023-12-06T12:30:21.652986Z",
     "start_time": "2023-12-06T12:30:21.648613Z"
    }
   },
   "outputs": [
    {
     "name": "stdout",
     "output_type": "stream",
     "text": [
      "[2 3]\n"
     ]
    }
   ],
   "source": [
    "# remove the element at position 0\n",
    "arr4 = np.delete(arr, 0)    \n",
    "print(arr4)"
   ]
  },
  {
   "cell_type": "code",
   "execution_count": 160,
   "id": "23d918db",
   "metadata": {
    "ExecuteTime": {
     "end_time": "2023-12-06T12:30:22.231145Z",
     "start_time": "2023-12-06T12:30:22.225419Z"
    }
   },
   "outputs": [
    {
     "data": {
      "text/plain": [
       "array([1, 2, 3])"
      ]
     },
     "execution_count": 160,
     "metadata": {},
     "output_type": "execute_result"
    }
   ],
   "source": [
    "arr"
   ]
  },
  {
   "cell_type": "code",
   "execution_count": 161,
   "id": "8cc0cffa",
   "metadata": {
    "ExecuteTime": {
     "end_time": "2023-12-06T12:30:22.673406Z",
     "start_time": "2023-12-06T12:30:22.669003Z"
    },
    "scrolled": true
   },
   "outputs": [
    {
     "name": "stdout",
     "output_type": "stream",
     "text": [
      "[2]\n"
     ]
    }
   ],
   "source": [
    "# remove the element at multiple positions\n",
    "arr4 = np.delete(arr, [0,2])    \n",
    "print(arr4)"
   ]
  },
  {
   "cell_type": "markdown",
   "id": "cdafd280",
   "metadata": {},
   "source": [
    "### copy an array\n",
    "\n",
    "if u copyed an array with the normal way u will change the first array\n",
    "U are just makeing a new key word to call the array"
   ]
  },
  {
   "cell_type": "code",
   "execution_count": 163,
   "id": "9feaf978",
   "metadata": {
    "ExecuteTime": {
     "end_time": "2023-12-06T12:32:08.164178Z",
     "start_time": "2023-12-06T12:32:08.159212Z"
    }
   },
   "outputs": [
    {
     "name": "stdout",
     "output_type": "stream",
     "text": [
      "[1 2 3]\n",
      "[7 2 3]\n",
      "[7 2 3]\n"
     ]
    }
   ],
   "source": [
    "arr = np.array([1,2,3])\n",
    "\n",
    "arrx = arr\n",
    "\n",
    "print(arrx) \n",
    "\n",
    "arrx[0] = 7\n",
    "\n",
    "print(arrx)\n",
    "\n",
    "print(arr)"
   ]
  },
  {
   "cell_type": "markdown",
   "id": "4e3bd351",
   "metadata": {},
   "source": [
    "to make new array u need to follow this method"
   ]
  },
  {
   "cell_type": "code",
   "execution_count": 166,
   "id": "7033c892",
   "metadata": {
    "ExecuteTime": {
     "end_time": "2023-12-06T12:33:32.611578Z",
     "start_time": "2023-12-06T12:33:32.605361Z"
    }
   },
   "outputs": [
    {
     "name": "stdout",
     "output_type": "stream",
     "text": [
      "[1 2 3]\n",
      "[7 2 3]\n",
      "[1 2 3]\n"
     ]
    }
   ],
   "source": [
    "# the following methods are all deep copy\n",
    "arr = np.array([1,2,3])\n",
    "arr1 = np.copy(arr)\n",
    "# or \n",
    "a = arr.copy()\n",
    "# or \n",
    "arr1 = np.array(arr, copy=True)\n",
    "\n",
    "print(arr1) \n",
    "\n",
    "arr1[0] = 7\n",
    "\n",
    "print(arr1)\n",
    "\n",
    "print(arr)"
   ]
  },
  {
   "cell_type": "markdown",
   "id": "ed512800",
   "metadata": {},
   "source": [
    "### np.concatenate((a, b), axis=)"
   ]
  },
  {
   "cell_type": "code",
   "execution_count": 168,
   "id": "b8ec14aa",
   "metadata": {
    "ExecuteTime": {
     "end_time": "2023-12-06T12:40:45.391354Z",
     "start_time": "2023-12-06T12:40:45.387331Z"
    }
   },
   "outputs": [],
   "source": [
    "arr1 = np.array([[1,2,3,4], [1,2,3,4]])\n",
    "arr2 = np.array([[5,6,7,8], [5,6,7,8]])"
   ]
  },
  {
   "cell_type": "code",
   "execution_count": 169,
   "id": "502005d3",
   "metadata": {
    "ExecuteTime": {
     "end_time": "2023-12-06T12:40:45.695835Z",
     "start_time": "2023-12-06T12:40:45.691120Z"
    }
   },
   "outputs": [
    {
     "name": "stdout",
     "output_type": "stream",
     "text": [
      "[[1 2 3 4]\n",
      " [1 2 3 4]\n",
      " [5 6 7 8]\n",
      " [5 6 7 8]]\n"
     ]
    }
   ],
   "source": [
    "# concat along the row\n",
    "cat = np.concatenate((arr1, arr2), axis=0)        \n",
    "print(cat)"
   ]
  },
  {
   "cell_type": "code",
   "execution_count": 170,
   "id": "3895cf15",
   "metadata": {
    "ExecuteTime": {
     "end_time": "2023-12-06T12:40:46.009461Z",
     "start_time": "2023-12-06T12:40:46.005488Z"
    }
   },
   "outputs": [
    {
     "name": "stdout",
     "output_type": "stream",
     "text": [
      "[[1 2 3 4 5 6 7 8]\n",
      " [1 2 3 4 5 6 7 8]]\n"
     ]
    }
   ],
   "source": [
    "# concat along the column\n",
    "cat = np.concatenate((arr1, arr2), axis=1)    \n",
    "print(cat)"
   ]
  },
  {
   "cell_type": "markdown",
   "id": "a456d711",
   "metadata": {},
   "source": [
    "### np.vstack((a, b))"
   ]
  },
  {
   "cell_type": "code",
   "execution_count": 171,
   "id": "cdbd9d63",
   "metadata": {
    "ExecuteTime": {
     "end_time": "2023-12-06T12:40:47.094017Z",
     "start_time": "2023-12-06T12:40:47.089372Z"
    }
   },
   "outputs": [
    {
     "name": "stdout",
     "output_type": "stream",
     "text": [
      "[[1 2 3 4]\n",
      " [1 2 3 4]\n",
      " [5 6 7 8]\n",
      " [5 6 7 8]]\n"
     ]
    }
   ],
   "source": [
    "# stack arrays vertically\n",
    "cat = np.vstack((arr1, arr2))\n",
    "print(cat)"
   ]
  },
  {
   "cell_type": "markdown",
   "id": "45533707",
   "metadata": {},
   "source": [
    "### np.hstack((a, b))"
   ]
  },
  {
   "cell_type": "code",
   "execution_count": 173,
   "id": "94ef9221",
   "metadata": {
    "ExecuteTime": {
     "end_time": "2023-12-06T12:41:02.752043Z",
     "start_time": "2023-12-06T12:41:02.747804Z"
    }
   },
   "outputs": [
    {
     "name": "stdout",
     "output_type": "stream",
     "text": [
      "[[1 2 3 4 5 6 7 8]\n",
      " [1 2 3 4 5 6 7 8]]\n"
     ]
    }
   ],
   "source": [
    "# stack arrays horizontally\n",
    "cat = np.hstack((arr1, arr2))\n",
    "print(cat)"
   ]
  },
  {
   "cell_type": "markdown",
   "id": "468491b3",
   "metadata": {},
   "source": [
    "### split an array "
   ]
  },
  {
   "cell_type": "code",
   "execution_count": 174,
   "id": "62195ad6",
   "metadata": {
    "ExecuteTime": {
     "end_time": "2023-12-06T12:41:17.020962Z",
     "start_time": "2023-12-06T12:41:17.014282Z"
    }
   },
   "outputs": [
    {
     "data": {
      "text/plain": [
       "array([[0.93360678, 0.20092073, 0.25260385, 0.770449  , 0.01080724,\n",
       "        0.99366919],\n",
       "       [0.88112547, 0.15684954, 0.95258099, 0.71579922, 0.4748768 ,\n",
       "        0.66739374],\n",
       "       [0.23700183, 0.23352685, 0.53857022, 0.60846299, 0.14402415,\n",
       "        0.64474205],\n",
       "       [0.14191752, 0.75746772, 0.58126662, 0.27383459, 0.65993095,\n",
       "        0.59060542],\n",
       "       [0.89166009, 0.96776864, 0.75655507, 0.93360292, 0.51301903,\n",
       "        0.1625089 ],\n",
       "       [0.87197661, 0.45368285, 0.21833698, 0.54070938, 0.70933805,\n",
       "        0.9866479 ]])"
      ]
     },
     "execution_count": 174,
     "metadata": {},
     "output_type": "execute_result"
    }
   ],
   "source": [
    "arr = np.random.rand(6,6)\n",
    "arr"
   ]
  },
  {
   "cell_type": "code",
   "execution_count": 175,
   "id": "cef9454a",
   "metadata": {
    "ExecuteTime": {
     "end_time": "2023-12-06T12:41:18.275701Z",
     "start_time": "2023-12-06T12:41:18.269744Z"
    }
   },
   "outputs": [
    {
     "name": "stdout",
     "output_type": "stream",
     "text": [
      "[array([[0.93360678, 0.20092073, 0.25260385, 0.770449  , 0.01080724,\n",
      "        0.99366919],\n",
      "       [0.88112547, 0.15684954, 0.95258099, 0.71579922, 0.4748768 ,\n",
      "        0.66739374],\n",
      "       [0.23700183, 0.23352685, 0.53857022, 0.60846299, 0.14402415,\n",
      "        0.64474205]]), array([[0.14191752, 0.75746772, 0.58126662, 0.27383459, 0.65993095,\n",
      "        0.59060542],\n",
      "       [0.89166009, 0.96776864, 0.75655507, 0.93360292, 0.51301903,\n",
      "        0.1625089 ],\n",
      "       [0.87197661, 0.45368285, 0.21833698, 0.54070938, 0.70933805,\n",
      "        0.9866479 ]])]\n"
     ]
    }
   ],
   "source": [
    "# split the array vertically into n evenly spaced chunks\n",
    "arr1 = np.vsplit(arr, 2)\n",
    "print(arr1)"
   ]
  },
  {
   "cell_type": "code",
   "execution_count": 178,
   "id": "4ec2796b",
   "metadata": {
    "ExecuteTime": {
     "end_time": "2023-12-06T12:42:04.061604Z",
     "start_time": "2023-12-06T12:42:04.054952Z"
    }
   },
   "outputs": [
    {
     "name": "stdout",
     "output_type": "stream",
     "text": [
      "[[0.93360678 0.20092073 0.25260385]\n",
      " [0.88112547 0.15684954 0.95258099]\n",
      " [0.23700183 0.23352685 0.53857022]\n",
      " [0.14191752 0.75746772 0.58126662]\n",
      " [0.89166009 0.96776864 0.75655507]\n",
      " [0.87197661 0.45368285 0.21833698]] \n",
      "\n",
      " [[0.770449   0.01080724 0.99366919]\n",
      " [0.71579922 0.4748768  0.66739374]\n",
      " [0.60846299 0.14402415 0.64474205]\n",
      " [0.27383459 0.65993095 0.59060542]\n",
      " [0.93360292 0.51301903 0.1625089 ]\n",
      " [0.54070938 0.70933805 0.9866479 ]]\n"
     ]
    }
   ],
   "source": [
    "# split the array horizontally into n evenly spaced chunks\n",
    "arr2 = np.hsplit(arr, 2)\n",
    "print(arr2[0], '\\n\\n', arr2[1])"
   ]
  },
  {
   "cell_type": "markdown",
   "id": "288c9814",
   "metadata": {},
   "source": [
    "### Set operations"
   ]
  },
  {
   "cell_type": "markdown",
   "id": "3478593a",
   "metadata": {},
   "source": [
    "### select the unique elements from an array"
   ]
  },
  {
   "cell_type": "code",
   "execution_count": 179,
   "id": "c017b7da",
   "metadata": {
    "ExecuteTime": {
     "end_time": "2023-12-06T12:45:11.472419Z",
     "start_time": "2023-12-06T12:45:11.467441Z"
    },
    "scrolled": true
   },
   "outputs": [
    {
     "name": "stdout",
     "output_type": "stream",
     "text": [
      "[1 2 3 4 5 6 7]\n"
     ]
    }
   ],
   "source": [
    "arr = np.array([7,1,1,2,2,3,3,4,5,6])\n",
    "print(np.unique(arr))"
   ]
  },
  {
   "cell_type": "code",
   "execution_count": 180,
   "id": "529b3b0e",
   "metadata": {
    "ExecuteTime": {
     "end_time": "2023-12-06T12:45:11.748304Z",
     "start_time": "2023-12-06T12:45:11.738464Z"
    }
   },
   "outputs": [
    {
     "name": "stdout",
     "output_type": "stream",
     "text": [
      "<class 'numpy.ndarray'>\n",
      "<class 'list'>\n"
     ]
    },
    {
     "data": {
      "text/plain": [
       "[7, 1, 1, 2, 2, 3, 3, 4, 5, 6]"
      ]
     },
     "execution_count": 180,
     "metadata": {},
     "output_type": "execute_result"
    }
   ],
   "source": [
    "arr = np.array([7,1,1,2,2,3,3,4,5,6])\n",
    "x = arr.tolist()\n",
    "print(type(arr))\n",
    "print(type(x))\n",
    "x"
   ]
  },
  {
   "cell_type": "code",
   "execution_count": 181,
   "id": "7d0fdb4e",
   "metadata": {
    "ExecuteTime": {
     "end_time": "2023-12-06T12:45:12.022382Z",
     "start_time": "2023-12-06T12:45:12.012402Z"
    }
   },
   "outputs": [
    {
     "name": "stdout",
     "output_type": "stream",
     "text": [
      "[1 2 3 4 5 6]\n",
      "[2 2 2 1 1 1]\n"
     ]
    },
    {
     "data": {
      "text/plain": [
       "int"
      ]
     },
     "execution_count": 181,
     "metadata": {},
     "output_type": "execute_result"
    }
   ],
   "source": [
    "# return the number of times each unique item appears\n",
    "arr = np.array([1,1,2,2,3,3,4,5,6])\n",
    "uniques, counts = np.unique(arr, return_counts=True)\n",
    "\n",
    "#print(type(uniques))\n",
    "print(uniques)\n",
    "#print(type(counts))\n",
    "print(counts)\n",
    "\n",
    "x = int(counts[0])\n",
    "type(x)"
   ]
  },
  {
   "cell_type": "markdown",
   "id": "fa91707c",
   "metadata": {},
   "source": [
    "### compute the intersection & union of two arrays"
   ]
  },
  {
   "cell_type": "code",
   "execution_count": 182,
   "id": "f04a4531",
   "metadata": {
    "ExecuteTime": {
     "end_time": "2023-12-06T12:45:12.740757Z",
     "start_time": "2023-12-06T12:45:12.736206Z"
    }
   },
   "outputs": [],
   "source": [
    "arr1 = np.array([1,2,3,4,5])\n",
    "arr2 = np.array([3,4,5,6,7])"
   ]
  },
  {
   "cell_type": "code",
   "execution_count": 183,
   "id": "999fa5c4",
   "metadata": {
    "ExecuteTime": {
     "end_time": "2023-12-06T12:45:13.113208Z",
     "start_time": "2023-12-06T12:45:13.105189Z"
    }
   },
   "outputs": [
    {
     "name": "stdout",
     "output_type": "stream",
     "text": [
      "[3 4 5]\n",
      "<class 'numpy.ndarray'>\n"
     ]
    }
   ],
   "source": [
    "# intersection\n",
    "print(np.intersect1d(arr1, arr2))\n",
    "print(type(np.intersect1d(arr1, arr2)))"
   ]
  },
  {
   "cell_type": "code",
   "execution_count": 184,
   "id": "46e63032",
   "metadata": {
    "ExecuteTime": {
     "end_time": "2023-12-06T12:45:13.459817Z",
     "start_time": "2023-12-06T12:45:13.452869Z"
    }
   },
   "outputs": [
    {
     "name": "stdout",
     "output_type": "stream",
     "text": [
      "[1 2 3 4 5 6 7]\n"
     ]
    }
   ],
   "source": [
    "# union\n",
    "print(np.union1d(arr1, arr2))"
   ]
  },
  {
   "cell_type": "code",
   "execution_count": 185,
   "id": "17604a3a",
   "metadata": {
    "ExecuteTime": {
     "end_time": "2023-12-06T12:45:13.806619Z",
     "start_time": "2023-12-06T12:45:13.801080Z"
    }
   },
   "outputs": [
    {
     "name": "stdout",
     "output_type": "stream",
     "text": [
      "[1 2 3 4 5 6 7]\n"
     ]
    }
   ],
   "source": [
    "arr1 = np.array([1,2,3,4,5])\n",
    "arr2 = np.array([3,4,5,6,7])\n",
    "print(np.union1d(arr1, arr2))"
   ]
  },
  {
   "cell_type": "code",
   "execution_count": 186,
   "id": "c7c0b6d8",
   "metadata": {
    "ExecuteTime": {
     "end_time": "2023-12-06T12:45:14.154185Z",
     "start_time": "2023-12-06T12:45:14.146637Z"
    }
   },
   "outputs": [
    {
     "data": {
      "text/plain": [
       "(array([2], dtype=int64),)"
      ]
     },
     "execution_count": 186,
     "metadata": {},
     "output_type": "execute_result"
    }
   ],
   "source": [
    "np.where(arr1 == 3)"
   ]
  },
  {
   "cell_type": "markdown",
   "id": "a943ab93",
   "metadata": {},
   "source": [
    "### compute whether each element of an array is contained in another"
   ]
  },
  {
   "cell_type": "code",
   "execution_count": 187,
   "id": "19fb9df4",
   "metadata": {
    "ExecuteTime": {
     "end_time": "2023-12-06T12:45:14.755872Z",
     "start_time": "2023-12-06T12:45:14.750589Z"
    }
   },
   "outputs": [
    {
     "name": "stdout",
     "output_type": "stream",
     "text": [
      "[False False  True  True  True]\n"
     ]
    }
   ],
   "source": [
    "print(np.in1d(arr1, arr2))\n",
    "# arr1=  1 , 2, ,3 ,4, 5 \n",
    "# arr2 = 3, 4, 5 , 6 , 7"
   ]
  },
  {
   "cell_type": "code",
   "execution_count": 188,
   "id": "1814af43",
   "metadata": {
    "ExecuteTime": {
     "end_time": "2023-12-06T12:45:15.178637Z",
     "start_time": "2023-12-06T12:45:15.172626Z"
    }
   },
   "outputs": [
    {
     "name": "stdout",
     "output_type": "stream",
     "text": [
      "[False False  True  True  True]\n"
     ]
    }
   ],
   "source": [
    "# preserve the shape of the array in the output, if the array is of higher dimensions\n",
    "print(np.isin(arr1, arr2))"
   ]
  },
  {
   "cell_type": "markdown",
   "id": "7a2a75b6",
   "metadata": {},
   "source": [
    "### compute the elements in an array that are not in another"
   ]
  },
  {
   "cell_type": "code",
   "execution_count": 189,
   "id": "7fb70008",
   "metadata": {
    "ExecuteTime": {
     "end_time": "2023-12-06T12:45:16.105483Z",
     "start_time": "2023-12-06T12:45:16.100113Z"
    }
   },
   "outputs": [
    {
     "name": "stdout",
     "output_type": "stream",
     "text": [
      "[6 7]\n"
     ]
    }
   ],
   "source": [
    "print(np.setdiff1d(arr2, arr1))"
   ]
  },
  {
   "cell_type": "code",
   "execution_count": 190,
   "id": "4c0843ec",
   "metadata": {
    "ExecuteTime": {
     "end_time": "2023-12-06T12:45:16.375513Z",
     "start_time": "2023-12-06T12:45:16.369788Z"
    }
   },
   "outputs": [
    {
     "name": "stdout",
     "output_type": "stream",
     "text": [
      "[1 2]\n"
     ]
    }
   ],
   "source": [
    "print(np.setdiff1d(arr1, arr2))"
   ]
  },
  {
   "cell_type": "markdown",
   "id": "79e51c5d",
   "metadata": {},
   "source": [
    "### compute the elements in either of two arrays, but not both"
   ]
  },
  {
   "cell_type": "code",
   "execution_count": 191,
   "id": "fcbfdf18",
   "metadata": {
    "ExecuteTime": {
     "end_time": "2023-12-06T12:45:17.034348Z",
     "start_time": "2023-12-06T12:45:17.029097Z"
    }
   },
   "outputs": [
    {
     "name": "stdout",
     "output_type": "stream",
     "text": [
      "[1 2 6 7]\n"
     ]
    }
   ],
   "source": [
    "print(np.setxor1d(arr1, arr2))"
   ]
  },
  {
   "cell_type": "markdown",
   "id": "148bce09",
   "metadata": {},
   "source": [
    "#### Marrix Operations"
   ]
  },
  {
   "cell_type": "code",
   "execution_count": 192,
   "id": "cf4e8fe6",
   "metadata": {
    "ExecuteTime": {
     "end_time": "2023-12-06T12:56:49.850171Z",
     "start_time": "2023-12-06T12:56:49.845498Z"
    }
   },
   "outputs": [],
   "source": [
    "arr1 = np.random.rand(5,5)\n",
    "arr2 = np.random.rand(5,5)"
   ]
  },
  {
   "cell_type": "markdown",
   "id": "7235b025",
   "metadata": {},
   "source": [
    "### matrix multiplication"
   ]
  },
  {
   "cell_type": "code",
   "execution_count": 193,
   "id": "5d4392d5",
   "metadata": {
    "ExecuteTime": {
     "end_time": "2023-12-06T12:56:50.433818Z",
     "start_time": "2023-12-06T12:56:50.378285Z"
    }
   },
   "outputs": [
    {
     "name": "stdout",
     "output_type": "stream",
     "text": [
      "[[1.45375639 1.80724016 0.78245476 0.35596937 1.79877107]\n",
      " [1.14916943 1.20497427 0.58589349 0.29514425 1.25081914]\n",
      " [1.00827961 1.17575771 0.67103423 0.37574566 1.4761156 ]\n",
      " [1.99913719 2.31358011 1.08152916 0.47427381 2.12204261]\n",
      " [1.16871287 1.32960063 0.68016892 0.32849846 1.45516753]]\n",
      "\n",
      "[[1.45375639 1.80724016 0.78245476 0.35596937 1.79877107]\n",
      " [1.14916943 1.20497427 0.58589349 0.29514425 1.25081914]\n",
      " [1.00827961 1.17575771 0.67103423 0.37574566 1.4761156 ]\n",
      " [1.99913719 2.31358011 1.08152916 0.47427381 2.12204261]\n",
      " [1.16871287 1.32960063 0.68016892 0.32849846 1.45516753]]\n",
      "\n",
      "[[1.45375639 1.80724016 0.78245476 0.35596937 1.79877107]\n",
      " [1.14916943 1.20497427 0.58589349 0.29514425 1.25081914]\n",
      " [1.00827961 1.17575771 0.67103423 0.37574566 1.4761156 ]\n",
      " [1.99913719 2.31358011 1.08152916 0.47427381 2.12204261]\n",
      " [1.16871287 1.32960063 0.68016892 0.32849846 1.45516753]]\n"
     ]
    }
   ],
   "source": [
    "print(arr1.dot(arr2))\n",
    "# or\n",
    "print()\n",
    "print(np.dot(arr1, arr2))\n",
    "# or\n",
    "print()\n",
    "print(arr1 @ arr2)"
   ]
  },
  {
   "cell_type": "markdown",
   "id": "29dcdaa1",
   "metadata": {},
   "source": [
    "### QR factorization "
   ]
  },
  {
   "cell_type": "code",
   "execution_count": 194,
   "id": "236c4092",
   "metadata": {
    "ExecuteTime": {
     "end_time": "2023-12-06T12:56:50.506594Z",
     "start_time": "2023-12-06T12:56:50.483400Z"
    }
   },
   "outputs": [
    {
     "name": "stdout",
     "output_type": "stream",
     "text": [
      "[[-0.53638643  0.66143858  0.12136378  0.11345379 -0.49717973]\n",
      " [-0.26482099 -0.72083332  0.18723198  0.10757718 -0.60302612]\n",
      " [-0.43890457 -0.13775026 -0.52909939  0.64316381  0.30786651]\n",
      " [-0.46873846 -0.11577138 -0.44922258 -0.74833309  0.07125937]\n",
      " [-0.47938135 -0.10256794  0.68444716 -0.04351192  0.53787743]]\n",
      "[[-1.40476893 -0.8607702  -0.74193744 -1.65898899 -0.97312731]\n",
      " [ 0.         -0.31279049 -0.27973645 -0.43903205 -0.80592437]\n",
      " [ 0.          0.         -0.3497934   0.07498183 -0.40957354]\n",
      " [ 0.          0.          0.          0.37246515 -0.23878074]\n",
      " [ 0.          0.          0.          0.         -0.28643955]]\n"
     ]
    }
   ],
   "source": [
    "arr = np.random.rand(5,5)\n",
    "\n",
    "q, r = np.linalg.qr(arr)\n",
    "print(q)\n",
    "print(r)"
   ]
  },
  {
   "cell_type": "markdown",
   "id": "af85d83b",
   "metadata": {},
   "source": [
    "### singular value decomposition (SVD)"
   ]
  },
  {
   "cell_type": "code",
   "execution_count": 195,
   "id": "3cfb5a1b",
   "metadata": {
    "ExecuteTime": {
     "end_time": "2023-12-06T12:56:50.581855Z",
     "start_time": "2023-12-06T12:56:50.563592Z"
    }
   },
   "outputs": [
    {
     "name": "stdout",
     "output_type": "stream",
     "text": [
      "[[-0.38264372  0.11184479 -0.3650495  -0.28597894  0.79122022]\n",
      " [-0.20520398 -0.38496384  0.5517084  -0.70932039 -0.04665406]\n",
      " [-0.46046092 -0.4550735  -0.6051722  -0.06030023 -0.45936298]\n",
      " [-0.62369321 -0.17627635  0.43716466  0.60663949  0.14425334]\n",
      " [-0.45875662  0.77532467  0.07078406 -0.20840597 -0.37412643]]\n",
      "[2.86041219 0.85935809 0.49850736 0.07490507 0.05718373]\n",
      "[[-0.57762707 -0.43974617 -0.43759946 -0.2920023  -0.44295783]\n",
      " [ 0.37000242 -0.27966836 -0.68361849 -0.12112389  0.55034405]\n",
      " [-0.56309337  0.60981436 -0.1358719  -0.29178512  0.45546962]\n",
      " [ 0.08942456  0.49903182 -0.5652042   0.51739831 -0.39473243]\n",
      " [-0.45207774 -0.32787591  0.05705705  0.73974596  0.37100339]]\n"
     ]
    }
   ],
   "source": [
    "arr = np.random.rand(5,5)\n",
    "\n",
    "u, s, v = np.linalg.svd(arr)\n",
    "print(u)\n",
    "print(s)\n",
    "print(v)"
   ]
  },
  {
   "cell_type": "markdown",
   "id": "0735ef44",
   "metadata": {},
   "source": [
    "### compute eigen values"
   ]
  },
  {
   "cell_type": "code",
   "execution_count": 196,
   "id": "06ab7cdf",
   "metadata": {
    "ExecuteTime": {
     "end_time": "2023-12-06T12:56:50.676341Z",
     "start_time": "2023-12-06T12:56:50.664822Z"
    }
   },
   "outputs": [
    {
     "name": "stdout",
     "output_type": "stream",
     "text": [
      "[ 2.31862775+0.j         -0.61840096+0.j         -0.03292631+0.j\n",
      "  0.31114279+0.04156932j  0.31114279-0.04156932j]\n"
     ]
    }
   ],
   "source": [
    "arr = np.random.rand(5,5)\n",
    "print(np.linalg.eigvals(arr))"
   ]
  },
  {
   "cell_type": "markdown",
   "id": "b3f7adfc",
   "metadata": {},
   "source": [
    "### eigen value decomposition"
   ]
  },
  {
   "cell_type": "code",
   "execution_count": 197,
   "id": "c6cf4543",
   "metadata": {
    "ExecuteTime": {
     "end_time": "2023-12-06T12:56:50.754338Z",
     "start_time": "2023-12-06T12:56:50.747339Z"
    }
   },
   "outputs": [
    {
     "name": "stdout",
     "output_type": "stream",
     "text": [
      "[ 2.34396056+0.j         -0.23128479+0.40757675j -0.23128479-0.40757675j\n",
      "  0.45113758+0.j          0.70501946+0.j        ]\n",
      "[[ 0.45217448+0.j          0.48398763+0.02270665j  0.48398763-0.02270665j\n",
      "  -0.55216607+0.j         -0.2260468 +0.j        ]\n",
      " [ 0.49628097+0.j         -0.65620931+0.j         -0.65620931-0.j\n",
      "  -0.45901954+0.j          0.06489418+0.j        ]\n",
      " [ 0.5828242 +0.j          0.15588691+0.3291169j   0.15588691-0.3291169j\n",
      "   0.24724055+0.j         -0.46066772+0.j        ]\n",
      " [ 0.30569071+0.j         -0.08280731-0.41842004j -0.08280731+0.41842004j\n",
      "   0.02178065+0.j         -0.28258263+0.j        ]\n",
      " [ 0.34075295+0.j          0.10728365+0.09256834j  0.10728365-0.09256834j\n",
      "   0.6502395 +0.j          0.80785141+0.j        ]]\n"
     ]
    }
   ],
   "source": [
    "arr = np.random.rand(5,5)\n",
    "\n",
    "w, v = np.linalg.eig(arr)\n",
    "print(w)    # eigen values\n",
    "print(v)    # eigen vectors"
   ]
  },
  {
   "cell_type": "markdown",
   "id": "07c69de5",
   "metadata": {},
   "source": [
    "### compute the trace & determinant"
   ]
  },
  {
   "cell_type": "code",
   "execution_count": 198,
   "id": "af2fdd4f",
   "metadata": {
    "ExecuteTime": {
     "end_time": "2023-12-06T12:56:50.828360Z",
     "start_time": "2023-12-06T12:56:50.823339Z"
    }
   },
   "outputs": [
    {
     "name": "stdout",
     "output_type": "stream",
     "text": [
      "3.0375480229277634\n"
     ]
    }
   ],
   "source": [
    "# notice this is not a function in linalg!!!\n",
    "print(np.trace(arr))    "
   ]
  },
  {
   "cell_type": "code",
   "execution_count": 199,
   "id": "ed16dc04",
   "metadata": {
    "ExecuteTime": {
     "end_time": "2023-12-06T12:56:50.875185Z",
     "start_time": "2023-12-06T12:56:50.868355Z"
    }
   },
   "outputs": [
    {
     "name": "stdout",
     "output_type": "stream",
     "text": [
      "0.16372515753835507\n"
     ]
    }
   ],
   "source": [
    "print(np.linalg.det(arr))"
   ]
  },
  {
   "cell_type": "markdown",
   "id": "08d3716a",
   "metadata": {},
   "source": [
    "### calculate the inverse/psedo-inverse of a matrix"
   ]
  },
  {
   "cell_type": "code",
   "execution_count": 200,
   "id": "9a740422",
   "metadata": {
    "ExecuteTime": {
     "end_time": "2023-12-06T12:56:50.951375Z",
     "start_time": "2023-12-06T12:56:50.947187Z"
    }
   },
   "outputs": [],
   "source": [
    "arr = np.random.rand(5,5)"
   ]
  },
  {
   "cell_type": "code",
   "execution_count": 201,
   "id": "e0d8797b",
   "metadata": {
    "ExecuteTime": {
     "end_time": "2023-12-06T12:56:50.997331Z",
     "start_time": "2023-12-06T12:56:50.992364Z"
    }
   },
   "outputs": [
    {
     "name": "stdout",
     "output_type": "stream",
     "text": [
      "[[ 1.04035802 -0.46536373  0.91715191 -1.14405192  0.15881509]\n",
      " [-0.42096611  1.3749777   0.81756401 -0.57602363 -1.66391529]\n",
      " [-2.62184769 -1.28941025  1.75327332 -0.10513423  1.03412217]\n",
      " [ 0.70709271  0.08685397 -0.33558693  1.25357478 -0.73220169]\n",
      " [ 1.51922021  1.05582409 -2.40319797  0.65840634  0.91597262]]\n"
     ]
    }
   ],
   "source": [
    "# compute the inverse of a matrix\n",
    "print(np.linalg.inv(arr))"
   ]
  },
  {
   "cell_type": "code",
   "execution_count": 202,
   "id": "e0c0c5cc",
   "metadata": {
    "ExecuteTime": {
     "end_time": "2023-12-06T12:56:51.043358Z",
     "start_time": "2023-12-06T12:56:51.037330Z"
    }
   },
   "outputs": [
    {
     "name": "stdout",
     "output_type": "stream",
     "text": [
      "[[ 1.04035802 -0.46536373  0.91715191 -1.14405192  0.15881509]\n",
      " [-0.42096611  1.3749777   0.81756401 -0.57602363 -1.66391529]\n",
      " [-2.62184769 -1.28941025  1.75327332 -0.10513423  1.03412217]\n",
      " [ 0.70709271  0.08685397 -0.33558693  1.25357478 -0.73220169]\n",
      " [ 1.51922021  1.05582409 -2.40319797  0.65840634  0.91597262]]\n"
     ]
    }
   ],
   "source": [
    "# compute the psudo-inverse of a matrix\n",
    "print(np.linalg.pinv(arr))"
   ]
  },
  {
   "cell_type": "markdown",
   "id": "8d656714",
   "metadata": {},
   "source": [
    "### solve a linear system"
   ]
  },
  {
   "cell_type": "code",
   "execution_count": 203,
   "id": "3efe52d8",
   "metadata": {
    "ExecuteTime": {
     "end_time": "2023-12-06T12:56:51.130324Z",
     "start_time": "2023-12-06T12:56:51.124343Z"
    }
   },
   "outputs": [
    {
     "name": "stdout",
     "output_type": "stream",
     "text": [
      "[-0.92104593 -5.84198965  4.80922571  1.22733056  3.63476295]\n"
     ]
    }
   ],
   "source": [
    "# solve a linear system in closed form\n",
    "y = [1,2,3,4,5]\n",
    "print(np.linalg.solve(arr, y))"
   ]
  }
 ],
 "metadata": {
  "kernelspec": {
   "display_name": "Python 3 (ipykernel)",
   "language": "python",
   "name": "python3"
  },
  "language_info": {
   "codemirror_mode": {
    "name": "ipython",
    "version": 3
   },
   "file_extension": ".py",
   "mimetype": "text/x-python",
   "name": "python",
   "nbconvert_exporter": "python",
   "pygments_lexer": "ipython3",
   "version": "3.11.5"
  },
  "varInspector": {
   "cols": {
    "lenName": 16,
    "lenType": 16,
    "lenVar": 40
   },
   "kernels_config": {
    "python": {
     "delete_cmd_postfix": "",
     "delete_cmd_prefix": "del ",
     "library": "var_list.py",
     "varRefreshCmd": "print(var_dic_list())"
    },
    "r": {
     "delete_cmd_postfix": ") ",
     "delete_cmd_prefix": "rm(",
     "library": "var_list.r",
     "varRefreshCmd": "cat(var_dic_list()) "
    }
   },
   "types_to_exclude": [
    "module",
    "function",
    "builtin_function_or_method",
    "instance",
    "_Feature"
   ],
   "window_display": false
  }
 },
 "nbformat": 4,
 "nbformat_minor": 5
}
