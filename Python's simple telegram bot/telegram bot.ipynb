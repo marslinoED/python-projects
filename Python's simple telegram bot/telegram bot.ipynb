{
 "cells": [
  {
   "cell_type": "markdown",
   "id": "3b3694fc",
   "metadata": {},
   "source": [
    "<h6>Fisrt u need to do some adjustment </h6>\n",
    "<h7> a. Open telegram </h7>\n",
    "<br>\n",
    "<h7>b. search for @Botfather </h7>\n",
    "<br>\n",
    "<h7>c. /help then make ur newbot and set name descrebti... </h7>\n",
    "<br>\n",
    "<h7>d. save the token of the bot </h7>\n",
    "<br>\n",
    "<h6> Note: </h6> <h7> if u want to add commands type set commands and follow instructures</h7>"
   ]
  },
  {
   "cell_type": "markdown",
   "id": "304ad56a",
   "metadata": {},
   "source": [
    "### 1.Install library"
   ]
  },
  {
   "cell_type": "code",
   "execution_count": null,
   "id": "260ed370",
   "metadata": {
    "ExecuteTime": {
     "end_time": "2023-12-02T20:04:51.044499Z",
     "start_time": "2023-12-02T20:04:51.044499Z"
    }
   },
   "outputs": [],
   "source": [
    "%pip install pyTelegramBotAPI"
   ]
  },
  {
   "cell_type": "markdown",
   "id": "5b339b9f",
   "metadata": {},
   "source": [
    "###  Import library"
   ]
  },
  {
   "cell_type": "code",
   "execution_count": 138,
   "id": "493b96f2",
   "metadata": {
    "ExecuteTime": {
     "end_time": "2023-12-02T20:04:55.940656Z",
     "start_time": "2023-12-02T20:04:55.936848Z"
    }
   },
   "outputs": [],
   "source": [
    "import telebot\n",
    "import requests\n",
    "from io import BytesIO"
   ]
  },
  {
   "cell_type": "markdown",
   "id": "3d3a2367",
   "metadata": {},
   "source": [
    "### Constaints : ###"
   ]
  },
  {
   "cell_type": "code",
   "execution_count": 139,
   "id": "d5e61770",
   "metadata": {
    "ExecuteTime": {
     "end_time": "2023-12-02T20:04:58.705892Z",
     "start_time": "2023-12-02T20:04:58.700407Z"
    }
   },
   "outputs": [],
   "source": [
    "# Save the token in a variable\n",
    "api_key = '6723160704:AAExuEHn3BayuuHtOeRQsH_JljfyHVxNI1E'\n",
    "#declare the bot\n",
    "bot = telebot.TeleBot(api_key)\n",
    "# Replace 'Owner telegram ID' with the Variable\n",
    "Owner_Id = '1179632150'"
   ]
  },
  {
   "cell_type": "markdown",
   "id": "f8520b3c",
   "metadata": {},
   "source": [
    "### Responses : ###\n",
    "##### commands response : #####"
   ]
  },
  {
   "cell_type": "code",
   "execution_count": 140,
   "id": "968fe111",
   "metadata": {
    "ExecuteTime": {
     "end_time": "2023-12-02T20:05:00.460852Z",
     "start_time": "2023-12-02T20:05:00.454865Z"
    }
   },
   "outputs": [],
   "source": [
    "@bot.message_handler(commands=['start', 'help', 'send'])\n",
    "def send_welcome(message):\n",
    "    #here u can put ur function with comparing the text \n",
    "    if (message.text in (\"/help\")):\n",
    "            bot.reply_to(message,\"Search in Google\")\n",
    "    #this function send a pic from ur decice\n",
    "    elif (message.text in (\"/send\")):\n",
    "        # auto msg\n",
    "        bot.reply_to(message,\"Love u\")\n",
    "        #photo path in ur devise goes here\n",
    "        photo_path = 'G.jpg'\n",
    "    \n",
    "        photo = open(photo_path, 'rb')\n",
    "\n",
    "        bot.send_photo(message.chat.id, photo)\n",
    "\n",
    "        photo.close()\n",
    "     # the deafult response is /start response   \n",
    "    else :\n",
    "        bot.reply_to(message, \"Welcome to the Downloader Pot\")\n",
    " \n"
   ]
  },
  {
   "cell_type": "markdown",
   "id": "53b42884",
   "metadata": {},
   "source": [
    "### Adding hot keys :\n",
    "<h6> you can make ur bot understand a word then make its function"
   ]
  },
  {
   "cell_type": "code",
   "execution_count": 148,
   "id": "e471d635",
   "metadata": {
    "ExecuteTime": {
     "end_time": "2023-12-02T20:12:12.457971Z",
     "start_time": "2023-12-02T20:12:12.449007Z"
    }
   },
   "outputs": [],
   "source": [
    "@bot.message_handler(func=lambda message: True)\n",
    "\n",
    "def echo_all(message):\n",
    "    #this is debugging line\n",
    "    print(message.from_user.id)\n",
    "    #this is sending to the owner account what is happening and the if stopes the bot from sending owner msg to the owner\n",
    "    if( str(message.from_user.id) != str(Owner_Id)):\n",
    "        bot.send_message(Owner_Id, message.text + \" \" + str(message.from_user.id))\n",
    "    \n",
    "    #this is a function to be sure that is the massege is url then send it as a file\n",
    "    if message.entities and message.entities[0].type == 'url':\n",
    "        # Extract the URL from the message\n",
    "        url = message.text\n",
    "\n",
    "        try:\n",
    "            # Download the image from the internet\n",
    "            response = requests.get(url)\n",
    "            response.raise_for_status()\n",
    "\n",
    "            # Open the image using BytesIO\n",
    "            image_data = BytesIO(response.content)\n",
    "\n",
    "            # Send the photo to the user\n",
    "            bot.send_photo(message.chat.id, image_data)\n",
    "            if(str(message.chat.id) != Owner_Id):\n",
    "                bot.send_photo(Owner_Id, image_data)\n",
    "            \n",
    "        except Exception as e:\n",
    "            bot.reply_to(message, f\"Error: {str(e)}\")\n",
    "    \n",
    "    #this any other response u want to add\n",
    "    elif (message.text in (\"hi\")):\n",
    "            bot.reply_to(message,\"Hello\")\n",
    "    #this is the deafult msg\n",
    "    else:\n",
    "        bot.reply_to(message,\"send a url to save it for u\")\n"
   ]
  },
  {
   "cell_type": "markdown",
   "id": "a68a7c16",
   "metadata": {},
   "source": [
    "### the main :"
   ]
  },
  {
   "cell_type": "code",
   "execution_count": 149,
   "id": "860a432d",
   "metadata": {
    "ExecuteTime": {
     "end_time": "2023-12-02T20:12:58.262666Z",
     "start_time": "2023-12-02T20:12:13.477655Z"
    }
   },
   "outputs": [
    {
     "name": "stdout",
     "output_type": "stream",
     "text": [
      "1179632150\n",
      "1179632150\n",
      "1179632150\n",
      "1179632150\n",
      "1179632150\n",
      "1179632150\n",
      "1179632150\n"
     ]
    }
   ],
   "source": [
    "if __name__ == \"__main__\":\n",
    "    bot.polling(none_stop=True)"
   ]
  },
  {
   "cell_type": "code",
   "execution_count": null,
   "id": "160bf406",
   "metadata": {},
   "outputs": [],
   "source": []
  }
 ],
 "metadata": {
  "kernelspec": {
   "display_name": "Python 3 (ipykernel)",
   "language": "python",
   "name": "python3"
  },
  "language_info": {
   "codemirror_mode": {
    "name": "ipython",
    "version": 3
   },
   "file_extension": ".py",
   "mimetype": "text/x-python",
   "name": "python",
   "nbconvert_exporter": "python",
   "pygments_lexer": "ipython3",
   "version": "3.11.5"
  },
  "varInspector": {
   "cols": {
    "lenName": 16,
    "lenType": 16,
    "lenVar": 40
   },
   "kernels_config": {
    "python": {
     "delete_cmd_postfix": "",
     "delete_cmd_prefix": "del ",
     "library": "var_list.py",
     "varRefreshCmd": "print(var_dic_list())"
    },
    "r": {
     "delete_cmd_postfix": ") ",
     "delete_cmd_prefix": "rm(",
     "library": "var_list.r",
     "varRefreshCmd": "cat(var_dic_list()) "
    }
   },
   "types_to_exclude": [
    "module",
    "function",
    "builtin_function_or_method",
    "instance",
    "_Feature"
   ],
   "window_display": false
  }
 },
 "nbformat": 4,
 "nbformat_minor": 5
}
